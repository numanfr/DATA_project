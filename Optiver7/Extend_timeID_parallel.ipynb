{
 "cells": [
  {
   "cell_type": "code",
   "execution_count": 5,
   "metadata": {},
   "outputs": [],
   "source": [
    "import os   \n",
    "import glob\n",
    "import json\n",
    "import numpy as np\n",
    "import pandas as pd\n",
    "import multiprocessing\n",
    "from joblib import Parallel, delayed\n",
    "\n",
    "pd.options.display.max_rows = 300"
   ]
  },
  {
   "cell_type": "markdown",
   "metadata": {},
   "source": [
    "### Goals of this notebook: \n",
    "1. First fill seconds for each time id until 600 secs and attempt to write to file for entire book\n",
    "2. Then denormalize prices with multipliers for each stock and time id (maybe write to file also or just for each stock...)\n",
    "3. After second filling, use time chains to extend each time id to include previous seconds and reindex seconds of time id\n",
    "    a. Best to keep it in OG format in case we do not / or want to include more features"
   ]
  },
  {
   "cell_type": "code",
   "execution_count": 6,
   "metadata": {},
   "outputs": [],
   "source": [
    "DENORM = pd.read_csv(\"denormalize_multipliers.csv\")\n",
    "BETA = pd.read_csv(\"all_times.csv\")\n",
    "\n",
    "def fill_seconds(df):\n",
    "    df = df.reset_index(drop=True)\n",
    "    index_range = pd.Index(range(600), name='seconds_in_bucket')\n",
    "    df = df.set_index('seconds_in_bucket').reindex(index_range)\n",
    "    \n",
    "    # Forward fill & back fill seconds\n",
    "    df = df.ffill().reset_index()\n",
    "    return df.bfill().iloc[:600]\n",
    "\n",
    "def denormalize(df):\n",
    "    global DENORM\n",
    "\n",
    "    df = df.merge(DENORM, how=\"left\")\n",
    "    df['ask_price1'] *= df['multiplier']\n",
    "    df['ask_price2'] *= df['multiplier']\n",
    "    df['bid_price1'] *= df['multiplier']\n",
    "    df['bid_price2'] *= df['multiplier']\n",
    "    \n",
    "    return df.drop(['multiplier'], axis=1)"
   ]
  },
  {
   "cell_type": "markdown",
   "metadata": {},
   "source": [
    "### Denorm and Fill One Stock"
   ]
  },
  {
   "cell_type": "code",
   "execution_count": 8,
   "metadata": {},
   "outputs": [
    {
     "data": {
      "text/html": [
       "<div>\n",
       "<style scoped>\n",
       "    .dataframe tbody tr th:only-of-type {\n",
       "        vertical-align: middle;\n",
       "    }\n",
       "\n",
       "    .dataframe tbody tr th {\n",
       "        vertical-align: top;\n",
       "    }\n",
       "\n",
       "    .dataframe thead th {\n",
       "        text-align: right;\n",
       "    }\n",
       "</style>\n",
       "<table border=\"1\" class=\"dataframe\">\n",
       "  <thead>\n",
       "    <tr style=\"text-align: right;\">\n",
       "      <th></th>\n",
       "      <th>seconds_in_bucket</th>\n",
       "      <th>time_id</th>\n",
       "      <th>bid_price1</th>\n",
       "      <th>ask_price1</th>\n",
       "      <th>bid_price2</th>\n",
       "      <th>ask_price2</th>\n",
       "      <th>bid_size1</th>\n",
       "      <th>ask_size1</th>\n",
       "      <th>bid_size2</th>\n",
       "      <th>ask_size2</th>\n",
       "      <th>stock_id</th>\n",
       "    </tr>\n",
       "  </thead>\n",
       "  <tbody>\n",
       "    <tr>\n",
       "      <th>0</th>\n",
       "      <td>0</td>\n",
       "      <td>5</td>\n",
       "      <td>194.074070</td>\n",
       "      <td>194.244438</td>\n",
       "      <td>194.064031</td>\n",
       "      <td>194.254477</td>\n",
       "      <td>3.0</td>\n",
       "      <td>226.0</td>\n",
       "      <td>2.0</td>\n",
       "      <td>100.0</td>\n",
       "      <td>0</td>\n",
       "    </tr>\n",
       "    <tr>\n",
       "      <th>1</th>\n",
       "      <td>1</td>\n",
       "      <td>5</td>\n",
       "      <td>194.074070</td>\n",
       "      <td>194.244438</td>\n",
       "      <td>194.064031</td>\n",
       "      <td>194.254477</td>\n",
       "      <td>3.0</td>\n",
       "      <td>100.0</td>\n",
       "      <td>2.0</td>\n",
       "      <td>100.0</td>\n",
       "      <td>0</td>\n",
       "    </tr>\n",
       "    <tr>\n",
       "      <th>2</th>\n",
       "      <td>2</td>\n",
       "      <td>5</td>\n",
       "      <td>194.074070</td>\n",
       "      <td>194.244438</td>\n",
       "      <td>194.064031</td>\n",
       "      <td>194.254477</td>\n",
       "      <td>3.0</td>\n",
       "      <td>100.0</td>\n",
       "      <td>2.0</td>\n",
       "      <td>100.0</td>\n",
       "      <td>0</td>\n",
       "    </tr>\n",
       "    <tr>\n",
       "      <th>3</th>\n",
       "      <td>3</td>\n",
       "      <td>5</td>\n",
       "      <td>194.074070</td>\n",
       "      <td>194.244438</td>\n",
       "      <td>194.064031</td>\n",
       "      <td>194.254477</td>\n",
       "      <td>3.0</td>\n",
       "      <td>100.0</td>\n",
       "      <td>2.0</td>\n",
       "      <td>100.0</td>\n",
       "      <td>0</td>\n",
       "    </tr>\n",
       "    <tr>\n",
       "      <th>4</th>\n",
       "      <td>4</td>\n",
       "      <td>5</td>\n",
       "      <td>194.074070</td>\n",
       "      <td>194.244438</td>\n",
       "      <td>194.064031</td>\n",
       "      <td>194.254477</td>\n",
       "      <td>3.0</td>\n",
       "      <td>100.0</td>\n",
       "      <td>2.0</td>\n",
       "      <td>100.0</td>\n",
       "      <td>0</td>\n",
       "    </tr>\n",
       "    <tr>\n",
       "      <th>...</th>\n",
       "      <td>...</td>\n",
       "      <td>...</td>\n",
       "      <td>...</td>\n",
       "      <td>...</td>\n",
       "      <td>...</td>\n",
       "      <td>...</td>\n",
       "      <td>...</td>\n",
       "      <td>...</td>\n",
       "      <td>...</td>\n",
       "      <td>...</td>\n",
       "      <td>...</td>\n",
       "    </tr>\n",
       "    <tr>\n",
       "      <th>2297995</th>\n",
       "      <td>595</td>\n",
       "      <td>32767</td>\n",
       "      <td>208.408205</td>\n",
       "      <td>208.508225</td>\n",
       "      <td>208.388205</td>\n",
       "      <td>208.548225</td>\n",
       "      <td>92.0</td>\n",
       "      <td>90.0</td>\n",
       "      <td>26.0</td>\n",
       "      <td>28.0</td>\n",
       "      <td>0</td>\n",
       "    </tr>\n",
       "    <tr>\n",
       "      <th>2297996</th>\n",
       "      <td>596</td>\n",
       "      <td>32767</td>\n",
       "      <td>208.408205</td>\n",
       "      <td>208.508225</td>\n",
       "      <td>208.388205</td>\n",
       "      <td>208.548225</td>\n",
       "      <td>92.0</td>\n",
       "      <td>90.0</td>\n",
       "      <td>26.0</td>\n",
       "      <td>28.0</td>\n",
       "      <td>0</td>\n",
       "    </tr>\n",
       "    <tr>\n",
       "      <th>2297997</th>\n",
       "      <td>597</td>\n",
       "      <td>32767</td>\n",
       "      <td>208.408205</td>\n",
       "      <td>208.508225</td>\n",
       "      <td>208.388205</td>\n",
       "      <td>208.548225</td>\n",
       "      <td>92.0</td>\n",
       "      <td>90.0</td>\n",
       "      <td>26.0</td>\n",
       "      <td>28.0</td>\n",
       "      <td>0</td>\n",
       "    </tr>\n",
       "    <tr>\n",
       "      <th>2297998</th>\n",
       "      <td>598</td>\n",
       "      <td>32767</td>\n",
       "      <td>208.408205</td>\n",
       "      <td>208.508225</td>\n",
       "      <td>208.388205</td>\n",
       "      <td>208.548225</td>\n",
       "      <td>92.0</td>\n",
       "      <td>90.0</td>\n",
       "      <td>26.0</td>\n",
       "      <td>28.0</td>\n",
       "      <td>0</td>\n",
       "    </tr>\n",
       "    <tr>\n",
       "      <th>2297999</th>\n",
       "      <td>599</td>\n",
       "      <td>32767</td>\n",
       "      <td>208.408205</td>\n",
       "      <td>208.508225</td>\n",
       "      <td>208.388205</td>\n",
       "      <td>208.548225</td>\n",
       "      <td>92.0</td>\n",
       "      <td>90.0</td>\n",
       "      <td>26.0</td>\n",
       "      <td>28.0</td>\n",
       "      <td>0</td>\n",
       "    </tr>\n",
       "  </tbody>\n",
       "</table>\n",
       "<p>2298000 rows × 11 columns</p>\n",
       "</div>"
      ],
      "text/plain": [
       "         seconds_in_bucket  time_id  bid_price1  ask_price1  bid_price2  \\\n",
       "0                        0        5  194.074070  194.244438  194.064031   \n",
       "1                        1        5  194.074070  194.244438  194.064031   \n",
       "2                        2        5  194.074070  194.244438  194.064031   \n",
       "3                        3        5  194.074070  194.244438  194.064031   \n",
       "4                        4        5  194.074070  194.244438  194.064031   \n",
       "...                    ...      ...         ...         ...         ...   \n",
       "2297995                595    32767  208.408205  208.508225  208.388205   \n",
       "2297996                596    32767  208.408205  208.508225  208.388205   \n",
       "2297997                597    32767  208.408205  208.508225  208.388205   \n",
       "2297998                598    32767  208.408205  208.508225  208.388205   \n",
       "2297999                599    32767  208.408205  208.508225  208.388205   \n",
       "\n",
       "         ask_price2  bid_size1  ask_size1  bid_size2  ask_size2  stock_id  \n",
       "0        194.254477        3.0      226.0        2.0      100.0         0  \n",
       "1        194.254477        3.0      100.0        2.0      100.0         0  \n",
       "2        194.254477        3.0      100.0        2.0      100.0         0  \n",
       "3        194.254477        3.0      100.0        2.0      100.0         0  \n",
       "4        194.254477        3.0      100.0        2.0      100.0         0  \n",
       "...             ...        ...        ...        ...        ...       ...  \n",
       "2297995  208.548225       92.0       90.0       26.0       28.0         0  \n",
       "2297996  208.548225       92.0       90.0       26.0       28.0         0  \n",
       "2297997  208.548225       92.0       90.0       26.0       28.0         0  \n",
       "2297998  208.548225       92.0       90.0       26.0       28.0         0  \n",
       "2297999  208.548225       92.0       90.0       26.0       28.0         0  \n",
       "\n",
       "[2298000 rows x 11 columns]"
      ]
     },
     "execution_count": 8,
     "metadata": {},
     "output_type": "execute_result"
    }
   ],
   "source": [
    "df = pd.read_csv(\"individual_book_train/stock_0.csv\")\n",
    "denorm = denormalize(df)\n",
    "dfill = denorm.groupby(\"time_id\").apply(fill_seconds)\n",
    "dfill = dfill.reset_index(drop=True).astype({'time_id': int, 'stock_id': int})\n",
    "dfill"
   ]
  },
  {
   "cell_type": "markdown",
   "metadata": {},
   "source": [
    "### Parallelize for All Stocks"
   ]
  },
  {
   "cell_type": "code",
   "execution_count": 4,
   "metadata": {},
   "outputs": [
    {
     "name": "stderr",
     "output_type": "stream",
     "text": [
      "[Parallel(n_jobs=-1)]: Using backend LokyBackend with 16 concurrent workers.\n",
      "[Parallel(n_jobs=-1)]: Done  18 tasks      | elapsed:   37.8s\n",
      "[Parallel(n_jobs=-1)]: Done 112 out of 112 | elapsed:  2.5min finished\n"
     ]
    }
   ],
   "source": [
    "def denorm_fill(sid, df):\n",
    "    file = f\"individual_book_train/stock_{sid}.csv\" \n",
    "    df = pd.concat([df, denormalize(pd.read_csv(file))])\n",
    "    return df.groupby(\"time_id\").apply(fill_seconds).reset_index(drop=True).astype({'time_id': int, 'stock_id': int})\n",
    "\n",
    "def denorm_fill_stocks():\n",
    "    ret = pd.DataFrame()\n",
    "    ret = Parallel(n_jobs=-1, verbose=1) (\n",
    "        delayed(denorm_fill)(sid, ret) for sid in pd.read_csv(\"all_times.csv\").stock_id.unique()\n",
    "    )  \n",
    "    ret = pd.concat(ret, ignore_index=True)\n",
    "    return ret\n",
    "\n",
    "dfill_all = denorm_fill_stocks()"
   ]
  },
  {
   "cell_type": "code",
   "execution_count": 7,
   "metadata": {},
   "outputs": [
    {
     "data": {
      "text/html": [
       "<div>\n",
       "<style scoped>\n",
       "    .dataframe tbody tr th:only-of-type {\n",
       "        vertical-align: middle;\n",
       "    }\n",
       "\n",
       "    .dataframe tbody tr th {\n",
       "        vertical-align: top;\n",
       "    }\n",
       "\n",
       "    .dataframe thead th {\n",
       "        text-align: right;\n",
       "    }\n",
       "</style>\n",
       "<table border=\"1\" class=\"dataframe\">\n",
       "  <thead>\n",
       "    <tr style=\"text-align: right;\">\n",
       "      <th></th>\n",
       "      <th>seconds_in_bucket</th>\n",
       "      <th>time_id</th>\n",
       "      <th>bid_price1</th>\n",
       "      <th>ask_price1</th>\n",
       "      <th>bid_price2</th>\n",
       "      <th>ask_price2</th>\n",
       "      <th>bid_size1</th>\n",
       "      <th>ask_size1</th>\n",
       "      <th>bid_size2</th>\n",
       "      <th>ask_size2</th>\n",
       "      <th>stock_id</th>\n",
       "    </tr>\n",
       "  </thead>\n",
       "  <tbody>\n",
       "    <tr>\n",
       "      <th>0</th>\n",
       "      <td>0</td>\n",
       "      <td>5</td>\n",
       "      <td>194.074070</td>\n",
       "      <td>194.244438</td>\n",
       "      <td>194.064031</td>\n",
       "      <td>194.254477</td>\n",
       "      <td>3.0</td>\n",
       "      <td>226.0</td>\n",
       "      <td>2.0</td>\n",
       "      <td>100.0</td>\n",
       "      <td>0</td>\n",
       "    </tr>\n",
       "    <tr>\n",
       "      <th>1</th>\n",
       "      <td>1</td>\n",
       "      <td>5</td>\n",
       "      <td>194.074070</td>\n",
       "      <td>194.244438</td>\n",
       "      <td>194.064031</td>\n",
       "      <td>194.254477</td>\n",
       "      <td>3.0</td>\n",
       "      <td>100.0</td>\n",
       "      <td>2.0</td>\n",
       "      <td>100.0</td>\n",
       "      <td>0</td>\n",
       "    </tr>\n",
       "    <tr>\n",
       "      <th>2</th>\n",
       "      <td>2</td>\n",
       "      <td>5</td>\n",
       "      <td>194.074070</td>\n",
       "      <td>194.244438</td>\n",
       "      <td>194.064031</td>\n",
       "      <td>194.254477</td>\n",
       "      <td>3.0</td>\n",
       "      <td>100.0</td>\n",
       "      <td>2.0</td>\n",
       "      <td>100.0</td>\n",
       "      <td>0</td>\n",
       "    </tr>\n",
       "    <tr>\n",
       "      <th>3</th>\n",
       "      <td>3</td>\n",
       "      <td>5</td>\n",
       "      <td>194.074070</td>\n",
       "      <td>194.244438</td>\n",
       "      <td>194.064031</td>\n",
       "      <td>194.254477</td>\n",
       "      <td>3.0</td>\n",
       "      <td>100.0</td>\n",
       "      <td>2.0</td>\n",
       "      <td>100.0</td>\n",
       "      <td>0</td>\n",
       "    </tr>\n",
       "    <tr>\n",
       "      <th>4</th>\n",
       "      <td>4</td>\n",
       "      <td>5</td>\n",
       "      <td>194.074070</td>\n",
       "      <td>194.244438</td>\n",
       "      <td>194.064031</td>\n",
       "      <td>194.254477</td>\n",
       "      <td>3.0</td>\n",
       "      <td>100.0</td>\n",
       "      <td>2.0</td>\n",
       "      <td>100.0</td>\n",
       "      <td>0</td>\n",
       "    </tr>\n",
       "    <tr>\n",
       "      <th>...</th>\n",
       "      <td>...</td>\n",
       "      <td>...</td>\n",
       "      <td>...</td>\n",
       "      <td>...</td>\n",
       "      <td>...</td>\n",
       "      <td>...</td>\n",
       "      <td>...</td>\n",
       "      <td>...</td>\n",
       "      <td>...</td>\n",
       "      <td>...</td>\n",
       "      <td>...</td>\n",
       "    </tr>\n",
       "    <tr>\n",
       "      <th>257359195</th>\n",
       "      <td>595</td>\n",
       "      <td>32767</td>\n",
       "      <td>194.781392</td>\n",
       "      <td>194.871618</td>\n",
       "      <td>194.771365</td>\n",
       "      <td>194.881651</td>\n",
       "      <td>101.0</td>\n",
       "      <td>100.0</td>\n",
       "      <td>1.0</td>\n",
       "      <td>100.0</td>\n",
       "      <td>126</td>\n",
       "    </tr>\n",
       "    <tr>\n",
       "      <th>257359196</th>\n",
       "      <td>596</td>\n",
       "      <td>32767</td>\n",
       "      <td>194.781392</td>\n",
       "      <td>194.871618</td>\n",
       "      <td>194.771365</td>\n",
       "      <td>194.881651</td>\n",
       "      <td>101.0</td>\n",
       "      <td>100.0</td>\n",
       "      <td>1.0</td>\n",
       "      <td>100.0</td>\n",
       "      <td>126</td>\n",
       "    </tr>\n",
       "    <tr>\n",
       "      <th>257359197</th>\n",
       "      <td>597</td>\n",
       "      <td>32767</td>\n",
       "      <td>194.781392</td>\n",
       "      <td>194.871618</td>\n",
       "      <td>194.771365</td>\n",
       "      <td>194.881651</td>\n",
       "      <td>101.0</td>\n",
       "      <td>100.0</td>\n",
       "      <td>1.0</td>\n",
       "      <td>100.0</td>\n",
       "      <td>126</td>\n",
       "    </tr>\n",
       "    <tr>\n",
       "      <th>257359198</th>\n",
       "      <td>598</td>\n",
       "      <td>32767</td>\n",
       "      <td>194.781392</td>\n",
       "      <td>194.871618</td>\n",
       "      <td>194.771365</td>\n",
       "      <td>194.881651</td>\n",
       "      <td>101.0</td>\n",
       "      <td>100.0</td>\n",
       "      <td>1.0</td>\n",
       "      <td>100.0</td>\n",
       "      <td>126</td>\n",
       "    </tr>\n",
       "    <tr>\n",
       "      <th>257359199</th>\n",
       "      <td>599</td>\n",
       "      <td>32767</td>\n",
       "      <td>194.781392</td>\n",
       "      <td>194.871618</td>\n",
       "      <td>194.771365</td>\n",
       "      <td>194.881651</td>\n",
       "      <td>101.0</td>\n",
       "      <td>100.0</td>\n",
       "      <td>1.0</td>\n",
       "      <td>100.0</td>\n",
       "      <td>126</td>\n",
       "    </tr>\n",
       "  </tbody>\n",
       "</table>\n",
       "<p>257359200 rows × 11 columns</p>\n",
       "</div>"
      ],
      "text/plain": [
       "           seconds_in_bucket  time_id  bid_price1  ask_price1  bid_price2  \\\n",
       "0                          0        5  194.074070  194.244438  194.064031   \n",
       "1                          1        5  194.074070  194.244438  194.064031   \n",
       "2                          2        5  194.074070  194.244438  194.064031   \n",
       "3                          3        5  194.074070  194.244438  194.064031   \n",
       "4                          4        5  194.074070  194.244438  194.064031   \n",
       "...                      ...      ...         ...         ...         ...   \n",
       "257359195                595    32767  194.781392  194.871618  194.771365   \n",
       "257359196                596    32767  194.781392  194.871618  194.771365   \n",
       "257359197                597    32767  194.781392  194.871618  194.771365   \n",
       "257359198                598    32767  194.781392  194.871618  194.771365   \n",
       "257359199                599    32767  194.781392  194.871618  194.771365   \n",
       "\n",
       "           ask_price2  bid_size1  ask_size1  bid_size2  ask_size2  stock_id  \n",
       "0          194.254477        3.0      226.0        2.0      100.0         0  \n",
       "1          194.254477        3.0      100.0        2.0      100.0         0  \n",
       "2          194.254477        3.0      100.0        2.0      100.0         0  \n",
       "3          194.254477        3.0      100.0        2.0      100.0         0  \n",
       "4          194.254477        3.0      100.0        2.0      100.0         0  \n",
       "...               ...        ...        ...        ...        ...       ...  \n",
       "257359195  194.881651      101.0      100.0        1.0      100.0       126  \n",
       "257359196  194.881651      101.0      100.0        1.0      100.0       126  \n",
       "257359197  194.881651      101.0      100.0        1.0      100.0       126  \n",
       "257359198  194.881651      101.0      100.0        1.0      100.0       126  \n",
       "257359199  194.881651      101.0      100.0        1.0      100.0       126  \n",
       "\n",
       "[257359200 rows x 11 columns]"
      ]
     },
     "execution_count": 7,
     "metadata": {},
     "output_type": "execute_result"
    }
   ],
   "source": [
    "dfill_all"
   ]
  },
  {
   "cell_type": "markdown",
   "metadata": {},
   "source": [
    "### Save to File"
   ]
  },
  {
   "cell_type": "code",
   "execution_count": 8,
   "metadata": {},
   "outputs": [],
   "source": [
    "#dfill_all.to_hdf('dnorm_fill.h5', key='df', mode='w')"
   ]
  },
  {
   "cell_type": "markdown",
   "metadata": {},
   "source": [
    "#### Reread data:"
   ]
  },
  {
   "cell_type": "code",
   "execution_count": 9,
   "metadata": {},
   "outputs": [
    {
     "data": {
      "text/html": [
       "<div>\n",
       "<style scoped>\n",
       "    .dataframe tbody tr th:only-of-type {\n",
       "        vertical-align: middle;\n",
       "    }\n",
       "\n",
       "    .dataframe tbody tr th {\n",
       "        vertical-align: top;\n",
       "    }\n",
       "\n",
       "    .dataframe thead th {\n",
       "        text-align: right;\n",
       "    }\n",
       "</style>\n",
       "<table border=\"1\" class=\"dataframe\">\n",
       "  <thead>\n",
       "    <tr style=\"text-align: right;\">\n",
       "      <th></th>\n",
       "      <th>seconds_in_bucket</th>\n",
       "      <th>time_id</th>\n",
       "      <th>bid_price1</th>\n",
       "      <th>ask_price1</th>\n",
       "      <th>bid_price2</th>\n",
       "      <th>ask_price2</th>\n",
       "      <th>bid_size1</th>\n",
       "      <th>ask_size1</th>\n",
       "      <th>bid_size2</th>\n",
       "      <th>ask_size2</th>\n",
       "      <th>stock_id</th>\n",
       "    </tr>\n",
       "  </thead>\n",
       "  <tbody>\n",
       "    <tr>\n",
       "      <th>0</th>\n",
       "      <td>0</td>\n",
       "      <td>5</td>\n",
       "      <td>194.074070</td>\n",
       "      <td>194.244438</td>\n",
       "      <td>194.064031</td>\n",
       "      <td>194.254477</td>\n",
       "      <td>3.0</td>\n",
       "      <td>226.0</td>\n",
       "      <td>2.0</td>\n",
       "      <td>100.0</td>\n",
       "      <td>0</td>\n",
       "    </tr>\n",
       "    <tr>\n",
       "      <th>1</th>\n",
       "      <td>1</td>\n",
       "      <td>5</td>\n",
       "      <td>194.074070</td>\n",
       "      <td>194.244438</td>\n",
       "      <td>194.064031</td>\n",
       "      <td>194.254477</td>\n",
       "      <td>3.0</td>\n",
       "      <td>100.0</td>\n",
       "      <td>2.0</td>\n",
       "      <td>100.0</td>\n",
       "      <td>0</td>\n",
       "    </tr>\n",
       "    <tr>\n",
       "      <th>2</th>\n",
       "      <td>2</td>\n",
       "      <td>5</td>\n",
       "      <td>194.074070</td>\n",
       "      <td>194.244438</td>\n",
       "      <td>194.064031</td>\n",
       "      <td>194.254477</td>\n",
       "      <td>3.0</td>\n",
       "      <td>100.0</td>\n",
       "      <td>2.0</td>\n",
       "      <td>100.0</td>\n",
       "      <td>0</td>\n",
       "    </tr>\n",
       "    <tr>\n",
       "      <th>3</th>\n",
       "      <td>3</td>\n",
       "      <td>5</td>\n",
       "      <td>194.074070</td>\n",
       "      <td>194.244438</td>\n",
       "      <td>194.064031</td>\n",
       "      <td>194.254477</td>\n",
       "      <td>3.0</td>\n",
       "      <td>100.0</td>\n",
       "      <td>2.0</td>\n",
       "      <td>100.0</td>\n",
       "      <td>0</td>\n",
       "    </tr>\n",
       "    <tr>\n",
       "      <th>4</th>\n",
       "      <td>4</td>\n",
       "      <td>5</td>\n",
       "      <td>194.074070</td>\n",
       "      <td>194.244438</td>\n",
       "      <td>194.064031</td>\n",
       "      <td>194.254477</td>\n",
       "      <td>3.0</td>\n",
       "      <td>100.0</td>\n",
       "      <td>2.0</td>\n",
       "      <td>100.0</td>\n",
       "      <td>0</td>\n",
       "    </tr>\n",
       "    <tr>\n",
       "      <th>...</th>\n",
       "      <td>...</td>\n",
       "      <td>...</td>\n",
       "      <td>...</td>\n",
       "      <td>...</td>\n",
       "      <td>...</td>\n",
       "      <td>...</td>\n",
       "      <td>...</td>\n",
       "      <td>...</td>\n",
       "      <td>...</td>\n",
       "      <td>...</td>\n",
       "      <td>...</td>\n",
       "    </tr>\n",
       "    <tr>\n",
       "      <th>257359195</th>\n",
       "      <td>595</td>\n",
       "      <td>32767</td>\n",
       "      <td>194.781392</td>\n",
       "      <td>194.871618</td>\n",
       "      <td>194.771365</td>\n",
       "      <td>194.881651</td>\n",
       "      <td>101.0</td>\n",
       "      <td>100.0</td>\n",
       "      <td>1.0</td>\n",
       "      <td>100.0</td>\n",
       "      <td>126</td>\n",
       "    </tr>\n",
       "    <tr>\n",
       "      <th>257359196</th>\n",
       "      <td>596</td>\n",
       "      <td>32767</td>\n",
       "      <td>194.781392</td>\n",
       "      <td>194.871618</td>\n",
       "      <td>194.771365</td>\n",
       "      <td>194.881651</td>\n",
       "      <td>101.0</td>\n",
       "      <td>100.0</td>\n",
       "      <td>1.0</td>\n",
       "      <td>100.0</td>\n",
       "      <td>126</td>\n",
       "    </tr>\n",
       "    <tr>\n",
       "      <th>257359197</th>\n",
       "      <td>597</td>\n",
       "      <td>32767</td>\n",
       "      <td>194.781392</td>\n",
       "      <td>194.871618</td>\n",
       "      <td>194.771365</td>\n",
       "      <td>194.881651</td>\n",
       "      <td>101.0</td>\n",
       "      <td>100.0</td>\n",
       "      <td>1.0</td>\n",
       "      <td>100.0</td>\n",
       "      <td>126</td>\n",
       "    </tr>\n",
       "    <tr>\n",
       "      <th>257359198</th>\n",
       "      <td>598</td>\n",
       "      <td>32767</td>\n",
       "      <td>194.781392</td>\n",
       "      <td>194.871618</td>\n",
       "      <td>194.771365</td>\n",
       "      <td>194.881651</td>\n",
       "      <td>101.0</td>\n",
       "      <td>100.0</td>\n",
       "      <td>1.0</td>\n",
       "      <td>100.0</td>\n",
       "      <td>126</td>\n",
       "    </tr>\n",
       "    <tr>\n",
       "      <th>257359199</th>\n",
       "      <td>599</td>\n",
       "      <td>32767</td>\n",
       "      <td>194.781392</td>\n",
       "      <td>194.871618</td>\n",
       "      <td>194.771365</td>\n",
       "      <td>194.881651</td>\n",
       "      <td>101.0</td>\n",
       "      <td>100.0</td>\n",
       "      <td>1.0</td>\n",
       "      <td>100.0</td>\n",
       "      <td>126</td>\n",
       "    </tr>\n",
       "  </tbody>\n",
       "</table>\n",
       "<p>257359200 rows × 11 columns</p>\n",
       "</div>"
      ],
      "text/plain": [
       "           seconds_in_bucket  time_id  bid_price1  ask_price1  bid_price2  \\\n",
       "0                          0        5  194.074070  194.244438  194.064031   \n",
       "1                          1        5  194.074070  194.244438  194.064031   \n",
       "2                          2        5  194.074070  194.244438  194.064031   \n",
       "3                          3        5  194.074070  194.244438  194.064031   \n",
       "4                          4        5  194.074070  194.244438  194.064031   \n",
       "...                      ...      ...         ...         ...         ...   \n",
       "257359195                595    32767  194.781392  194.871618  194.771365   \n",
       "257359196                596    32767  194.781392  194.871618  194.771365   \n",
       "257359197                597    32767  194.781392  194.871618  194.771365   \n",
       "257359198                598    32767  194.781392  194.871618  194.771365   \n",
       "257359199                599    32767  194.781392  194.871618  194.771365   \n",
       "\n",
       "           ask_price2  bid_size1  ask_size1  bid_size2  ask_size2  stock_id  \n",
       "0          194.254477        3.0      226.0        2.0      100.0         0  \n",
       "1          194.254477        3.0      100.0        2.0      100.0         0  \n",
       "2          194.254477        3.0      100.0        2.0      100.0         0  \n",
       "3          194.254477        3.0      100.0        2.0      100.0         0  \n",
       "4          194.254477        3.0      100.0        2.0      100.0         0  \n",
       "...               ...        ...        ...        ...        ...       ...  \n",
       "257359195  194.881651      101.0      100.0        1.0      100.0       126  \n",
       "257359196  194.881651      101.0      100.0        1.0      100.0       126  \n",
       "257359197  194.881651      101.0      100.0        1.0      100.0       126  \n",
       "257359198  194.881651      101.0      100.0        1.0      100.0       126  \n",
       "257359199  194.881651      101.0      100.0        1.0      100.0       126  \n",
       "\n",
       "[257359200 rows x 11 columns]"
      ]
     },
     "execution_count": 9,
     "metadata": {},
     "output_type": "execute_result"
    }
   ],
   "source": [
    "df = pd.read_hdf('dnorm_fill.h5', 'df') \n",
    "df"
   ]
  },
  {
   "cell_type": "markdown",
   "metadata": {},
   "source": [
    "### Extend timeids to include only one previous timeid for now...\n",
    "\n",
    "* say: tid_prev2 -> tid_prev -> tid_curr\n",
    "* only include tid_prev -> tid_curr\n",
    "* use chains dict to find time ordered tid-pairs\n",
    "* replace tids with extended tids for all stocks"
   ]
  },
  {
   "cell_type": "code",
   "execution_count": 40,
   "metadata": {},
   "outputs": [
    {
     "data": {
      "text/html": [
       "<div>\n",
       "<style scoped>\n",
       "    .dataframe tbody tr th:only-of-type {\n",
       "        vertical-align: middle;\n",
       "    }\n",
       "\n",
       "    .dataframe tbody tr th {\n",
       "        vertical-align: top;\n",
       "    }\n",
       "\n",
       "    .dataframe thead th {\n",
       "        text-align: right;\n",
       "    }\n",
       "</style>\n",
       "<table border=\"1\" class=\"dataframe\">\n",
       "  <thead>\n",
       "    <tr style=\"text-align: right;\">\n",
       "      <th></th>\n",
       "      <th>seconds_in_bucket</th>\n",
       "      <th>time_id</th>\n",
       "      <th>bid_price1</th>\n",
       "      <th>ask_price1</th>\n",
       "      <th>bid_price2</th>\n",
       "      <th>ask_price2</th>\n",
       "      <th>bid_size1</th>\n",
       "      <th>ask_size1</th>\n",
       "      <th>bid_size2</th>\n",
       "      <th>ask_size2</th>\n",
       "      <th>stock_id</th>\n",
       "    </tr>\n",
       "  </thead>\n",
       "  <tbody>\n",
       "    <tr>\n",
       "      <th>0</th>\n",
       "      <td>0</td>\n",
       "      <td>5</td>\n",
       "      <td>194.074070</td>\n",
       "      <td>194.244438</td>\n",
       "      <td>194.064031</td>\n",
       "      <td>194.254477</td>\n",
       "      <td>3.0</td>\n",
       "      <td>226.0</td>\n",
       "      <td>2.0</td>\n",
       "      <td>100.0</td>\n",
       "      <td>0</td>\n",
       "    </tr>\n",
       "    <tr>\n",
       "      <th>1</th>\n",
       "      <td>1</td>\n",
       "      <td>5</td>\n",
       "      <td>194.074070</td>\n",
       "      <td>194.244438</td>\n",
       "      <td>194.064031</td>\n",
       "      <td>194.254477</td>\n",
       "      <td>3.0</td>\n",
       "      <td>100.0</td>\n",
       "      <td>2.0</td>\n",
       "      <td>100.0</td>\n",
       "      <td>0</td>\n",
       "    </tr>\n",
       "    <tr>\n",
       "      <th>2</th>\n",
       "      <td>2</td>\n",
       "      <td>5</td>\n",
       "      <td>194.074070</td>\n",
       "      <td>194.244438</td>\n",
       "      <td>194.064031</td>\n",
       "      <td>194.254477</td>\n",
       "      <td>3.0</td>\n",
       "      <td>100.0</td>\n",
       "      <td>2.0</td>\n",
       "      <td>100.0</td>\n",
       "      <td>0</td>\n",
       "    </tr>\n",
       "    <tr>\n",
       "      <th>3</th>\n",
       "      <td>3</td>\n",
       "      <td>5</td>\n",
       "      <td>194.074070</td>\n",
       "      <td>194.244438</td>\n",
       "      <td>194.064031</td>\n",
       "      <td>194.254477</td>\n",
       "      <td>3.0</td>\n",
       "      <td>100.0</td>\n",
       "      <td>2.0</td>\n",
       "      <td>100.0</td>\n",
       "      <td>0</td>\n",
       "    </tr>\n",
       "    <tr>\n",
       "      <th>4</th>\n",
       "      <td>4</td>\n",
       "      <td>5</td>\n",
       "      <td>194.074070</td>\n",
       "      <td>194.244438</td>\n",
       "      <td>194.064031</td>\n",
       "      <td>194.254477</td>\n",
       "      <td>3.0</td>\n",
       "      <td>100.0</td>\n",
       "      <td>2.0</td>\n",
       "      <td>100.0</td>\n",
       "      <td>0</td>\n",
       "    </tr>\n",
       "    <tr>\n",
       "      <th>...</th>\n",
       "      <td>...</td>\n",
       "      <td>...</td>\n",
       "      <td>...</td>\n",
       "      <td>...</td>\n",
       "      <td>...</td>\n",
       "      <td>...</td>\n",
       "      <td>...</td>\n",
       "      <td>...</td>\n",
       "      <td>...</td>\n",
       "      <td>...</td>\n",
       "      <td>...</td>\n",
       "    </tr>\n",
       "    <tr>\n",
       "      <th>595</th>\n",
       "      <td>595</td>\n",
       "      <td>5</td>\n",
       "      <td>194.404806</td>\n",
       "      <td>194.525078</td>\n",
       "      <td>194.384767</td>\n",
       "      <td>194.535097</td>\n",
       "      <td>100.0</td>\n",
       "      <td>3.0</td>\n",
       "      <td>26.0</td>\n",
       "      <td>3.0</td>\n",
       "      <td>0</td>\n",
       "    </tr>\n",
       "    <tr>\n",
       "      <th>596</th>\n",
       "      <td>596</td>\n",
       "      <td>5</td>\n",
       "      <td>194.404806</td>\n",
       "      <td>194.525078</td>\n",
       "      <td>194.384767</td>\n",
       "      <td>194.535097</td>\n",
       "      <td>100.0</td>\n",
       "      <td>3.0</td>\n",
       "      <td>26.0</td>\n",
       "      <td>3.0</td>\n",
       "      <td>0</td>\n",
       "    </tr>\n",
       "    <tr>\n",
       "      <th>597</th>\n",
       "      <td>597</td>\n",
       "      <td>5</td>\n",
       "      <td>194.404806</td>\n",
       "      <td>194.525078</td>\n",
       "      <td>194.384767</td>\n",
       "      <td>194.535097</td>\n",
       "      <td>100.0</td>\n",
       "      <td>3.0</td>\n",
       "      <td>26.0</td>\n",
       "      <td>3.0</td>\n",
       "      <td>0</td>\n",
       "    </tr>\n",
       "    <tr>\n",
       "      <th>598</th>\n",
       "      <td>598</td>\n",
       "      <td>5</td>\n",
       "      <td>194.404806</td>\n",
       "      <td>194.525078</td>\n",
       "      <td>194.384767</td>\n",
       "      <td>194.535097</td>\n",
       "      <td>100.0</td>\n",
       "      <td>3.0</td>\n",
       "      <td>26.0</td>\n",
       "      <td>3.0</td>\n",
       "      <td>0</td>\n",
       "    </tr>\n",
       "    <tr>\n",
       "      <th>599</th>\n",
       "      <td>599</td>\n",
       "      <td>5</td>\n",
       "      <td>194.404806</td>\n",
       "      <td>194.525078</td>\n",
       "      <td>194.384767</td>\n",
       "      <td>194.535097</td>\n",
       "      <td>100.0</td>\n",
       "      <td>3.0</td>\n",
       "      <td>26.0</td>\n",
       "      <td>3.0</td>\n",
       "      <td>0</td>\n",
       "    </tr>\n",
       "  </tbody>\n",
       "</table>\n",
       "<p>600 rows × 11 columns</p>\n",
       "</div>"
      ],
      "text/plain": [
       "     seconds_in_bucket  time_id  bid_price1  ask_price1  bid_price2  \\\n",
       "0                    0        5  194.074070  194.244438  194.064031   \n",
       "1                    1        5  194.074070  194.244438  194.064031   \n",
       "2                    2        5  194.074070  194.244438  194.064031   \n",
       "3                    3        5  194.074070  194.244438  194.064031   \n",
       "4                    4        5  194.074070  194.244438  194.064031   \n",
       "..                 ...      ...         ...         ...         ...   \n",
       "595                595        5  194.404806  194.525078  194.384767   \n",
       "596                596        5  194.404806  194.525078  194.384767   \n",
       "597                597        5  194.404806  194.525078  194.384767   \n",
       "598                598        5  194.404806  194.525078  194.384767   \n",
       "599                599        5  194.404806  194.525078  194.384767   \n",
       "\n",
       "     ask_price2  bid_size1  ask_size1  bid_size2  ask_size2  stock_id  \n",
       "0    194.254477        3.0      226.0        2.0      100.0         0  \n",
       "1    194.254477        3.0      100.0        2.0      100.0         0  \n",
       "2    194.254477        3.0      100.0        2.0      100.0         0  \n",
       "3    194.254477        3.0      100.0        2.0      100.0         0  \n",
       "4    194.254477        3.0      100.0        2.0      100.0         0  \n",
       "..          ...        ...        ...        ...        ...       ...  \n",
       "595  194.535097      100.0        3.0       26.0        3.0         0  \n",
       "596  194.535097      100.0        3.0       26.0        3.0         0  \n",
       "597  194.535097      100.0        3.0       26.0        3.0         0  \n",
       "598  194.535097      100.0        3.0       26.0        3.0         0  \n",
       "599  194.535097      100.0        3.0       26.0        3.0         0  \n",
       "\n",
       "[600 rows x 11 columns]"
      ]
     },
     "execution_count": 40,
     "metadata": {},
     "output_type": "execute_result"
    }
   ],
   "source": [
    "df0 = df[df['stock_id']==0]\n",
    "df05 = df0[df0['time_id']==5]\n",
    "df05"
   ]
  },
  {
   "cell_type": "markdown",
   "metadata": {},
   "source": [
    "### Parallelize TimeID Extend"
   ]
  },
  {
   "cell_type": "code",
   "execution_count": 10,
   "metadata": {},
   "outputs": [],
   "source": [
    "def chain_time(df, time_id, end = 77):  # default is just one extended timeid\n",
    "    ret = df.query(f'time_id == {time_id}')\n",
    "    if time_id in chains:\n",
    "        for i, prev_id in enumerate(chains[time_id]):  # chains[5]: 1205, 31471\n",
    "            if i == end:     \n",
    "                return ret\n",
    "            pre = df.query(f'time_id == {prev_id}') \n",
    "            ret = pd.concat([pre, ret], axis=0, ignore_index=True)\n",
    "            ret['time_id'] = time_id\n",
    "            ret['seconds_in_bucket'] = np.arange(0, (600)*(i+2), 1, dtype=int)\n",
    "            \n",
    "    return ret\n",
    "    \n",
    "def extend_times(df, end=77):\n",
    "    ret = pd.DataFrame()\n",
    "    ret = Parallel(n_jobs=-1, verbose=1)(\n",
    "        delayed(chain_time)(df, time_id, end) for time_id in df.time_id.unique()\n",
    "    )\n",
    "    ret = pd.concat(ret, ignore_index=True)\n",
    "    \n",
    "    return ret\n",
    "\n",
    "def get_chains_dict(filename=\"chains.json\"):   \n",
    "    with open(filename) as f:\n",
    "        return {int(chain[-1]): [int(c) for c in chain[-2::-1]] for chain in json.load(f)} \n",
    "\n",
    "chains = get_chains_dict()"
   ]
  },
  {
   "cell_type": "markdown",
   "metadata": {},
   "source": [
    "### Test functions on Stock 0 "
   ]
  },
  {
   "cell_type": "code",
   "execution_count": 12,
   "metadata": {},
   "outputs": [
    {
     "data": {
      "text/html": [
       "<div>\n",
       "<style scoped>\n",
       "    .dataframe tbody tr th:only-of-type {\n",
       "        vertical-align: middle;\n",
       "    }\n",
       "\n",
       "    .dataframe tbody tr th {\n",
       "        vertical-align: top;\n",
       "    }\n",
       "\n",
       "    .dataframe thead th {\n",
       "        text-align: right;\n",
       "    }\n",
       "</style>\n",
       "<table border=\"1\" class=\"dataframe\">\n",
       "  <thead>\n",
       "    <tr style=\"text-align: right;\">\n",
       "      <th></th>\n",
       "      <th>seconds_in_bucket</th>\n",
       "      <th>time_id</th>\n",
       "      <th>bid_price1</th>\n",
       "      <th>ask_price1</th>\n",
       "      <th>bid_price2</th>\n",
       "      <th>ask_price2</th>\n",
       "      <th>bid_size1</th>\n",
       "      <th>ask_size1</th>\n",
       "      <th>bid_size2</th>\n",
       "      <th>ask_size2</th>\n",
       "      <th>stock_id</th>\n",
       "    </tr>\n",
       "  </thead>\n",
       "  <tbody>\n",
       "    <tr>\n",
       "      <th>0</th>\n",
       "      <td>0</td>\n",
       "      <td>5</td>\n",
       "      <td>194.561528</td>\n",
       "      <td>194.741637</td>\n",
       "      <td>194.481474</td>\n",
       "      <td>194.751647</td>\n",
       "      <td>125.0</td>\n",
       "      <td>100.0</td>\n",
       "      <td>100.0</td>\n",
       "      <td>27.0</td>\n",
       "      <td>0</td>\n",
       "    </tr>\n",
       "    <tr>\n",
       "      <th>1</th>\n",
       "      <td>1</td>\n",
       "      <td>5</td>\n",
       "      <td>194.561528</td>\n",
       "      <td>194.741637</td>\n",
       "      <td>194.481474</td>\n",
       "      <td>194.751647</td>\n",
       "      <td>125.0</td>\n",
       "      <td>100.0</td>\n",
       "      <td>100.0</td>\n",
       "      <td>27.0</td>\n",
       "      <td>0</td>\n",
       "    </tr>\n",
       "    <tr>\n",
       "      <th>2</th>\n",
       "      <td>2</td>\n",
       "      <td>5</td>\n",
       "      <td>194.471462</td>\n",
       "      <td>194.681608</td>\n",
       "      <td>194.461454</td>\n",
       "      <td>194.691618</td>\n",
       "      <td>100.0</td>\n",
       "      <td>100.0</td>\n",
       "      <td>1.0</td>\n",
       "      <td>100.0</td>\n",
       "      <td>0</td>\n",
       "    </tr>\n",
       "    <tr>\n",
       "      <th>3</th>\n",
       "      <td>3</td>\n",
       "      <td>5</td>\n",
       "      <td>194.461454</td>\n",
       "      <td>194.681608</td>\n",
       "      <td>194.421423</td>\n",
       "      <td>194.691618</td>\n",
       "      <td>1.0</td>\n",
       "      <td>200.0</td>\n",
       "      <td>1.0</td>\n",
       "      <td>100.0</td>\n",
       "      <td>0</td>\n",
       "    </tr>\n",
       "    <tr>\n",
       "      <th>4</th>\n",
       "      <td>4</td>\n",
       "      <td>5</td>\n",
       "      <td>194.461454</td>\n",
       "      <td>194.681608</td>\n",
       "      <td>194.421423</td>\n",
       "      <td>194.691618</td>\n",
       "      <td>1.0</td>\n",
       "      <td>200.0</td>\n",
       "      <td>1.0</td>\n",
       "      <td>100.0</td>\n",
       "      <td>0</td>\n",
       "    </tr>\n",
       "    <tr>\n",
       "      <th>...</th>\n",
       "      <td>...</td>\n",
       "      <td>...</td>\n",
       "      <td>...</td>\n",
       "      <td>...</td>\n",
       "      <td>...</td>\n",
       "      <td>...</td>\n",
       "      <td>...</td>\n",
       "      <td>...</td>\n",
       "      <td>...</td>\n",
       "      <td>...</td>\n",
       "      <td>...</td>\n",
       "    </tr>\n",
       "    <tr>\n",
       "      <th>1195</th>\n",
       "      <td>1195</td>\n",
       "      <td>5</td>\n",
       "      <td>194.404806</td>\n",
       "      <td>194.525078</td>\n",
       "      <td>194.384767</td>\n",
       "      <td>194.535097</td>\n",
       "      <td>100.0</td>\n",
       "      <td>3.0</td>\n",
       "      <td>26.0</td>\n",
       "      <td>3.0</td>\n",
       "      <td>0</td>\n",
       "    </tr>\n",
       "    <tr>\n",
       "      <th>1196</th>\n",
       "      <td>1196</td>\n",
       "      <td>5</td>\n",
       "      <td>194.404806</td>\n",
       "      <td>194.525078</td>\n",
       "      <td>194.384767</td>\n",
       "      <td>194.535097</td>\n",
       "      <td>100.0</td>\n",
       "      <td>3.0</td>\n",
       "      <td>26.0</td>\n",
       "      <td>3.0</td>\n",
       "      <td>0</td>\n",
       "    </tr>\n",
       "    <tr>\n",
       "      <th>1197</th>\n",
       "      <td>1197</td>\n",
       "      <td>5</td>\n",
       "      <td>194.404806</td>\n",
       "      <td>194.525078</td>\n",
       "      <td>194.384767</td>\n",
       "      <td>194.535097</td>\n",
       "      <td>100.0</td>\n",
       "      <td>3.0</td>\n",
       "      <td>26.0</td>\n",
       "      <td>3.0</td>\n",
       "      <td>0</td>\n",
       "    </tr>\n",
       "    <tr>\n",
       "      <th>1198</th>\n",
       "      <td>1198</td>\n",
       "      <td>5</td>\n",
       "      <td>194.404806</td>\n",
       "      <td>194.525078</td>\n",
       "      <td>194.384767</td>\n",
       "      <td>194.535097</td>\n",
       "      <td>100.0</td>\n",
       "      <td>3.0</td>\n",
       "      <td>26.0</td>\n",
       "      <td>3.0</td>\n",
       "      <td>0</td>\n",
       "    </tr>\n",
       "    <tr>\n",
       "      <th>1199</th>\n",
       "      <td>1199</td>\n",
       "      <td>5</td>\n",
       "      <td>194.404806</td>\n",
       "      <td>194.525078</td>\n",
       "      <td>194.384767</td>\n",
       "      <td>194.535097</td>\n",
       "      <td>100.0</td>\n",
       "      <td>3.0</td>\n",
       "      <td>26.0</td>\n",
       "      <td>3.0</td>\n",
       "      <td>0</td>\n",
       "    </tr>\n",
       "  </tbody>\n",
       "</table>\n",
       "<p>1200 rows × 11 columns</p>\n",
       "</div>"
      ],
      "text/plain": [
       "      seconds_in_bucket  time_id  bid_price1  ask_price1  bid_price2  \\\n",
       "0                     0        5  194.561528  194.741637  194.481474   \n",
       "1                     1        5  194.561528  194.741637  194.481474   \n",
       "2                     2        5  194.471462  194.681608  194.461454   \n",
       "3                     3        5  194.461454  194.681608  194.421423   \n",
       "4                     4        5  194.461454  194.681608  194.421423   \n",
       "...                 ...      ...         ...         ...         ...   \n",
       "1195               1195        5  194.404806  194.525078  194.384767   \n",
       "1196               1196        5  194.404806  194.525078  194.384767   \n",
       "1197               1197        5  194.404806  194.525078  194.384767   \n",
       "1198               1198        5  194.404806  194.525078  194.384767   \n",
       "1199               1199        5  194.404806  194.525078  194.384767   \n",
       "\n",
       "      ask_price2  bid_size1  ask_size1  bid_size2  ask_size2  stock_id  \n",
       "0     194.751647      125.0      100.0      100.0       27.0         0  \n",
       "1     194.751647      125.0      100.0      100.0       27.0         0  \n",
       "2     194.691618      100.0      100.0        1.0      100.0         0  \n",
       "3     194.691618        1.0      200.0        1.0      100.0         0  \n",
       "4     194.691618        1.0      200.0        1.0      100.0         0  \n",
       "...          ...        ...        ...        ...        ...       ...  \n",
       "1195  194.535097      100.0        3.0       26.0        3.0         0  \n",
       "1196  194.535097      100.0        3.0       26.0        3.0         0  \n",
       "1197  194.535097      100.0        3.0       26.0        3.0         0  \n",
       "1198  194.535097      100.0        3.0       26.0        3.0         0  \n",
       "1199  194.535097      100.0        3.0       26.0        3.0         0  \n",
       "\n",
       "[1200 rows x 11 columns]"
      ]
     },
     "execution_count": 12,
     "metadata": {},
     "output_type": "execute_result"
    }
   ],
   "source": [
    "df0 = df[df['stock_id'] == 0]\n",
    "\n",
    "chain_time(df0, 5, end = 1)"
   ]
  },
  {
   "cell_type": "code",
   "execution_count": 132,
   "metadata": {},
   "outputs": [
    {
     "name": "stderr",
     "output_type": "stream",
     "text": [
      "[Parallel(n_jobs=-1)]: Using backend LokyBackend with 16 concurrent workers.\n",
      "[Parallel(n_jobs=-1)]: Done  18 tasks      | elapsed:    4.0s\n",
      "[Parallel(n_jobs=-1)]: Done 168 tasks      | elapsed:    5.5s\n",
      "[Parallel(n_jobs=-1)]: Done 418 tasks      | elapsed:    8.1s\n",
      "[Parallel(n_jobs=-1)]: Done 768 tasks      | elapsed:   12.0s\n",
      "[Parallel(n_jobs=-1)]: Done 1218 tasks      | elapsed:   16.6s\n",
      "[Parallel(n_jobs=-1)]: Done 1768 tasks      | elapsed:   22.0s\n",
      "[Parallel(n_jobs=-1)]: Done 2418 tasks      | elapsed:   28.5s\n",
      "[Parallel(n_jobs=-1)]: Done 3168 tasks      | elapsed:   36.5s\n",
      "[Parallel(n_jobs=-1)]: Done 3830 out of 3830 | elapsed:   43.5s finished\n"
     ]
    },
    {
     "data": {
      "text/html": [
       "<div>\n",
       "<style scoped>\n",
       "    .dataframe tbody tr th:only-of-type {\n",
       "        vertical-align: middle;\n",
       "    }\n",
       "\n",
       "    .dataframe tbody tr th {\n",
       "        vertical-align: top;\n",
       "    }\n",
       "\n",
       "    .dataframe thead th {\n",
       "        text-align: right;\n",
       "    }\n",
       "</style>\n",
       "<table border=\"1\" class=\"dataframe\">\n",
       "  <thead>\n",
       "    <tr style=\"text-align: right;\">\n",
       "      <th></th>\n",
       "      <th>seconds_in_bucket</th>\n",
       "      <th>time_id</th>\n",
       "      <th>bid_price1</th>\n",
       "      <th>ask_price1</th>\n",
       "      <th>bid_price2</th>\n",
       "      <th>ask_price2</th>\n",
       "      <th>bid_size1</th>\n",
       "      <th>ask_size1</th>\n",
       "      <th>bid_size2</th>\n",
       "      <th>ask_size2</th>\n",
       "      <th>stock_id</th>\n",
       "    </tr>\n",
       "  </thead>\n",
       "  <tbody>\n",
       "    <tr>\n",
       "      <th>0</th>\n",
       "      <td>0</td>\n",
       "      <td>5</td>\n",
       "      <td>194.074070</td>\n",
       "      <td>194.244438</td>\n",
       "      <td>194.064031</td>\n",
       "      <td>194.254477</td>\n",
       "      <td>3.0</td>\n",
       "      <td>226.0</td>\n",
       "      <td>2.0</td>\n",
       "      <td>100.0</td>\n",
       "      <td>0</td>\n",
       "    </tr>\n",
       "    <tr>\n",
       "      <th>1</th>\n",
       "      <td>1</td>\n",
       "      <td>5</td>\n",
       "      <td>194.074070</td>\n",
       "      <td>194.244438</td>\n",
       "      <td>194.064031</td>\n",
       "      <td>194.254477</td>\n",
       "      <td>3.0</td>\n",
       "      <td>100.0</td>\n",
       "      <td>2.0</td>\n",
       "      <td>100.0</td>\n",
       "      <td>0</td>\n",
       "    </tr>\n",
       "    <tr>\n",
       "      <th>2</th>\n",
       "      <td>2</td>\n",
       "      <td>5</td>\n",
       "      <td>194.074070</td>\n",
       "      <td>194.244438</td>\n",
       "      <td>194.064031</td>\n",
       "      <td>194.254477</td>\n",
       "      <td>3.0</td>\n",
       "      <td>100.0</td>\n",
       "      <td>2.0</td>\n",
       "      <td>100.0</td>\n",
       "      <td>0</td>\n",
       "    </tr>\n",
       "    <tr>\n",
       "      <th>3</th>\n",
       "      <td>3</td>\n",
       "      <td>5</td>\n",
       "      <td>194.074070</td>\n",
       "      <td>194.244438</td>\n",
       "      <td>194.064031</td>\n",
       "      <td>194.254477</td>\n",
       "      <td>3.0</td>\n",
       "      <td>100.0</td>\n",
       "      <td>2.0</td>\n",
       "      <td>100.0</td>\n",
       "      <td>0</td>\n",
       "    </tr>\n",
       "    <tr>\n",
       "      <th>4</th>\n",
       "      <td>4</td>\n",
       "      <td>5</td>\n",
       "      <td>194.074070</td>\n",
       "      <td>194.244438</td>\n",
       "      <td>194.064031</td>\n",
       "      <td>194.254477</td>\n",
       "      <td>3.0</td>\n",
       "      <td>100.0</td>\n",
       "      <td>2.0</td>\n",
       "      <td>100.0</td>\n",
       "      <td>0</td>\n",
       "    </tr>\n",
       "    <tr>\n",
       "      <th>...</th>\n",
       "      <td>...</td>\n",
       "      <td>...</td>\n",
       "      <td>...</td>\n",
       "      <td>...</td>\n",
       "      <td>...</td>\n",
       "      <td>...</td>\n",
       "      <td>...</td>\n",
       "      <td>...</td>\n",
       "      <td>...</td>\n",
       "      <td>...</td>\n",
       "      <td>...</td>\n",
       "    </tr>\n",
       "    <tr>\n",
       "      <th>2297995</th>\n",
       "      <td>595</td>\n",
       "      <td>32767</td>\n",
       "      <td>208.408205</td>\n",
       "      <td>208.508225</td>\n",
       "      <td>208.388205</td>\n",
       "      <td>208.548225</td>\n",
       "      <td>92.0</td>\n",
       "      <td>90.0</td>\n",
       "      <td>26.0</td>\n",
       "      <td>28.0</td>\n",
       "      <td>0</td>\n",
       "    </tr>\n",
       "    <tr>\n",
       "      <th>2297996</th>\n",
       "      <td>596</td>\n",
       "      <td>32767</td>\n",
       "      <td>208.408205</td>\n",
       "      <td>208.508225</td>\n",
       "      <td>208.388205</td>\n",
       "      <td>208.548225</td>\n",
       "      <td>92.0</td>\n",
       "      <td>90.0</td>\n",
       "      <td>26.0</td>\n",
       "      <td>28.0</td>\n",
       "      <td>0</td>\n",
       "    </tr>\n",
       "    <tr>\n",
       "      <th>2297997</th>\n",
       "      <td>597</td>\n",
       "      <td>32767</td>\n",
       "      <td>208.408205</td>\n",
       "      <td>208.508225</td>\n",
       "      <td>208.388205</td>\n",
       "      <td>208.548225</td>\n",
       "      <td>92.0</td>\n",
       "      <td>90.0</td>\n",
       "      <td>26.0</td>\n",
       "      <td>28.0</td>\n",
       "      <td>0</td>\n",
       "    </tr>\n",
       "    <tr>\n",
       "      <th>2297998</th>\n",
       "      <td>598</td>\n",
       "      <td>32767</td>\n",
       "      <td>208.408205</td>\n",
       "      <td>208.508225</td>\n",
       "      <td>208.388205</td>\n",
       "      <td>208.548225</td>\n",
       "      <td>92.0</td>\n",
       "      <td>90.0</td>\n",
       "      <td>26.0</td>\n",
       "      <td>28.0</td>\n",
       "      <td>0</td>\n",
       "    </tr>\n",
       "    <tr>\n",
       "      <th>2297999</th>\n",
       "      <td>599</td>\n",
       "      <td>32767</td>\n",
       "      <td>208.408205</td>\n",
       "      <td>208.508225</td>\n",
       "      <td>208.388205</td>\n",
       "      <td>208.548225</td>\n",
       "      <td>92.0</td>\n",
       "      <td>90.0</td>\n",
       "      <td>26.0</td>\n",
       "      <td>28.0</td>\n",
       "      <td>0</td>\n",
       "    </tr>\n",
       "  </tbody>\n",
       "</table>\n",
       "<p>2298000 rows × 11 columns</p>\n",
       "</div>"
      ],
      "text/plain": [
       "         seconds_in_bucket  time_id  bid_price1  ask_price1  bid_price2  \\\n",
       "0                        0        5  194.074070  194.244438  194.064031   \n",
       "1                        1        5  194.074070  194.244438  194.064031   \n",
       "2                        2        5  194.074070  194.244438  194.064031   \n",
       "3                        3        5  194.074070  194.244438  194.064031   \n",
       "4                        4        5  194.074070  194.244438  194.064031   \n",
       "...                    ...      ...         ...         ...         ...   \n",
       "2297995                595    32767  208.408205  208.508225  208.388205   \n",
       "2297996                596    32767  208.408205  208.508225  208.388205   \n",
       "2297997                597    32767  208.408205  208.508225  208.388205   \n",
       "2297998                598    32767  208.408205  208.508225  208.388205   \n",
       "2297999                599    32767  208.408205  208.508225  208.388205   \n",
       "\n",
       "         ask_price2  bid_size1  ask_size1  bid_size2  ask_size2  stock_id  \n",
       "0        194.254477        3.0      226.0        2.0      100.0         0  \n",
       "1        194.254477        3.0      100.0        2.0      100.0         0  \n",
       "2        194.254477        3.0      100.0        2.0      100.0         0  \n",
       "3        194.254477        3.0      100.0        2.0      100.0         0  \n",
       "4        194.254477        3.0      100.0        2.0      100.0         0  \n",
       "...             ...        ...        ...        ...        ...       ...  \n",
       "2297995  208.548225       92.0       90.0       26.0       28.0         0  \n",
       "2297996  208.548225       92.0       90.0       26.0       28.0         0  \n",
       "2297997  208.548225       92.0       90.0       26.0       28.0         0  \n",
       "2297998  208.548225       92.0       90.0       26.0       28.0         0  \n",
       "2297999  208.548225       92.0       90.0       26.0       28.0         0  \n",
       "\n",
       "[2298000 rows x 11 columns]"
      ]
     },
     "execution_count": 132,
     "metadata": {},
     "output_type": "execute_result"
    }
   ],
   "source": [
    "x = extend_times(df0, end=0)\n",
    "x.reset_index(drop=True)"
   ]
  },
  {
   "cell_type": "code",
   "execution_count": 133,
   "metadata": {},
   "outputs": [
    {
     "data": {
      "text/html": [
       "<div>\n",
       "<style scoped>\n",
       "    .dataframe tbody tr th:only-of-type {\n",
       "        vertical-align: middle;\n",
       "    }\n",
       "\n",
       "    .dataframe tbody tr th {\n",
       "        vertical-align: top;\n",
       "    }\n",
       "\n",
       "    .dataframe thead th {\n",
       "        text-align: right;\n",
       "    }\n",
       "</style>\n",
       "<table border=\"1\" class=\"dataframe\">\n",
       "  <thead>\n",
       "    <tr style=\"text-align: right;\">\n",
       "      <th></th>\n",
       "      <th>seconds_in_bucket</th>\n",
       "      <th>time_id</th>\n",
       "      <th>bid_price1</th>\n",
       "      <th>ask_price1</th>\n",
       "      <th>bid_price2</th>\n",
       "      <th>ask_price2</th>\n",
       "      <th>bid_size1</th>\n",
       "      <th>ask_size1</th>\n",
       "      <th>bid_size2</th>\n",
       "      <th>ask_size2</th>\n",
       "      <th>stock_id</th>\n",
       "    </tr>\n",
       "  </thead>\n",
       "  <tbody>\n",
       "    <tr>\n",
       "      <th>0</th>\n",
       "      <td>0</td>\n",
       "      <td>5</td>\n",
       "      <td>194.074070</td>\n",
       "      <td>194.244438</td>\n",
       "      <td>194.064031</td>\n",
       "      <td>194.254477</td>\n",
       "      <td>3.0</td>\n",
       "      <td>226.0</td>\n",
       "      <td>2.0</td>\n",
       "      <td>100.0</td>\n",
       "      <td>0</td>\n",
       "    </tr>\n",
       "    <tr>\n",
       "      <th>1</th>\n",
       "      <td>1</td>\n",
       "      <td>5</td>\n",
       "      <td>194.074070</td>\n",
       "      <td>194.244438</td>\n",
       "      <td>194.064031</td>\n",
       "      <td>194.254477</td>\n",
       "      <td>3.0</td>\n",
       "      <td>100.0</td>\n",
       "      <td>2.0</td>\n",
       "      <td>100.0</td>\n",
       "      <td>0</td>\n",
       "    </tr>\n",
       "    <tr>\n",
       "      <th>2</th>\n",
       "      <td>2</td>\n",
       "      <td>5</td>\n",
       "      <td>194.074070</td>\n",
       "      <td>194.244438</td>\n",
       "      <td>194.064031</td>\n",
       "      <td>194.254477</td>\n",
       "      <td>3.0</td>\n",
       "      <td>100.0</td>\n",
       "      <td>2.0</td>\n",
       "      <td>100.0</td>\n",
       "      <td>0</td>\n",
       "    </tr>\n",
       "    <tr>\n",
       "      <th>3</th>\n",
       "      <td>3</td>\n",
       "      <td>5</td>\n",
       "      <td>194.074070</td>\n",
       "      <td>194.244438</td>\n",
       "      <td>194.064031</td>\n",
       "      <td>194.254477</td>\n",
       "      <td>3.0</td>\n",
       "      <td>100.0</td>\n",
       "      <td>2.0</td>\n",
       "      <td>100.0</td>\n",
       "      <td>0</td>\n",
       "    </tr>\n",
       "    <tr>\n",
       "      <th>4</th>\n",
       "      <td>4</td>\n",
       "      <td>5</td>\n",
       "      <td>194.074070</td>\n",
       "      <td>194.244438</td>\n",
       "      <td>194.064031</td>\n",
       "      <td>194.254477</td>\n",
       "      <td>3.0</td>\n",
       "      <td>100.0</td>\n",
       "      <td>2.0</td>\n",
       "      <td>100.0</td>\n",
       "      <td>0</td>\n",
       "    </tr>\n",
       "    <tr>\n",
       "      <th>...</th>\n",
       "      <td>...</td>\n",
       "      <td>...</td>\n",
       "      <td>...</td>\n",
       "      <td>...</td>\n",
       "      <td>...</td>\n",
       "      <td>...</td>\n",
       "      <td>...</td>\n",
       "      <td>...</td>\n",
       "      <td>...</td>\n",
       "      <td>...</td>\n",
       "      <td>...</td>\n",
       "    </tr>\n",
       "    <tr>\n",
       "      <th>595</th>\n",
       "      <td>595</td>\n",
       "      <td>5</td>\n",
       "      <td>194.404806</td>\n",
       "      <td>194.525078</td>\n",
       "      <td>194.384767</td>\n",
       "      <td>194.535097</td>\n",
       "      <td>100.0</td>\n",
       "      <td>3.0</td>\n",
       "      <td>26.0</td>\n",
       "      <td>3.0</td>\n",
       "      <td>0</td>\n",
       "    </tr>\n",
       "    <tr>\n",
       "      <th>596</th>\n",
       "      <td>596</td>\n",
       "      <td>5</td>\n",
       "      <td>194.404806</td>\n",
       "      <td>194.525078</td>\n",
       "      <td>194.384767</td>\n",
       "      <td>194.535097</td>\n",
       "      <td>100.0</td>\n",
       "      <td>3.0</td>\n",
       "      <td>26.0</td>\n",
       "      <td>3.0</td>\n",
       "      <td>0</td>\n",
       "    </tr>\n",
       "    <tr>\n",
       "      <th>597</th>\n",
       "      <td>597</td>\n",
       "      <td>5</td>\n",
       "      <td>194.404806</td>\n",
       "      <td>194.525078</td>\n",
       "      <td>194.384767</td>\n",
       "      <td>194.535097</td>\n",
       "      <td>100.0</td>\n",
       "      <td>3.0</td>\n",
       "      <td>26.0</td>\n",
       "      <td>3.0</td>\n",
       "      <td>0</td>\n",
       "    </tr>\n",
       "    <tr>\n",
       "      <th>598</th>\n",
       "      <td>598</td>\n",
       "      <td>5</td>\n",
       "      <td>194.404806</td>\n",
       "      <td>194.525078</td>\n",
       "      <td>194.384767</td>\n",
       "      <td>194.535097</td>\n",
       "      <td>100.0</td>\n",
       "      <td>3.0</td>\n",
       "      <td>26.0</td>\n",
       "      <td>3.0</td>\n",
       "      <td>0</td>\n",
       "    </tr>\n",
       "    <tr>\n",
       "      <th>599</th>\n",
       "      <td>599</td>\n",
       "      <td>5</td>\n",
       "      <td>194.404806</td>\n",
       "      <td>194.525078</td>\n",
       "      <td>194.384767</td>\n",
       "      <td>194.535097</td>\n",
       "      <td>100.0</td>\n",
       "      <td>3.0</td>\n",
       "      <td>26.0</td>\n",
       "      <td>3.0</td>\n",
       "      <td>0</td>\n",
       "    </tr>\n",
       "  </tbody>\n",
       "</table>\n",
       "<p>600 rows × 11 columns</p>\n",
       "</div>"
      ],
      "text/plain": [
       "     seconds_in_bucket  time_id  bid_price1  ask_price1  bid_price2  \\\n",
       "0                    0        5  194.074070  194.244438  194.064031   \n",
       "1                    1        5  194.074070  194.244438  194.064031   \n",
       "2                    2        5  194.074070  194.244438  194.064031   \n",
       "3                    3        5  194.074070  194.244438  194.064031   \n",
       "4                    4        5  194.074070  194.244438  194.064031   \n",
       "..                 ...      ...         ...         ...         ...   \n",
       "595                595        5  194.404806  194.525078  194.384767   \n",
       "596                596        5  194.404806  194.525078  194.384767   \n",
       "597                597        5  194.404806  194.525078  194.384767   \n",
       "598                598        5  194.404806  194.525078  194.384767   \n",
       "599                599        5  194.404806  194.525078  194.384767   \n",
       "\n",
       "     ask_price2  bid_size1  ask_size1  bid_size2  ask_size2  stock_id  \n",
       "0    194.254477        3.0      226.0        2.0      100.0         0  \n",
       "1    194.254477        3.0      100.0        2.0      100.0         0  \n",
       "2    194.254477        3.0      100.0        2.0      100.0         0  \n",
       "3    194.254477        3.0      100.0        2.0      100.0         0  \n",
       "4    194.254477        3.0      100.0        2.0      100.0         0  \n",
       "..          ...        ...        ...        ...        ...       ...  \n",
       "595  194.535097      100.0        3.0       26.0        3.0         0  \n",
       "596  194.535097      100.0        3.0       26.0        3.0         0  \n",
       "597  194.535097      100.0        3.0       26.0        3.0         0  \n",
       "598  194.535097      100.0        3.0       26.0        3.0         0  \n",
       "599  194.535097      100.0        3.0       26.0        3.0         0  \n",
       "\n",
       "[600 rows x 11 columns]"
      ]
     },
     "execution_count": 133,
     "metadata": {},
     "output_type": "execute_result"
    }
   ],
   "source": [
    "x[x['time_id']==5]"
   ]
  },
  {
   "cell_type": "code",
   "execution_count": 115,
   "metadata": {},
   "outputs": [
    {
     "name": "stdout",
     "output_type": "stream",
     "text": [
      "Wall time: 247 ms\n"
     ]
    }
   ],
   "source": [
    "%%time\n",
    "x.to_hdf(\"test_s0.h5\", key='df', mode='w')"
   ]
  },
  {
   "cell_type": "code",
   "execution_count": 116,
   "metadata": {},
   "outputs": [
    {
     "name": "stdout",
     "output_type": "stream",
     "text": [
      "Wall time: 46.3 ms\n"
     ]
    }
   ],
   "source": [
    "%%time\n",
    "x.to_feather(\"test_s0.fth\")"
   ]
  },
  {
   "cell_type": "markdown",
   "metadata": {},
   "source": [
    "### Extend All Stock Time IDs"
   ]
  },
  {
   "cell_type": "markdown",
   "metadata": {},
   "source": [
    "#### Normal...\n"
   ]
  },
  {
   "cell_type": "code",
   "execution_count": 130,
   "metadata": {},
   "outputs": [
    {
     "name": "stdout",
     "output_type": "stream",
     "text": [
      "Stock 14 extending...\n"
     ]
    },
    {
     "name": "stderr",
     "output_type": "stream",
     "text": [
      "[Parallel(n_jobs=-1)]: Using backend LokyBackend with 16 concurrent workers.\n",
      "[Parallel(n_jobs=-1)]: Done  18 tasks      | elapsed:    0.2s\n",
      "[Parallel(n_jobs=-1)]: Done 304 tasks      | elapsed:    2.5s\n",
      "[Parallel(n_jobs=-1)]: Done 804 tasks      | elapsed:    6.7s\n",
      "[Parallel(n_jobs=-1)]: Done 1504 tasks      | elapsed:   12.2s\n",
      "[Parallel(n_jobs=-1)]: Done 2404 tasks      | elapsed:   19.5s\n",
      "[Parallel(n_jobs=-1)]: Done 3504 tasks      | elapsed:   28.0s\n",
      "[Parallel(n_jobs=-1)]: Done 3830 out of 3830 | elapsed:   30.5s finished\n"
     ]
    }
   ],
   "source": [
    "# for stock_id in df.stock_id.unique()[:]:\n",
    "#     print(f\"Stock {stock_id} extending...\")\n",
    "#     # default will extend stocks by max possible chain length\n",
    "#     extended_df = extend_times(df[df['stock_id']==stock_id], end=0)\n",
    "#     extended_df.to_feather(f\"extend_one/stock_{stock_id}.fth\")   # feat"
   ]
  },
  {
   "cell_type": "markdown",
   "metadata": {},
   "source": [
    "#### Extend by Two TimeIDs"
   ]
  },
  {
   "cell_type": "code",
   "execution_count": 13,
   "metadata": {},
   "outputs": [
    {
     "name": "stdout",
     "output_type": "stream",
     "text": [
      "Stock 0 extending...\n"
     ]
    },
    {
     "name": "stderr",
     "output_type": "stream",
     "text": [
      "[Parallel(n_jobs=-1)]: Using backend LokyBackend with 16 concurrent workers.\n",
      "[Parallel(n_jobs=-1)]: Done  18 tasks      | elapsed:    4.6s\n",
      "[Parallel(n_jobs=-1)]: Done 168 tasks      | elapsed:    6.4s\n",
      "[Parallel(n_jobs=-1)]: Done 418 tasks      | elapsed:    9.3s\n",
      "[Parallel(n_jobs=-1)]: Done 768 tasks      | elapsed:   13.6s\n",
      "[Parallel(n_jobs=-1)]: Done 1218 tasks      | elapsed:   19.2s\n",
      "[Parallel(n_jobs=-1)]: Done 1768 tasks      | elapsed:   26.1s\n",
      "[Parallel(n_jobs=-1)]: Done 2418 tasks      | elapsed:   34.8s\n",
      "[Parallel(n_jobs=-1)]: Done 3168 tasks      | elapsed:   44.1s\n",
      "[Parallel(n_jobs=-1)]: Done 3830 out of 3830 | elapsed:   52.2s finished\n"
     ]
    },
    {
     "name": "stdout",
     "output_type": "stream",
     "text": [
      "Stock 1 extending...\n"
     ]
    },
    {
     "name": "stderr",
     "output_type": "stream",
     "text": [
      "[Parallel(n_jobs=-1)]: Using backend LokyBackend with 16 concurrent workers.\n",
      "[Parallel(n_jobs=-1)]: Done  18 tasks      | elapsed:    0.2s\n",
      "[Parallel(n_jobs=-1)]: Done 168 tasks      | elapsed:    2.1s\n",
      "[Parallel(n_jobs=-1)]: Done 418 tasks      | elapsed:    5.4s\n",
      "[Parallel(n_jobs=-1)]: Done 768 tasks      | elapsed:    9.7s\n",
      "[Parallel(n_jobs=-1)]: Done 1218 tasks      | elapsed:   15.1s\n",
      "[Parallel(n_jobs=-1)]: Done 1768 tasks      | elapsed:   21.8s\n",
      "[Parallel(n_jobs=-1)]: Done 2418 tasks      | elapsed:   29.7s\n",
      "[Parallel(n_jobs=-1)]: Done 3168 tasks      | elapsed:   39.0s\n",
      "[Parallel(n_jobs=-1)]: Done 3830 out of 3830 | elapsed:   47.2s finished\n"
     ]
    },
    {
     "name": "stdout",
     "output_type": "stream",
     "text": [
      "Stock 2 extending...\n"
     ]
    },
    {
     "name": "stderr",
     "output_type": "stream",
     "text": [
      "[Parallel(n_jobs=-1)]: Using backend LokyBackend with 16 concurrent workers.\n",
      "[Parallel(n_jobs=-1)]: Done  18 tasks      | elapsed:    0.2s\n",
      "[Parallel(n_jobs=-1)]: Done 168 tasks      | elapsed:    2.1s\n",
      "[Parallel(n_jobs=-1)]: Done 418 tasks      | elapsed:    5.1s\n",
      "[Parallel(n_jobs=-1)]: Done 768 tasks      | elapsed:    9.6s\n",
      "[Parallel(n_jobs=-1)]: Done 1218 tasks      | elapsed:   15.1s\n",
      "[Parallel(n_jobs=-1)]: Done 1768 tasks      | elapsed:   21.8s\n",
      "[Parallel(n_jobs=-1)]: Done 2418 tasks      | elapsed:   29.8s\n",
      "[Parallel(n_jobs=-1)]: Done 3168 tasks      | elapsed:   38.9s\n",
      "[Parallel(n_jobs=-1)]: Done 3830 out of 3830 | elapsed:   46.8s finished\n"
     ]
    },
    {
     "name": "stdout",
     "output_type": "stream",
     "text": [
      "Stock 3 extending...\n"
     ]
    },
    {
     "name": "stderr",
     "output_type": "stream",
     "text": [
      "[Parallel(n_jobs=-1)]: Using backend LokyBackend with 16 concurrent workers.\n",
      "[Parallel(n_jobs=-1)]: Done  18 tasks      | elapsed:    0.2s\n",
      "[Parallel(n_jobs=-1)]: Done 304 tasks      | elapsed:    3.3s\n",
      "[Parallel(n_jobs=-1)]: Done 804 tasks      | elapsed:    8.7s\n",
      "[Parallel(n_jobs=-1)]: Done 1504 tasks      | elapsed:   16.2s\n",
      "[Parallel(n_jobs=-1)]: Done 2404 tasks      | elapsed:   25.9s\n",
      "[Parallel(n_jobs=-1)]: Done 3504 tasks      | elapsed:   37.7s\n",
      "[Parallel(n_jobs=-1)]: Done 3830 out of 3830 | elapsed:   41.2s finished\n"
     ]
    },
    {
     "name": "stdout",
     "output_type": "stream",
     "text": [
      "Stock 4 extending...\n"
     ]
    },
    {
     "name": "stderr",
     "output_type": "stream",
     "text": [
      "[Parallel(n_jobs=-1)]: Using backend LokyBackend with 16 concurrent workers.\n",
      "[Parallel(n_jobs=-1)]: Done  18 tasks      | elapsed:    0.3s\n",
      "[Parallel(n_jobs=-1)]: Done 304 tasks      | elapsed:    3.3s\n",
      "[Parallel(n_jobs=-1)]: Done 804 tasks      | elapsed:    8.7s\n",
      "[Parallel(n_jobs=-1)]: Done 1504 tasks      | elapsed:   16.2s\n",
      "[Parallel(n_jobs=-1)]: Done 2404 tasks      | elapsed:   26.2s\n",
      "[Parallel(n_jobs=-1)]: Done 3504 tasks      | elapsed:   38.1s\n",
      "[Parallel(n_jobs=-1)]: Done 3830 out of 3830 | elapsed:   41.5s finished\n"
     ]
    },
    {
     "name": "stdout",
     "output_type": "stream",
     "text": [
      "Stock 5 extending...\n"
     ]
    },
    {
     "name": "stderr",
     "output_type": "stream",
     "text": [
      "[Parallel(n_jobs=-1)]: Using backend LokyBackend with 16 concurrent workers.\n",
      "[Parallel(n_jobs=-1)]: Done  18 tasks      | elapsed:    0.3s\n",
      "[Parallel(n_jobs=-1)]: Done 304 tasks      | elapsed:    3.3s\n",
      "[Parallel(n_jobs=-1)]: Done 804 tasks      | elapsed:    8.7s\n",
      "[Parallel(n_jobs=-1)]: Done 1504 tasks      | elapsed:   16.1s\n",
      "[Parallel(n_jobs=-1)]: Done 2404 tasks      | elapsed:   25.9s\n",
      "[Parallel(n_jobs=-1)]: Done 3504 tasks      | elapsed:   37.7s\n",
      "[Parallel(n_jobs=-1)]: Done 3830 out of 3830 | elapsed:   41.2s finished\n"
     ]
    },
    {
     "name": "stdout",
     "output_type": "stream",
     "text": [
      "Stock 6 extending...\n"
     ]
    },
    {
     "name": "stderr",
     "output_type": "stream",
     "text": [
      "[Parallel(n_jobs=-1)]: Using backend LokyBackend with 16 concurrent workers.\n",
      "[Parallel(n_jobs=-1)]: Done  18 tasks      | elapsed:    0.3s\n",
      "[Parallel(n_jobs=-1)]: Done 304 tasks      | elapsed:    3.4s\n",
      "[Parallel(n_jobs=-1)]: Done 804 tasks      | elapsed:    8.7s\n",
      "[Parallel(n_jobs=-1)]: Done 1504 tasks      | elapsed:   16.3s\n",
      "[Parallel(n_jobs=-1)]: Done 2404 tasks      | elapsed:   26.1s\n",
      "[Parallel(n_jobs=-1)]: Done 3504 tasks      | elapsed:   38.0s\n",
      "[Parallel(n_jobs=-1)]: Done 3830 out of 3830 | elapsed:   41.5s finished\n"
     ]
    },
    {
     "name": "stdout",
     "output_type": "stream",
     "text": [
      "Stock 7 extending...\n"
     ]
    },
    {
     "name": "stderr",
     "output_type": "stream",
     "text": [
      "[Parallel(n_jobs=-1)]: Using backend LokyBackend with 16 concurrent workers.\n",
      "[Parallel(n_jobs=-1)]: Done  18 tasks      | elapsed:    0.3s\n",
      "[Parallel(n_jobs=-1)]: Done 168 tasks      | elapsed:    2.1s\n",
      "[Parallel(n_jobs=-1)]: Done 418 tasks      | elapsed:    5.2s\n",
      "[Parallel(n_jobs=-1)]: Done 768 tasks      | elapsed:    9.4s\n",
      "[Parallel(n_jobs=-1)]: Done 1218 tasks      | elapsed:   15.0s\n",
      "[Parallel(n_jobs=-1)]: Done 1768 tasks      | elapsed:   21.6s\n",
      "[Parallel(n_jobs=-1)]: Done 2418 tasks      | elapsed:   29.5s\n",
      "[Parallel(n_jobs=-1)]: Done 3168 tasks      | elapsed:   38.7s\n",
      "[Parallel(n_jobs=-1)]: Done 3830 out of 3830 | elapsed:   46.8s finished\n"
     ]
    },
    {
     "name": "stdout",
     "output_type": "stream",
     "text": [
      "Stock 8 extending...\n"
     ]
    },
    {
     "name": "stderr",
     "output_type": "stream",
     "text": [
      "[Parallel(n_jobs=-1)]: Using backend LokyBackend with 16 concurrent workers.\n",
      "[Parallel(n_jobs=-1)]: Done  18 tasks      | elapsed:    0.3s\n",
      "[Parallel(n_jobs=-1)]: Done 304 tasks      | elapsed:    3.3s\n",
      "[Parallel(n_jobs=-1)]: Done 804 tasks      | elapsed:    8.7s\n",
      "[Parallel(n_jobs=-1)]: Done 1504 tasks      | elapsed:   16.2s\n",
      "[Parallel(n_jobs=-1)]: Done 2404 tasks      | elapsed:   26.0s\n",
      "[Parallel(n_jobs=-1)]: Done 3504 tasks      | elapsed:   37.7s\n",
      "[Parallel(n_jobs=-1)]: Done 3830 out of 3830 | elapsed:   41.2s finished\n"
     ]
    },
    {
     "name": "stdout",
     "output_type": "stream",
     "text": [
      "Stock 9 extending...\n"
     ]
    },
    {
     "name": "stderr",
     "output_type": "stream",
     "text": [
      "[Parallel(n_jobs=-1)]: Using backend LokyBackend with 16 concurrent workers.\n",
      "[Parallel(n_jobs=-1)]: Done  18 tasks      | elapsed:    0.3s\n",
      "[Parallel(n_jobs=-1)]: Done 304 tasks      | elapsed:    3.4s\n",
      "[Parallel(n_jobs=-1)]: Done 804 tasks      | elapsed:    8.7s\n",
      "[Parallel(n_jobs=-1)]: Done 1504 tasks      | elapsed:   16.2s\n",
      "[Parallel(n_jobs=-1)]: Done 2404 tasks      | elapsed:   25.9s\n",
      "[Parallel(n_jobs=-1)]: Done 3504 tasks      | elapsed:   37.8s\n",
      "[Parallel(n_jobs=-1)]: Done 3830 out of 3830 | elapsed:   41.1s finished\n"
     ]
    },
    {
     "name": "stdout",
     "output_type": "stream",
     "text": [
      "Stock 10 extending...\n"
     ]
    },
    {
     "name": "stderr",
     "output_type": "stream",
     "text": [
      "[Parallel(n_jobs=-1)]: Using backend LokyBackend with 16 concurrent workers.\n",
      "[Parallel(n_jobs=-1)]: Done  18 tasks      | elapsed:    0.3s\n",
      "[Parallel(n_jobs=-1)]: Done 304 tasks      | elapsed:    3.3s\n",
      "[Parallel(n_jobs=-1)]: Done 804 tasks      | elapsed:    8.6s\n",
      "[Parallel(n_jobs=-1)]: Done 1504 tasks      | elapsed:   16.2s\n",
      "[Parallel(n_jobs=-1)]: Done 2404 tasks      | elapsed:   27.1s\n",
      "[Parallel(n_jobs=-1)]: Done 3504 tasks      | elapsed:   39.7s\n",
      "[Parallel(n_jobs=-1)]: Done 3830 out of 3830 | elapsed:   43.2s finished\n"
     ]
    },
    {
     "name": "stdout",
     "output_type": "stream",
     "text": [
      "Stock 11 extending...\n"
     ]
    },
    {
     "name": "stderr",
     "output_type": "stream",
     "text": [
      "[Parallel(n_jobs=-1)]: Using backend LokyBackend with 16 concurrent workers.\n",
      "[Parallel(n_jobs=-1)]: Done  18 tasks      | elapsed:    0.3s\n",
      "[Parallel(n_jobs=-1)]: Done 304 tasks      | elapsed:    3.3s\n",
      "[Parallel(n_jobs=-1)]: Done 804 tasks      | elapsed:    8.7s\n",
      "[Parallel(n_jobs=-1)]: Done 1504 tasks      | elapsed:   16.2s\n",
      "[Parallel(n_jobs=-1)]: Done 2404 tasks      | elapsed:   26.1s\n",
      "[Parallel(n_jobs=-1)]: Done 3504 tasks      | elapsed:   37.8s\n",
      "[Parallel(n_jobs=-1)]: Done 3830 out of 3830 | elapsed:   41.3s finished\n"
     ]
    },
    {
     "name": "stdout",
     "output_type": "stream",
     "text": [
      "Stock 13 extending...\n"
     ]
    },
    {
     "name": "stderr",
     "output_type": "stream",
     "text": [
      "[Parallel(n_jobs=-1)]: Using backend LokyBackend with 16 concurrent workers.\n",
      "[Parallel(n_jobs=-1)]: Done  18 tasks      | elapsed:    0.3s\n",
      "[Parallel(n_jobs=-1)]: Done 304 tasks      | elapsed:    3.4s\n",
      "[Parallel(n_jobs=-1)]: Done 804 tasks      | elapsed:    8.8s\n",
      "[Parallel(n_jobs=-1)]: Done 1504 tasks      | elapsed:   16.6s\n",
      "[Parallel(n_jobs=-1)]: Done 2404 tasks      | elapsed:   26.6s\n",
      "[Parallel(n_jobs=-1)]: Done 3504 tasks      | elapsed:   38.7s\n",
      "[Parallel(n_jobs=-1)]: Done 3798 out of 3829 | elapsed:   41.9s remaining:    0.2s\n",
      "[Parallel(n_jobs=-1)]: Done 3829 out of 3829 | elapsed:   42.2s finished\n"
     ]
    },
    {
     "name": "stdout",
     "output_type": "stream",
     "text": [
      "Stock 14 extending...\n"
     ]
    },
    {
     "name": "stderr",
     "output_type": "stream",
     "text": [
      "[Parallel(n_jobs=-1)]: Using backend LokyBackend with 16 concurrent workers.\n",
      "[Parallel(n_jobs=-1)]: Done  18 tasks      | elapsed:    0.3s\n",
      "[Parallel(n_jobs=-1)]: Done 304 tasks      | elapsed:    3.4s\n",
      "[Parallel(n_jobs=-1)]: Done 804 tasks      | elapsed:    8.9s\n",
      "[Parallel(n_jobs=-1)]: Done 1504 tasks      | elapsed:   16.6s\n",
      "[Parallel(n_jobs=-1)]: Done 2404 tasks      | elapsed:   26.5s\n",
      "[Parallel(n_jobs=-1)]: Done 3504 tasks      | elapsed:   38.6s\n",
      "[Parallel(n_jobs=-1)]: Done 3830 out of 3830 | elapsed:   42.2s finished\n"
     ]
    },
    {
     "name": "stdout",
     "output_type": "stream",
     "text": [
      "Stock 15 extending...\n"
     ]
    },
    {
     "name": "stderr",
     "output_type": "stream",
     "text": [
      "[Parallel(n_jobs=-1)]: Using backend LokyBackend with 16 concurrent workers.\n",
      "[Parallel(n_jobs=-1)]: Done  18 tasks      | elapsed:    0.3s\n",
      "[Parallel(n_jobs=-1)]: Done 304 tasks      | elapsed:    3.4s\n",
      "[Parallel(n_jobs=-1)]: Done 804 tasks      | elapsed:    8.7s\n",
      "[Parallel(n_jobs=-1)]: Done 1504 tasks      | elapsed:   16.1s\n",
      "[Parallel(n_jobs=-1)]: Done 2404 tasks      | elapsed:   26.0s\n",
      "[Parallel(n_jobs=-1)]: Done 3504 tasks      | elapsed:   37.9s\n",
      "[Parallel(n_jobs=-1)]: Done 3830 out of 3830 | elapsed:   41.3s finished\n"
     ]
    },
    {
     "name": "stdout",
     "output_type": "stream",
     "text": [
      "Stock 16 extending...\n"
     ]
    },
    {
     "name": "stderr",
     "output_type": "stream",
     "text": [
      "[Parallel(n_jobs=-1)]: Using backend LokyBackend with 16 concurrent workers.\n",
      "[Parallel(n_jobs=-1)]: Done  18 tasks      | elapsed:    0.3s\n",
      "[Parallel(n_jobs=-1)]: Done 304 tasks      | elapsed:    3.3s\n",
      "[Parallel(n_jobs=-1)]: Done 804 tasks      | elapsed:    8.5s\n",
      "[Parallel(n_jobs=-1)]: Done 1504 tasks      | elapsed:   16.0s\n",
      "[Parallel(n_jobs=-1)]: Done 2404 tasks      | elapsed:   25.8s\n",
      "[Parallel(n_jobs=-1)]: Done 3504 tasks      | elapsed:   37.5s\n",
      "[Parallel(n_jobs=-1)]: Done 3830 out of 3830 | elapsed:   41.0s finished\n"
     ]
    },
    {
     "name": "stdout",
     "output_type": "stream",
     "text": [
      "Stock 17 extending...\n"
     ]
    },
    {
     "name": "stderr",
     "output_type": "stream",
     "text": [
      "[Parallel(n_jobs=-1)]: Using backend LokyBackend with 16 concurrent workers.\n",
      "[Parallel(n_jobs=-1)]: Done  18 tasks      | elapsed:    0.2s\n",
      "[Parallel(n_jobs=-1)]: Done 304 tasks      | elapsed:    3.3s\n",
      "[Parallel(n_jobs=-1)]: Done 804 tasks      | elapsed:    8.6s\n",
      "[Parallel(n_jobs=-1)]: Done 1504 tasks      | elapsed:   16.1s\n",
      "[Parallel(n_jobs=-1)]: Done 2404 tasks      | elapsed:   25.9s\n",
      "[Parallel(n_jobs=-1)]: Done 3504 tasks      | elapsed:   37.5s\n",
      "[Parallel(n_jobs=-1)]: Done 3830 out of 3830 | elapsed:   41.0s finished\n"
     ]
    },
    {
     "name": "stdout",
     "output_type": "stream",
     "text": [
      "Stock 18 extending...\n"
     ]
    },
    {
     "name": "stderr",
     "output_type": "stream",
     "text": [
      "[Parallel(n_jobs=-1)]: Using backend LokyBackend with 16 concurrent workers.\n",
      "[Parallel(n_jobs=-1)]: Done  18 tasks      | elapsed:    0.2s\n",
      "[Parallel(n_jobs=-1)]: Done 304 tasks      | elapsed:    3.3s\n",
      "[Parallel(n_jobs=-1)]: Done 804 tasks      | elapsed:    8.6s\n",
      "[Parallel(n_jobs=-1)]: Done 1504 tasks      | elapsed:   16.1s\n",
      "[Parallel(n_jobs=-1)]: Done 2404 tasks      | elapsed:   25.9s\n",
      "[Parallel(n_jobs=-1)]: Done 3504 tasks      | elapsed:   38.0s\n",
      "[Parallel(n_jobs=-1)]: Done 3830 out of 3830 | elapsed:   41.6s finished\n"
     ]
    },
    {
     "name": "stdout",
     "output_type": "stream",
     "text": [
      "Stock 19 extending...\n"
     ]
    },
    {
     "name": "stderr",
     "output_type": "stream",
     "text": [
      "[Parallel(n_jobs=-1)]: Using backend LokyBackend with 16 concurrent workers.\n",
      "[Parallel(n_jobs=-1)]: Done  18 tasks      | elapsed:    0.3s\n",
      "[Parallel(n_jobs=-1)]: Done 304 tasks      | elapsed:    3.5s\n",
      "[Parallel(n_jobs=-1)]: Done 804 tasks      | elapsed:    9.3s\n",
      "[Parallel(n_jobs=-1)]: Done 1504 tasks      | elapsed:   17.5s\n",
      "[Parallel(n_jobs=-1)]: Done 2404 tasks      | elapsed:   27.8s\n",
      "[Parallel(n_jobs=-1)]: Done 3504 tasks      | elapsed:   40.1s\n",
      "[Parallel(n_jobs=-1)]: Done 3830 out of 3830 | elapsed:   43.8s finished\n"
     ]
    },
    {
     "name": "stdout",
     "output_type": "stream",
     "text": [
      "Stock 20 extending...\n"
     ]
    },
    {
     "name": "stderr",
     "output_type": "stream",
     "text": [
      "[Parallel(n_jobs=-1)]: Using backend LokyBackend with 16 concurrent workers.\n",
      "[Parallel(n_jobs=-1)]: Done  18 tasks      | elapsed:    0.3s\n",
      "[Parallel(n_jobs=-1)]: Done 304 tasks      | elapsed:    3.6s\n",
      "[Parallel(n_jobs=-1)]: Done 804 tasks      | elapsed:    9.4s\n",
      "[Parallel(n_jobs=-1)]: Done 1504 tasks      | elapsed:   17.1s\n",
      "[Parallel(n_jobs=-1)]: Done 2404 tasks      | elapsed:   28.3s\n",
      "[Parallel(n_jobs=-1)]: Done 3504 tasks      | elapsed:   41.2s\n",
      "[Parallel(n_jobs=-1)]: Done 3830 out of 3830 | elapsed:   45.2s finished\n"
     ]
    },
    {
     "name": "stdout",
     "output_type": "stream",
     "text": [
      "Stock 21 extending...\n"
     ]
    },
    {
     "name": "stderr",
     "output_type": "stream",
     "text": [
      "[Parallel(n_jobs=-1)]: Using backend LokyBackend with 16 concurrent workers.\n",
      "[Parallel(n_jobs=-1)]: Done  18 tasks      | elapsed:    0.4s\n",
      "[Parallel(n_jobs=-1)]: Done 168 tasks      | elapsed:    2.3s\n",
      "[Parallel(n_jobs=-1)]: Done 418 tasks      | elapsed:    5.4s\n",
      "[Parallel(n_jobs=-1)]: Done 768 tasks      | elapsed:    9.9s\n",
      "[Parallel(n_jobs=-1)]: Done 1218 tasks      | elapsed:   15.7s\n",
      "[Parallel(n_jobs=-1)]: Done 1768 tasks      | elapsed:   22.9s\n",
      "[Parallel(n_jobs=-1)]: Done 2418 tasks      | elapsed:   31.9s\n",
      "[Parallel(n_jobs=-1)]: Done 3168 tasks      | elapsed:   42.5s\n",
      "[Parallel(n_jobs=-1)]: Done 3830 out of 3830 | elapsed:   51.7s finished\n"
     ]
    },
    {
     "name": "stdout",
     "output_type": "stream",
     "text": [
      "Stock 22 extending...\n"
     ]
    },
    {
     "name": "stderr",
     "output_type": "stream",
     "text": [
      "[Parallel(n_jobs=-1)]: Using backend LokyBackend with 16 concurrent workers.\n",
      "[Parallel(n_jobs=-1)]: Done  18 tasks      | elapsed:    0.3s\n",
      "[Parallel(n_jobs=-1)]: Done 304 tasks      | elapsed:    3.5s\n",
      "[Parallel(n_jobs=-1)]: Done 804 tasks      | elapsed:    9.4s\n",
      "[Parallel(n_jobs=-1)]: Done 1504 tasks      | elapsed:   17.5s\n",
      "[Parallel(n_jobs=-1)]: Done 2404 tasks      | elapsed:   27.6s\n",
      "[Parallel(n_jobs=-1)]: Done 3504 tasks      | elapsed:   39.9s\n",
      "[Parallel(n_jobs=-1)]: Done 3830 out of 3830 | elapsed:   43.4s finished\n"
     ]
    },
    {
     "name": "stdout",
     "output_type": "stream",
     "text": [
      "Stock 23 extending...\n"
     ]
    },
    {
     "name": "stderr",
     "output_type": "stream",
     "text": [
      "[Parallel(n_jobs=-1)]: Using backend LokyBackend with 16 concurrent workers.\n",
      "[Parallel(n_jobs=-1)]: Done  18 tasks      | elapsed:    0.3s\n",
      "[Parallel(n_jobs=-1)]: Done 304 tasks      | elapsed:    3.4s\n",
      "[Parallel(n_jobs=-1)]: Done 804 tasks      | elapsed:    8.7s\n",
      "[Parallel(n_jobs=-1)]: Done 1504 tasks      | elapsed:   16.2s\n",
      "[Parallel(n_jobs=-1)]: Done 2404 tasks      | elapsed:   26.5s\n",
      "[Parallel(n_jobs=-1)]: Done 3504 tasks      | elapsed:   39.1s\n",
      "[Parallel(n_jobs=-1)]: Done 3830 out of 3830 | elapsed:   42.8s finished\n"
     ]
    },
    {
     "name": "stdout",
     "output_type": "stream",
     "text": [
      "Stock 26 extending...\n"
     ]
    },
    {
     "name": "stderr",
     "output_type": "stream",
     "text": [
      "[Parallel(n_jobs=-1)]: Using backend LokyBackend with 16 concurrent workers.\n",
      "[Parallel(n_jobs=-1)]: Done  18 tasks      | elapsed:    0.3s\n",
      "[Parallel(n_jobs=-1)]: Done 304 tasks      | elapsed:    3.5s\n",
      "[Parallel(n_jobs=-1)]: Done 804 tasks      | elapsed:    8.9s\n",
      "[Parallel(n_jobs=-1)]: Done 1504 tasks      | elapsed:   16.5s\n",
      "[Parallel(n_jobs=-1)]: Done 2404 tasks      | elapsed:   26.5s\n",
      "[Parallel(n_jobs=-1)]: Done 3504 tasks      | elapsed:   39.8s\n",
      "[Parallel(n_jobs=-1)]: Done 3830 out of 3830 | elapsed:   43.7s finished\n"
     ]
    },
    {
     "name": "stdout",
     "output_type": "stream",
     "text": [
      "Stock 27 extending...\n"
     ]
    },
    {
     "name": "stderr",
     "output_type": "stream",
     "text": [
      "[Parallel(n_jobs=-1)]: Using backend LokyBackend with 16 concurrent workers.\n",
      "[Parallel(n_jobs=-1)]: Done  18 tasks      | elapsed:    0.3s\n",
      "[Parallel(n_jobs=-1)]: Done 168 tasks      | elapsed:    2.3s\n",
      "[Parallel(n_jobs=-1)]: Done 418 tasks      | elapsed:    5.6s\n",
      "[Parallel(n_jobs=-1)]: Done 768 tasks      | elapsed:   10.3s\n",
      "[Parallel(n_jobs=-1)]: Done 1218 tasks      | elapsed:   16.3s\n",
      "[Parallel(n_jobs=-1)]: Done 1768 tasks      | elapsed:   23.5s\n",
      "[Parallel(n_jobs=-1)]: Done 2418 tasks      | elapsed:   32.4s\n",
      "[Parallel(n_jobs=-1)]: Done 3168 tasks      | elapsed:   43.4s\n",
      "[Parallel(n_jobs=-1)]: Done 3830 out of 3830 | elapsed:   52.7s finished\n"
     ]
    },
    {
     "name": "stdout",
     "output_type": "stream",
     "text": [
      "Stock 28 extending...\n"
     ]
    },
    {
     "name": "stderr",
     "output_type": "stream",
     "text": [
      "[Parallel(n_jobs=-1)]: Using backend LokyBackend with 16 concurrent workers.\n",
      "[Parallel(n_jobs=-1)]: Done  18 tasks      | elapsed:    0.3s\n",
      "[Parallel(n_jobs=-1)]: Done 304 tasks      | elapsed:    3.5s\n",
      "[Parallel(n_jobs=-1)]: Done 804 tasks      | elapsed:    9.3s\n",
      "[Parallel(n_jobs=-1)]: Done 1504 tasks      | elapsed:   17.8s\n",
      "[Parallel(n_jobs=-1)]: Done 2404 tasks      | elapsed:   29.3s\n",
      "[Parallel(n_jobs=-1)]: Done 3504 tasks      | elapsed:   42.6s\n",
      "[Parallel(n_jobs=-1)]: Done 3830 out of 3830 | elapsed:   46.6s finished\n"
     ]
    },
    {
     "name": "stdout",
     "output_type": "stream",
     "text": [
      "Stock 29 extending...\n"
     ]
    },
    {
     "name": "stderr",
     "output_type": "stream",
     "text": [
      "[Parallel(n_jobs=-1)]: Using backend LokyBackend with 16 concurrent workers.\n",
      "[Parallel(n_jobs=-1)]: Done  18 tasks      | elapsed:    0.4s\n",
      "[Parallel(n_jobs=-1)]: Done 168 tasks      | elapsed:    2.5s\n",
      "[Parallel(n_jobs=-1)]: Done 418 tasks      | elapsed:    5.9s\n",
      "[Parallel(n_jobs=-1)]: Done 768 tasks      | elapsed:   10.9s\n",
      "[Parallel(n_jobs=-1)]: Done 1218 tasks      | elapsed:   16.9s\n",
      "[Parallel(n_jobs=-1)]: Done 1768 tasks      | elapsed:   23.5s\n",
      "[Parallel(n_jobs=-1)]: Done 2418 tasks      | elapsed:   31.6s\n",
      "[Parallel(n_jobs=-1)]: Done 3168 tasks      | elapsed:   41.4s\n",
      "[Parallel(n_jobs=-1)]: Done 3830 out of 3830 | elapsed:   50.1s finished\n"
     ]
    },
    {
     "name": "stdout",
     "output_type": "stream",
     "text": [
      "Stock 30 extending...\n"
     ]
    },
    {
     "name": "stderr",
     "output_type": "stream",
     "text": [
      "[Parallel(n_jobs=-1)]: Using backend LokyBackend with 16 concurrent workers.\n",
      "[Parallel(n_jobs=-1)]: Done  18 tasks      | elapsed:    0.3s\n",
      "[Parallel(n_jobs=-1)]: Done 168 tasks      | elapsed:    2.4s\n",
      "[Parallel(n_jobs=-1)]: Done 418 tasks      | elapsed:    5.7s\n",
      "[Parallel(n_jobs=-1)]: Done 768 tasks      | elapsed:   10.8s\n",
      "[Parallel(n_jobs=-1)]: Done 1218 tasks      | elapsed:   16.8s\n",
      "[Parallel(n_jobs=-1)]: Done 1768 tasks      | elapsed:   24.5s\n",
      "[Parallel(n_jobs=-1)]: Done 2418 tasks      | elapsed:   33.1s\n",
      "[Parallel(n_jobs=-1)]: Done 3168 tasks      | elapsed:   43.6s\n",
      "[Parallel(n_jobs=-1)]: Done 3830 out of 3830 | elapsed:   52.4s finished\n"
     ]
    },
    {
     "name": "stdout",
     "output_type": "stream",
     "text": [
      "Stock 31 extending...\n"
     ]
    },
    {
     "name": "stderr",
     "output_type": "stream",
     "text": [
      "[Parallel(n_jobs=-1)]: Using backend LokyBackend with 16 concurrent workers.\n",
      "[Parallel(n_jobs=-1)]: Done  18 tasks      | elapsed:    0.3s\n",
      "[Parallel(n_jobs=-1)]: Done 304 tasks      | elapsed:    3.5s\n",
      "[Parallel(n_jobs=-1)]: Done 804 tasks      | elapsed:    9.2s\n",
      "[Parallel(n_jobs=-1)]: Done 1504 tasks      | elapsed:   17.1s\n",
      "[Parallel(n_jobs=-1)]: Done 2404 tasks      | elapsed:   27.4s\n",
      "[Parallel(n_jobs=-1)]: Done 3504 tasks      | elapsed:   40.0s\n",
      "[Parallel(n_jobs=-1)]: Done 3830 out of 3830 | elapsed:   43.7s finished\n"
     ]
    },
    {
     "name": "stdout",
     "output_type": "stream",
     "text": [
      "Stock 32 extending...\n"
     ]
    },
    {
     "name": "stderr",
     "output_type": "stream",
     "text": [
      "[Parallel(n_jobs=-1)]: Using backend LokyBackend with 16 concurrent workers.\n",
      "[Parallel(n_jobs=-1)]: Done  18 tasks      | elapsed:    0.3s\n",
      "[Parallel(n_jobs=-1)]: Done 168 tasks      | elapsed:    2.2s\n",
      "[Parallel(n_jobs=-1)]: Done 418 tasks      | elapsed:    5.2s\n",
      "[Parallel(n_jobs=-1)]: Done 768 tasks      | elapsed:    9.5s\n",
      "[Parallel(n_jobs=-1)]: Done 1218 tasks      | elapsed:   15.0s\n",
      "[Parallel(n_jobs=-1)]: Done 1768 tasks      | elapsed:   21.6s\n",
      "[Parallel(n_jobs=-1)]: Done 2418 tasks      | elapsed:   29.9s\n",
      "[Parallel(n_jobs=-1)]: Done 3168 tasks      | elapsed:   39.9s\n",
      "[Parallel(n_jobs=-1)]: Done 3830 out of 3830 | elapsed:   48.8s finished\n"
     ]
    },
    {
     "name": "stdout",
     "output_type": "stream",
     "text": [
      "Stock 33 extending...\n"
     ]
    },
    {
     "name": "stderr",
     "output_type": "stream",
     "text": [
      "[Parallel(n_jobs=-1)]: Using backend LokyBackend with 16 concurrent workers.\n",
      "[Parallel(n_jobs=-1)]: Done  18 tasks      | elapsed:    0.3s\n",
      "[Parallel(n_jobs=-1)]: Done 168 tasks      | elapsed:    2.2s\n",
      "[Parallel(n_jobs=-1)]: Done 418 tasks      | elapsed:    5.3s\n",
      "[Parallel(n_jobs=-1)]: Done 768 tasks      | elapsed:    9.6s\n",
      "[Parallel(n_jobs=-1)]: Done 1218 tasks      | elapsed:   15.3s\n",
      "[Parallel(n_jobs=-1)]: Done 1768 tasks      | elapsed:   22.4s\n",
      "[Parallel(n_jobs=-1)]: Done 2418 tasks      | elapsed:   30.9s\n",
      "[Parallel(n_jobs=-1)]: Done 3168 tasks      | elapsed:   40.6s\n",
      "[Parallel(n_jobs=-1)]: Done 3830 out of 3830 | elapsed:   49.3s finished\n"
     ]
    },
    {
     "name": "stdout",
     "output_type": "stream",
     "text": [
      "Stock 34 extending...\n"
     ]
    },
    {
     "name": "stderr",
     "output_type": "stream",
     "text": [
      "[Parallel(n_jobs=-1)]: Using backend LokyBackend with 16 concurrent workers.\n",
      "[Parallel(n_jobs=-1)]: Done  18 tasks      | elapsed:    0.3s\n",
      "[Parallel(n_jobs=-1)]: Done 168 tasks      | elapsed:    2.2s\n",
      "[Parallel(n_jobs=-1)]: Done 418 tasks      | elapsed:    5.2s\n",
      "[Parallel(n_jobs=-1)]: Done 768 tasks      | elapsed:    9.5s\n",
      "[Parallel(n_jobs=-1)]: Done 1218 tasks      | elapsed:   15.0s\n",
      "[Parallel(n_jobs=-1)]: Done 1768 tasks      | elapsed:   21.7s\n",
      "[Parallel(n_jobs=-1)]: Done 2418 tasks      | elapsed:   29.6s\n",
      "[Parallel(n_jobs=-1)]: Done 3168 tasks      | elapsed:   39.0s\n",
      "[Parallel(n_jobs=-1)]: Done 3830 out of 3830 | elapsed:   47.0s finished\n"
     ]
    },
    {
     "name": "stdout",
     "output_type": "stream",
     "text": [
      "Stock 35 extending...\n"
     ]
    },
    {
     "name": "stderr",
     "output_type": "stream",
     "text": [
      "[Parallel(n_jobs=-1)]: Using backend LokyBackend with 16 concurrent workers.\n",
      "[Parallel(n_jobs=-1)]: Done  18 tasks      | elapsed:    0.3s\n",
      "[Parallel(n_jobs=-1)]: Done 304 tasks      | elapsed:    3.3s\n",
      "[Parallel(n_jobs=-1)]: Done 804 tasks      | elapsed:    8.6s\n",
      "[Parallel(n_jobs=-1)]: Done 1504 tasks      | elapsed:   16.1s\n",
      "[Parallel(n_jobs=-1)]: Done 2404 tasks      | elapsed:   26.2s\n",
      "[Parallel(n_jobs=-1)]: Done 3504 tasks      | elapsed:   38.7s\n",
      "[Parallel(n_jobs=-1)]: Done 3830 out of 3830 | elapsed:   42.5s finished\n"
     ]
    },
    {
     "name": "stdout",
     "output_type": "stream",
     "text": [
      "Stock 36 extending...\n"
     ]
    },
    {
     "name": "stderr",
     "output_type": "stream",
     "text": [
      "[Parallel(n_jobs=-1)]: Using backend LokyBackend with 16 concurrent workers.\n",
      "[Parallel(n_jobs=-1)]: Done  18 tasks      | elapsed:    0.3s\n",
      "[Parallel(n_jobs=-1)]: Done 304 tasks      | elapsed:    3.6s\n",
      "[Parallel(n_jobs=-1)]: Done 804 tasks      | elapsed:    9.4s\n",
      "[Parallel(n_jobs=-1)]: Done 1504 tasks      | elapsed:   17.4s\n",
      "[Parallel(n_jobs=-1)]: Done 2404 tasks      | elapsed:   27.8s\n",
      "[Parallel(n_jobs=-1)]: Done 3504 tasks      | elapsed:   40.3s\n",
      "[Parallel(n_jobs=-1)]: Done 3799 out of 3830 | elapsed:   43.7s remaining:    0.3s\n",
      "[Parallel(n_jobs=-1)]: Done 3830 out of 3830 | elapsed:   44.0s finished\n"
     ]
    },
    {
     "name": "stdout",
     "output_type": "stream",
     "text": [
      "Stock 37 extending...\n"
     ]
    },
    {
     "name": "stderr",
     "output_type": "stream",
     "text": [
      "[Parallel(n_jobs=-1)]: Using backend LokyBackend with 16 concurrent workers.\n",
      "[Parallel(n_jobs=-1)]: Done  18 tasks      | elapsed:    0.3s\n",
      "[Parallel(n_jobs=-1)]: Done 168 tasks      | elapsed:    2.2s\n",
      "[Parallel(n_jobs=-1)]: Done 418 tasks      | elapsed:    5.4s\n",
      "[Parallel(n_jobs=-1)]: Done 768 tasks      | elapsed:    9.9s\n",
      "[Parallel(n_jobs=-1)]: Done 1218 tasks      | elapsed:   15.5s\n",
      "[Parallel(n_jobs=-1)]: Done 1768 tasks      | elapsed:   22.1s\n",
      "[Parallel(n_jobs=-1)]: Done 2418 tasks      | elapsed:   30.2s\n",
      "[Parallel(n_jobs=-1)]: Done 3168 tasks      | elapsed:   40.2s\n",
      "[Parallel(n_jobs=-1)]: Done 3830 out of 3830 | elapsed:   48.9s finished\n"
     ]
    },
    {
     "name": "stdout",
     "output_type": "stream",
     "text": [
      "Stock 38 extending...\n"
     ]
    },
    {
     "name": "stderr",
     "output_type": "stream",
     "text": [
      "[Parallel(n_jobs=-1)]: Using backend LokyBackend with 16 concurrent workers.\n",
      "[Parallel(n_jobs=-1)]: Done  18 tasks      | elapsed:    0.3s\n",
      "[Parallel(n_jobs=-1)]: Done 168 tasks      | elapsed:    2.2s\n",
      "[Parallel(n_jobs=-1)]: Done 418 tasks      | elapsed:    5.4s\n",
      "[Parallel(n_jobs=-1)]: Done 768 tasks      | elapsed:   10.0s\n",
      "[Parallel(n_jobs=-1)]: Done 1218 tasks      | elapsed:   15.8s\n",
      "[Parallel(n_jobs=-1)]: Done 1768 tasks      | elapsed:   22.7s\n",
      "[Parallel(n_jobs=-1)]: Done 2418 tasks      | elapsed:   31.0s\n",
      "[Parallel(n_jobs=-1)]: Done 3168 tasks      | elapsed:   40.8s\n",
      "[Parallel(n_jobs=-1)]: Done 3815 out of 3815 | elapsed:   49.9s finished\n"
     ]
    },
    {
     "name": "stdout",
     "output_type": "stream",
     "text": [
      "Stock 39 extending...\n"
     ]
    },
    {
     "name": "stderr",
     "output_type": "stream",
     "text": [
      "[Parallel(n_jobs=-1)]: Using backend LokyBackend with 16 concurrent workers.\n",
      "[Parallel(n_jobs=-1)]: Done  18 tasks      | elapsed:    0.4s\n",
      "[Parallel(n_jobs=-1)]: Done 168 tasks      | elapsed:    2.3s\n",
      "[Parallel(n_jobs=-1)]: Done 418 tasks      | elapsed:    5.8s\n",
      "[Parallel(n_jobs=-1)]: Done 768 tasks      | elapsed:   10.6s\n",
      "[Parallel(n_jobs=-1)]: Done 1218 tasks      | elapsed:   16.4s\n",
      "[Parallel(n_jobs=-1)]: Done 1768 tasks      | elapsed:   23.2s\n",
      "[Parallel(n_jobs=-1)]: Done 2418 tasks      | elapsed:   31.8s\n",
      "[Parallel(n_jobs=-1)]: Done 3168 tasks      | elapsed:   41.4s\n",
      "[Parallel(n_jobs=-1)]: Done 3830 out of 3830 | elapsed:   49.9s finished\n"
     ]
    },
    {
     "name": "stdout",
     "output_type": "stream",
     "text": [
      "Stock 40 extending...\n"
     ]
    },
    {
     "name": "stderr",
     "output_type": "stream",
     "text": [
      "[Parallel(n_jobs=-1)]: Using backend LokyBackend with 16 concurrent workers.\n",
      "[Parallel(n_jobs=-1)]: Done  18 tasks      | elapsed:    0.3s\n",
      "[Parallel(n_jobs=-1)]: Done 168 tasks      | elapsed:    2.4s\n",
      "[Parallel(n_jobs=-1)]: Done 418 tasks      | elapsed:    5.4s\n",
      "[Parallel(n_jobs=-1)]: Done 768 tasks      | elapsed:    9.7s\n",
      "[Parallel(n_jobs=-1)]: Done 1218 tasks      | elapsed:   15.4s\n",
      "[Parallel(n_jobs=-1)]: Done 1768 tasks      | elapsed:   22.3s\n",
      "[Parallel(n_jobs=-1)]: Done 2418 tasks      | elapsed:   30.5s\n",
      "[Parallel(n_jobs=-1)]: Done 3168 tasks      | elapsed:   39.9s\n",
      "[Parallel(n_jobs=-1)]: Done 3830 out of 3830 | elapsed:   48.2s finished\n"
     ]
    },
    {
     "name": "stdout",
     "output_type": "stream",
     "text": [
      "Stock 41 extending...\n"
     ]
    },
    {
     "name": "stderr",
     "output_type": "stream",
     "text": [
      "[Parallel(n_jobs=-1)]: Using backend LokyBackend with 16 concurrent workers.\n",
      "[Parallel(n_jobs=-1)]: Done  18 tasks      | elapsed:    0.3s\n",
      "[Parallel(n_jobs=-1)]: Done 304 tasks      | elapsed:    3.6s\n",
      "[Parallel(n_jobs=-1)]: Done 804 tasks      | elapsed:    9.2s\n",
      "[Parallel(n_jobs=-1)]: Done 1504 tasks      | elapsed:   16.9s\n",
      "[Parallel(n_jobs=-1)]: Done 2404 tasks      | elapsed:   27.0s\n",
      "[Parallel(n_jobs=-1)]: Done 3504 tasks      | elapsed:   40.5s\n",
      "[Parallel(n_jobs=-1)]: Done 3830 out of 3830 | elapsed:   44.6s finished\n"
     ]
    },
    {
     "name": "stdout",
     "output_type": "stream",
     "text": [
      "Stock 42 extending...\n"
     ]
    },
    {
     "name": "stderr",
     "output_type": "stream",
     "text": [
      "[Parallel(n_jobs=-1)]: Using backend LokyBackend with 16 concurrent workers.\n",
      "[Parallel(n_jobs=-1)]: Done  18 tasks      | elapsed:    0.3s\n",
      "[Parallel(n_jobs=-1)]: Done 168 tasks      | elapsed:    2.4s\n",
      "[Parallel(n_jobs=-1)]: Done 418 tasks      | elapsed:    5.7s\n",
      "[Parallel(n_jobs=-1)]: Done 768 tasks      | elapsed:   10.4s\n",
      "[Parallel(n_jobs=-1)]: Done 1218 tasks      | elapsed:   16.6s\n",
      "[Parallel(n_jobs=-1)]: Done 1768 tasks      | elapsed:   23.7s\n",
      "[Parallel(n_jobs=-1)]: Done 2418 tasks      | elapsed:   32.4s\n",
      "[Parallel(n_jobs=-1)]: Done 3168 tasks      | elapsed:   42.2s\n",
      "[Parallel(n_jobs=-1)]: Done 3830 out of 3830 | elapsed:   51.4s finished\n"
     ]
    },
    {
     "name": "stdout",
     "output_type": "stream",
     "text": [
      "Stock 43 extending...\n"
     ]
    },
    {
     "name": "stderr",
     "output_type": "stream",
     "text": [
      "[Parallel(n_jobs=-1)]: Using backend LokyBackend with 16 concurrent workers.\n",
      "[Parallel(n_jobs=-1)]: Done  18 tasks      | elapsed:    0.4s\n",
      "[Parallel(n_jobs=-1)]: Done 168 tasks      | elapsed:    2.5s\n",
      "[Parallel(n_jobs=-1)]: Done 418 tasks      | elapsed:    5.7s\n",
      "[Parallel(n_jobs=-1)]: Done 768 tasks      | elapsed:   10.3s\n",
      "[Parallel(n_jobs=-1)]: Done 1218 tasks      | elapsed:   16.6s\n",
      "[Parallel(n_jobs=-1)]: Done 1768 tasks      | elapsed:   24.0s\n",
      "[Parallel(n_jobs=-1)]: Done 2418 tasks      | elapsed:   32.9s\n",
      "[Parallel(n_jobs=-1)]: Done 3168 tasks      | elapsed:   42.8s\n",
      "[Parallel(n_jobs=-1)]: Done 3830 out of 3830 | elapsed:   51.4s finished\n"
     ]
    },
    {
     "name": "stdout",
     "output_type": "stream",
     "text": [
      "Stock 44 extending...\n"
     ]
    },
    {
     "name": "stderr",
     "output_type": "stream",
     "text": [
      "[Parallel(n_jobs=-1)]: Using backend LokyBackend with 16 concurrent workers.\n",
      "[Parallel(n_jobs=-1)]: Done  18 tasks      | elapsed:    0.3s\n",
      "[Parallel(n_jobs=-1)]: Done 168 tasks      | elapsed:    2.3s\n",
      "[Parallel(n_jobs=-1)]: Done 418 tasks      | elapsed:    5.4s\n",
      "[Parallel(n_jobs=-1)]: Done 768 tasks      | elapsed:   10.0s\n",
      "[Parallel(n_jobs=-1)]: Done 1218 tasks      | elapsed:   15.7s\n",
      "[Parallel(n_jobs=-1)]: Done 1768 tasks      | elapsed:   22.6s\n",
      "[Parallel(n_jobs=-1)]: Done 2418 tasks      | elapsed:   31.1s\n",
      "[Parallel(n_jobs=-1)]: Done 3168 tasks      | elapsed:   40.9s\n",
      "[Parallel(n_jobs=-1)]: Done 3830 out of 3830 | elapsed:   49.6s finished\n"
     ]
    },
    {
     "name": "stdout",
     "output_type": "stream",
     "text": [
      "Stock 46 extending...\n"
     ]
    },
    {
     "name": "stderr",
     "output_type": "stream",
     "text": [
      "[Parallel(n_jobs=-1)]: Using backend LokyBackend with 16 concurrent workers.\n",
      "[Parallel(n_jobs=-1)]: Done  18 tasks      | elapsed:    0.3s\n",
      "[Parallel(n_jobs=-1)]: Done 168 tasks      | elapsed:    2.4s\n",
      "[Parallel(n_jobs=-1)]: Done 418 tasks      | elapsed:    5.8s\n",
      "[Parallel(n_jobs=-1)]: Done 768 tasks      | elapsed:   10.6s\n",
      "[Parallel(n_jobs=-1)]: Done 1218 tasks      | elapsed:   16.8s\n",
      "[Parallel(n_jobs=-1)]: Done 1768 tasks      | elapsed:   23.5s\n",
      "[Parallel(n_jobs=-1)]: Done 2418 tasks      | elapsed:   31.9s\n",
      "[Parallel(n_jobs=-1)]: Done 3168 tasks      | elapsed:   41.5s\n",
      "[Parallel(n_jobs=-1)]: Done 3830 out of 3830 | elapsed:   49.9s finished\n"
     ]
    },
    {
     "name": "stdout",
     "output_type": "stream",
     "text": [
      "Stock 47 extending...\n"
     ]
    },
    {
     "name": "stderr",
     "output_type": "stream",
     "text": [
      "[Parallel(n_jobs=-1)]: Using backend LokyBackend with 16 concurrent workers.\n",
      "[Parallel(n_jobs=-1)]: Done  18 tasks      | elapsed:    0.3s\n",
      "[Parallel(n_jobs=-1)]: Done 168 tasks      | elapsed:    2.2s\n",
      "[Parallel(n_jobs=-1)]: Done 418 tasks      | elapsed:    5.3s\n",
      "[Parallel(n_jobs=-1)]: Done 768 tasks      | elapsed:    9.8s\n",
      "[Parallel(n_jobs=-1)]: Done 1218 tasks      | elapsed:   15.5s\n",
      "[Parallel(n_jobs=-1)]: Done 1768 tasks      | elapsed:   22.6s\n",
      "[Parallel(n_jobs=-1)]: Done 2418 tasks      | elapsed:   31.0s\n",
      "[Parallel(n_jobs=-1)]: Done 3168 tasks      | elapsed:   40.7s\n",
      "[Parallel(n_jobs=-1)]: Done 3830 out of 3830 | elapsed:   49.2s finished\n"
     ]
    },
    {
     "name": "stdout",
     "output_type": "stream",
     "text": [
      "Stock 48 extending...\n"
     ]
    },
    {
     "name": "stderr",
     "output_type": "stream",
     "text": [
      "[Parallel(n_jobs=-1)]: Using backend LokyBackend with 16 concurrent workers.\n",
      "[Parallel(n_jobs=-1)]: Done  18 tasks      | elapsed:    0.3s\n",
      "[Parallel(n_jobs=-1)]: Done 168 tasks      | elapsed:    2.1s\n",
      "[Parallel(n_jobs=-1)]: Done 418 tasks      | elapsed:    5.2s\n",
      "[Parallel(n_jobs=-1)]: Done 768 tasks      | elapsed:    9.6s\n",
      "[Parallel(n_jobs=-1)]: Done 1218 tasks      | elapsed:   15.2s\n",
      "[Parallel(n_jobs=-1)]: Done 1768 tasks      | elapsed:   22.0s\n",
      "[Parallel(n_jobs=-1)]: Done 2418 tasks      | elapsed:   30.2s\n",
      "[Parallel(n_jobs=-1)]: Done 3168 tasks      | elapsed:   39.7s\n",
      "[Parallel(n_jobs=-1)]: Done 3830 out of 3830 | elapsed:   48.6s finished\n"
     ]
    },
    {
     "name": "stdout",
     "output_type": "stream",
     "text": [
      "Stock 50 extending...\n"
     ]
    },
    {
     "name": "stderr",
     "output_type": "stream",
     "text": [
      "[Parallel(n_jobs=-1)]: Using backend LokyBackend with 16 concurrent workers.\n",
      "[Parallel(n_jobs=-1)]: Done  18 tasks      | elapsed:    0.3s\n",
      "[Parallel(n_jobs=-1)]: Done 168 tasks      | elapsed:    2.2s\n",
      "[Parallel(n_jobs=-1)]: Done 418 tasks      | elapsed:    5.3s\n",
      "[Parallel(n_jobs=-1)]: Done 768 tasks      | elapsed:    9.7s\n",
      "[Parallel(n_jobs=-1)]: Done 1218 tasks      | elapsed:   15.6s\n",
      "[Parallel(n_jobs=-1)]: Done 1768 tasks      | elapsed:   22.7s\n",
      "[Parallel(n_jobs=-1)]: Done 2418 tasks      | elapsed:   31.3s\n",
      "[Parallel(n_jobs=-1)]: Done 3168 tasks      | elapsed:   41.0s\n",
      "[Parallel(n_jobs=-1)]: Done 3830 out of 3830 | elapsed:   49.5s finished\n"
     ]
    },
    {
     "name": "stdout",
     "output_type": "stream",
     "text": [
      "Stock 51 extending...\n"
     ]
    },
    {
     "name": "stderr",
     "output_type": "stream",
     "text": [
      "[Parallel(n_jobs=-1)]: Using backend LokyBackend with 16 concurrent workers.\n",
      "[Parallel(n_jobs=-1)]: Done  18 tasks      | elapsed:    0.3s\n",
      "[Parallel(n_jobs=-1)]: Done 168 tasks      | elapsed:    2.1s\n",
      "[Parallel(n_jobs=-1)]: Done 418 tasks      | elapsed:    5.2s\n",
      "[Parallel(n_jobs=-1)]: Done 768 tasks      | elapsed:    9.6s\n",
      "[Parallel(n_jobs=-1)]: Done 1218 tasks      | elapsed:   15.4s\n",
      "[Parallel(n_jobs=-1)]: Done 1768 tasks      | elapsed:   22.4s\n",
      "[Parallel(n_jobs=-1)]: Done 2418 tasks      | elapsed:   30.8s\n",
      "[Parallel(n_jobs=-1)]: Done 3168 tasks      | elapsed:   40.7s\n",
      "[Parallel(n_jobs=-1)]: Done 3830 out of 3830 | elapsed:   49.7s finished\n"
     ]
    },
    {
     "name": "stdout",
     "output_type": "stream",
     "text": [
      "Stock 52 extending...\n"
     ]
    },
    {
     "name": "stderr",
     "output_type": "stream",
     "text": [
      "[Parallel(n_jobs=-1)]: Using backend LokyBackend with 16 concurrent workers.\n",
      "[Parallel(n_jobs=-1)]: Done  18 tasks      | elapsed:    0.3s\n",
      "[Parallel(n_jobs=-1)]: Done 304 tasks      | elapsed:    3.6s\n",
      "[Parallel(n_jobs=-1)]: Done 804 tasks      | elapsed:    9.1s\n",
      "[Parallel(n_jobs=-1)]: Done 1504 tasks      | elapsed:   16.9s\n",
      "[Parallel(n_jobs=-1)]: Done 2404 tasks      | elapsed:   27.0s\n",
      "[Parallel(n_jobs=-1)]: Done 3504 tasks      | elapsed:   39.6s\n",
      "[Parallel(n_jobs=-1)]: Done 3799 out of 3830 | elapsed:   43.2s remaining:    0.3s\n",
      "[Parallel(n_jobs=-1)]: Done 3830 out of 3830 | elapsed:   43.5s finished\n"
     ]
    },
    {
     "name": "stdout",
     "output_type": "stream",
     "text": [
      "Stock 53 extending...\n"
     ]
    },
    {
     "name": "stderr",
     "output_type": "stream",
     "text": [
      "[Parallel(n_jobs=-1)]: Using backend LokyBackend with 16 concurrent workers.\n",
      "[Parallel(n_jobs=-1)]: Done  18 tasks      | elapsed:    0.3s\n",
      "[Parallel(n_jobs=-1)]: Done 168 tasks      | elapsed:    2.3s\n",
      "[Parallel(n_jobs=-1)]: Done 418 tasks      | elapsed:    6.0s\n",
      "[Parallel(n_jobs=-1)]: Done 768 tasks      | elapsed:   11.2s\n",
      "[Parallel(n_jobs=-1)]: Done 1218 tasks      | elapsed:   17.2s\n",
      "[Parallel(n_jobs=-1)]: Done 1768 tasks      | elapsed:   24.2s\n",
      "[Parallel(n_jobs=-1)]: Done 2418 tasks      | elapsed:   32.4s\n",
      "[Parallel(n_jobs=-1)]: Done 3168 tasks      | elapsed:   41.8s\n",
      "[Parallel(n_jobs=-1)]: Done 3830 out of 3830 | elapsed:   50.1s finished\n"
     ]
    },
    {
     "name": "stdout",
     "output_type": "stream",
     "text": [
      "Stock 55 extending...\n"
     ]
    },
    {
     "name": "stderr",
     "output_type": "stream",
     "text": [
      "[Parallel(n_jobs=-1)]: Using backend LokyBackend with 16 concurrent workers.\n",
      "[Parallel(n_jobs=-1)]: Done  18 tasks      | elapsed:    0.3s\n",
      "[Parallel(n_jobs=-1)]: Done 168 tasks      | elapsed:    2.5s\n",
      "[Parallel(n_jobs=-1)]: Done 418 tasks      | elapsed:    6.0s\n",
      "[Parallel(n_jobs=-1)]: Done 768 tasks      | elapsed:   10.4s\n",
      "[Parallel(n_jobs=-1)]: Done 1218 tasks      | elapsed:   16.0s\n",
      "[Parallel(n_jobs=-1)]: Done 1768 tasks      | elapsed:   23.1s\n",
      "[Parallel(n_jobs=-1)]: Done 2418 tasks      | elapsed:   31.4s\n",
      "[Parallel(n_jobs=-1)]: Done 3168 tasks      | elapsed:   42.4s\n",
      "[Parallel(n_jobs=-1)]: Done 3830 out of 3830 | elapsed:   51.3s finished\n"
     ]
    },
    {
     "name": "stdout",
     "output_type": "stream",
     "text": [
      "Stock 56 extending...\n"
     ]
    },
    {
     "name": "stderr",
     "output_type": "stream",
     "text": [
      "[Parallel(n_jobs=-1)]: Using backend LokyBackend with 16 concurrent workers.\n",
      "[Parallel(n_jobs=-1)]: Done  18 tasks      | elapsed:    0.3s\n",
      "[Parallel(n_jobs=-1)]: Done 168 tasks      | elapsed:    2.2s\n",
      "[Parallel(n_jobs=-1)]: Done 418 tasks      | elapsed:    5.5s\n",
      "[Parallel(n_jobs=-1)]: Done 768 tasks      | elapsed:   10.0s\n",
      "[Parallel(n_jobs=-1)]: Done 1218 tasks      | elapsed:   15.6s\n",
      "[Parallel(n_jobs=-1)]: Done 1768 tasks      | elapsed:   22.4s\n",
      "[Parallel(n_jobs=-1)]: Done 2418 tasks      | elapsed:   31.5s\n",
      "[Parallel(n_jobs=-1)]: Done 3168 tasks      | elapsed:   41.3s\n",
      "[Parallel(n_jobs=-1)]: Done 3830 out of 3830 | elapsed:   50.3s finished\n"
     ]
    },
    {
     "name": "stdout",
     "output_type": "stream",
     "text": [
      "Stock 58 extending...\n"
     ]
    },
    {
     "name": "stderr",
     "output_type": "stream",
     "text": [
      "[Parallel(n_jobs=-1)]: Using backend LokyBackend with 16 concurrent workers.\n",
      "[Parallel(n_jobs=-1)]: Done  18 tasks      | elapsed:    0.3s\n",
      "[Parallel(n_jobs=-1)]: Done 168 tasks      | elapsed:    2.2s\n",
      "[Parallel(n_jobs=-1)]: Done 418 tasks      | elapsed:    5.6s\n"
     ]
    },
    {
     "ename": "KeyboardInterrupt",
     "evalue": "",
     "output_type": "error",
     "traceback": [
      "\u001b[1;31m---------------------------------------------------------------------------\u001b[0m",
      "\u001b[1;31mKeyboardInterrupt\u001b[0m                         Traceback (most recent call last)",
      "\u001b[1;32m<timed exec>\u001b[0m in \u001b[0;36m<module>\u001b[1;34m\u001b[0m\n",
      "\u001b[1;32m~\\AppData\\Local\\Temp/ipykernel_29208/1396540887.py\u001b[0m in \u001b[0;36mextend_times\u001b[1;34m(df, end)\u001b[0m\n\u001b[0;32m     14\u001b[0m \u001b[1;32mdef\u001b[0m \u001b[0mextend_times\u001b[0m\u001b[1;33m(\u001b[0m\u001b[0mdf\u001b[0m\u001b[1;33m,\u001b[0m \u001b[0mend\u001b[0m\u001b[1;33m=\u001b[0m\u001b[1;36m77\u001b[0m\u001b[1;33m)\u001b[0m\u001b[1;33m:\u001b[0m\u001b[1;33m\u001b[0m\u001b[1;33m\u001b[0m\u001b[0m\n\u001b[0;32m     15\u001b[0m     \u001b[0mret\u001b[0m \u001b[1;33m=\u001b[0m \u001b[0mpd\u001b[0m\u001b[1;33m.\u001b[0m\u001b[0mDataFrame\u001b[0m\u001b[1;33m(\u001b[0m\u001b[1;33m)\u001b[0m\u001b[1;33m\u001b[0m\u001b[1;33m\u001b[0m\u001b[0m\n\u001b[1;32m---> 16\u001b[1;33m     ret = Parallel(n_jobs=-1, verbose=1)(\n\u001b[0m\u001b[0;32m     17\u001b[0m         \u001b[0mdelayed\u001b[0m\u001b[1;33m(\u001b[0m\u001b[0mchain_time\u001b[0m\u001b[1;33m)\u001b[0m\u001b[1;33m(\u001b[0m\u001b[0mdf\u001b[0m\u001b[1;33m,\u001b[0m \u001b[0mtime_id\u001b[0m\u001b[1;33m,\u001b[0m \u001b[0mend\u001b[0m\u001b[1;33m)\u001b[0m \u001b[1;32mfor\u001b[0m \u001b[0mtime_id\u001b[0m \u001b[1;32min\u001b[0m \u001b[0mdf\u001b[0m\u001b[1;33m.\u001b[0m\u001b[0mtime_id\u001b[0m\u001b[1;33m.\u001b[0m\u001b[0munique\u001b[0m\u001b[1;33m(\u001b[0m\u001b[1;33m)\u001b[0m\u001b[1;33m\u001b[0m\u001b[1;33m\u001b[0m\u001b[0m\n\u001b[0;32m     18\u001b[0m     )\n",
      "\u001b[1;32m~\\anaconda3\\lib\\site-packages\\joblib\\parallel.py\u001b[0m in \u001b[0;36m__call__\u001b[1;34m(self, iterable)\u001b[0m\n\u001b[0;32m   1054\u001b[0m \u001b[1;33m\u001b[0m\u001b[0m\n\u001b[0;32m   1055\u001b[0m             \u001b[1;32mwith\u001b[0m \u001b[0mself\u001b[0m\u001b[1;33m.\u001b[0m\u001b[0m_backend\u001b[0m\u001b[1;33m.\u001b[0m\u001b[0mretrieval_context\u001b[0m\u001b[1;33m(\u001b[0m\u001b[1;33m)\u001b[0m\u001b[1;33m:\u001b[0m\u001b[1;33m\u001b[0m\u001b[1;33m\u001b[0m\u001b[0m\n\u001b[1;32m-> 1056\u001b[1;33m                 \u001b[0mself\u001b[0m\u001b[1;33m.\u001b[0m\u001b[0mretrieve\u001b[0m\u001b[1;33m(\u001b[0m\u001b[1;33m)\u001b[0m\u001b[1;33m\u001b[0m\u001b[1;33m\u001b[0m\u001b[0m\n\u001b[0m\u001b[0;32m   1057\u001b[0m             \u001b[1;31m# Make sure that we get a last message telling us we are done\u001b[0m\u001b[1;33m\u001b[0m\u001b[1;33m\u001b[0m\u001b[0m\n\u001b[0;32m   1058\u001b[0m             \u001b[0melapsed_time\u001b[0m \u001b[1;33m=\u001b[0m \u001b[0mtime\u001b[0m\u001b[1;33m.\u001b[0m\u001b[0mtime\u001b[0m\u001b[1;33m(\u001b[0m\u001b[1;33m)\u001b[0m \u001b[1;33m-\u001b[0m \u001b[0mself\u001b[0m\u001b[1;33m.\u001b[0m\u001b[0m_start_time\u001b[0m\u001b[1;33m\u001b[0m\u001b[1;33m\u001b[0m\u001b[0m\n",
      "\u001b[1;32m~\\anaconda3\\lib\\site-packages\\joblib\\parallel.py\u001b[0m in \u001b[0;36mretrieve\u001b[1;34m(self)\u001b[0m\n\u001b[0;32m    933\u001b[0m             \u001b[1;32mtry\u001b[0m\u001b[1;33m:\u001b[0m\u001b[1;33m\u001b[0m\u001b[1;33m\u001b[0m\u001b[0m\n\u001b[0;32m    934\u001b[0m                 \u001b[1;32mif\u001b[0m \u001b[0mgetattr\u001b[0m\u001b[1;33m(\u001b[0m\u001b[0mself\u001b[0m\u001b[1;33m.\u001b[0m\u001b[0m_backend\u001b[0m\u001b[1;33m,\u001b[0m \u001b[1;34m'supports_timeout'\u001b[0m\u001b[1;33m,\u001b[0m \u001b[1;32mFalse\u001b[0m\u001b[1;33m)\u001b[0m\u001b[1;33m:\u001b[0m\u001b[1;33m\u001b[0m\u001b[1;33m\u001b[0m\u001b[0m\n\u001b[1;32m--> 935\u001b[1;33m                     \u001b[0mself\u001b[0m\u001b[1;33m.\u001b[0m\u001b[0m_output\u001b[0m\u001b[1;33m.\u001b[0m\u001b[0mextend\u001b[0m\u001b[1;33m(\u001b[0m\u001b[0mjob\u001b[0m\u001b[1;33m.\u001b[0m\u001b[0mget\u001b[0m\u001b[1;33m(\u001b[0m\u001b[0mtimeout\u001b[0m\u001b[1;33m=\u001b[0m\u001b[0mself\u001b[0m\u001b[1;33m.\u001b[0m\u001b[0mtimeout\u001b[0m\u001b[1;33m)\u001b[0m\u001b[1;33m)\u001b[0m\u001b[1;33m\u001b[0m\u001b[1;33m\u001b[0m\u001b[0m\n\u001b[0m\u001b[0;32m    936\u001b[0m                 \u001b[1;32melse\u001b[0m\u001b[1;33m:\u001b[0m\u001b[1;33m\u001b[0m\u001b[1;33m\u001b[0m\u001b[0m\n\u001b[0;32m    937\u001b[0m                     \u001b[0mself\u001b[0m\u001b[1;33m.\u001b[0m\u001b[0m_output\u001b[0m\u001b[1;33m.\u001b[0m\u001b[0mextend\u001b[0m\u001b[1;33m(\u001b[0m\u001b[0mjob\u001b[0m\u001b[1;33m.\u001b[0m\u001b[0mget\u001b[0m\u001b[1;33m(\u001b[0m\u001b[1;33m)\u001b[0m\u001b[1;33m)\u001b[0m\u001b[1;33m\u001b[0m\u001b[1;33m\u001b[0m\u001b[0m\n",
      "\u001b[1;32m~\\anaconda3\\lib\\site-packages\\joblib\\_parallel_backends.py\u001b[0m in \u001b[0;36mwrap_future_result\u001b[1;34m(future, timeout)\u001b[0m\n\u001b[0;32m    540\u001b[0m         AsyncResults.get from multiprocessing.\"\"\"\n\u001b[0;32m    541\u001b[0m         \u001b[1;32mtry\u001b[0m\u001b[1;33m:\u001b[0m\u001b[1;33m\u001b[0m\u001b[1;33m\u001b[0m\u001b[0m\n\u001b[1;32m--> 542\u001b[1;33m             \u001b[1;32mreturn\u001b[0m \u001b[0mfuture\u001b[0m\u001b[1;33m.\u001b[0m\u001b[0mresult\u001b[0m\u001b[1;33m(\u001b[0m\u001b[0mtimeout\u001b[0m\u001b[1;33m=\u001b[0m\u001b[0mtimeout\u001b[0m\u001b[1;33m)\u001b[0m\u001b[1;33m\u001b[0m\u001b[1;33m\u001b[0m\u001b[0m\n\u001b[0m\u001b[0;32m    543\u001b[0m         \u001b[1;32mexcept\u001b[0m \u001b[0mCfTimeoutError\u001b[0m \u001b[1;32mas\u001b[0m \u001b[0me\u001b[0m\u001b[1;33m:\u001b[0m\u001b[1;33m\u001b[0m\u001b[1;33m\u001b[0m\u001b[0m\n\u001b[0;32m    544\u001b[0m             \u001b[1;32mraise\u001b[0m \u001b[0mTimeoutError\u001b[0m \u001b[1;32mfrom\u001b[0m \u001b[0me\u001b[0m\u001b[1;33m\u001b[0m\u001b[1;33m\u001b[0m\u001b[0m\n",
      "\u001b[1;32m~\\anaconda3\\lib\\concurrent\\futures\\_base.py\u001b[0m in \u001b[0;36mresult\u001b[1;34m(self, timeout)\u001b[0m\n\u001b[0;32m    438\u001b[0m                     \u001b[1;32mreturn\u001b[0m \u001b[0mself\u001b[0m\u001b[1;33m.\u001b[0m\u001b[0m__get_result\u001b[0m\u001b[1;33m(\u001b[0m\u001b[1;33m)\u001b[0m\u001b[1;33m\u001b[0m\u001b[1;33m\u001b[0m\u001b[0m\n\u001b[0;32m    439\u001b[0m \u001b[1;33m\u001b[0m\u001b[0m\n\u001b[1;32m--> 440\u001b[1;33m                 \u001b[0mself\u001b[0m\u001b[1;33m.\u001b[0m\u001b[0m_condition\u001b[0m\u001b[1;33m.\u001b[0m\u001b[0mwait\u001b[0m\u001b[1;33m(\u001b[0m\u001b[0mtimeout\u001b[0m\u001b[1;33m)\u001b[0m\u001b[1;33m\u001b[0m\u001b[1;33m\u001b[0m\u001b[0m\n\u001b[0m\u001b[0;32m    441\u001b[0m \u001b[1;33m\u001b[0m\u001b[0m\n\u001b[0;32m    442\u001b[0m                 \u001b[1;32mif\u001b[0m \u001b[0mself\u001b[0m\u001b[1;33m.\u001b[0m\u001b[0m_state\u001b[0m \u001b[1;32min\u001b[0m \u001b[1;33m[\u001b[0m\u001b[0mCANCELLED\u001b[0m\u001b[1;33m,\u001b[0m \u001b[0mCANCELLED_AND_NOTIFIED\u001b[0m\u001b[1;33m]\u001b[0m\u001b[1;33m:\u001b[0m\u001b[1;33m\u001b[0m\u001b[1;33m\u001b[0m\u001b[0m\n",
      "\u001b[1;32m~\\anaconda3\\lib\\threading.py\u001b[0m in \u001b[0;36mwait\u001b[1;34m(self, timeout)\u001b[0m\n\u001b[0;32m    310\u001b[0m         \u001b[1;32mtry\u001b[0m\u001b[1;33m:\u001b[0m    \u001b[1;31m# restore state no matter what (e.g., KeyboardInterrupt)\u001b[0m\u001b[1;33m\u001b[0m\u001b[1;33m\u001b[0m\u001b[0m\n\u001b[0;32m    311\u001b[0m             \u001b[1;32mif\u001b[0m \u001b[0mtimeout\u001b[0m \u001b[1;32mis\u001b[0m \u001b[1;32mNone\u001b[0m\u001b[1;33m:\u001b[0m\u001b[1;33m\u001b[0m\u001b[1;33m\u001b[0m\u001b[0m\n\u001b[1;32m--> 312\u001b[1;33m                 \u001b[0mwaiter\u001b[0m\u001b[1;33m.\u001b[0m\u001b[0macquire\u001b[0m\u001b[1;33m(\u001b[0m\u001b[1;33m)\u001b[0m\u001b[1;33m\u001b[0m\u001b[1;33m\u001b[0m\u001b[0m\n\u001b[0m\u001b[0;32m    313\u001b[0m                 \u001b[0mgotit\u001b[0m \u001b[1;33m=\u001b[0m \u001b[1;32mTrue\u001b[0m\u001b[1;33m\u001b[0m\u001b[1;33m\u001b[0m\u001b[0m\n\u001b[0;32m    314\u001b[0m             \u001b[1;32melse\u001b[0m\u001b[1;33m:\u001b[0m\u001b[1;33m\u001b[0m\u001b[1;33m\u001b[0m\u001b[0m\n",
      "\u001b[1;31mKeyboardInterrupt\u001b[0m: "
     ]
    }
   ],
   "source": [
    "%%time\n",
    "for stock_id in df.stock_id.unique()[:]:\n",
    "    print(f\"Stock {stock_id} extending...\")\n",
    "    # default will extend stocks by max possible chain length\n",
    "    extended_df = extend_times(df[df['stock_id']==stock_id], end=1)\n",
    "    extended_df.to_feather(f\"extend_two/stock_{stock_id}.fth\")   "
   ]
  },
  {
   "cell_type": "markdown",
   "metadata": {},
   "source": [
    "#### Extend by Three TimeIDs"
   ]
  },
  {
   "cell_type": "code",
   "execution_count": 128,
   "metadata": {},
   "outputs": [
    {
     "name": "stdout",
     "output_type": "stream",
     "text": [
      "Stock 0 extending...\n"
     ]
    },
    {
     "name": "stderr",
     "output_type": "stream",
     "text": [
      "[Parallel(n_jobs=-1)]: Using backend LokyBackend with 16 concurrent workers.\n",
      "[Parallel(n_jobs=-1)]: Done  18 tasks      | elapsed:    0.5s\n",
      "[Parallel(n_jobs=-1)]: Done 168 tasks      | elapsed:    2.8s\n",
      "[Parallel(n_jobs=-1)]: Done 418 tasks      | elapsed:    6.7s\n",
      "[Parallel(n_jobs=-1)]: Done 768 tasks      | elapsed:   12.3s\n",
      "[Parallel(n_jobs=-1)]: Done 1218 tasks      | elapsed:   19.5s\n",
      "[Parallel(n_jobs=-1)]: Done 1768 tasks      | elapsed:   28.2s\n",
      "[Parallel(n_jobs=-1)]: Done 2418 tasks      | elapsed:   38.7s\n",
      "[Parallel(n_jobs=-1)]: Done 3168 tasks      | elapsed:   50.8s\n",
      "[Parallel(n_jobs=-1)]: Done 3830 out of 3830 | elapsed:  1.0min finished\n"
     ]
    },
    {
     "name": "stdout",
     "output_type": "stream",
     "text": [
      "Stock 1 extending...\n"
     ]
    },
    {
     "name": "stderr",
     "output_type": "stream",
     "text": [
      "[Parallel(n_jobs=-1)]: Using backend LokyBackend with 16 concurrent workers.\n",
      "[Parallel(n_jobs=-1)]: Done  18 tasks      | elapsed:    0.4s\n",
      "[Parallel(n_jobs=-1)]: Done 168 tasks      | elapsed:    2.7s\n",
      "[Parallel(n_jobs=-1)]: Done 418 tasks      | elapsed:    6.6s\n",
      "[Parallel(n_jobs=-1)]: Done 768 tasks      | elapsed:   12.2s\n",
      "[Parallel(n_jobs=-1)]: Done 1218 tasks      | elapsed:   19.3s\n",
      "[Parallel(n_jobs=-1)]: Done 1768 tasks      | elapsed:   28.0s\n",
      "[Parallel(n_jobs=-1)]: Done 2418 tasks      | elapsed:   38.5s\n",
      "[Parallel(n_jobs=-1)]: Done 3168 tasks      | elapsed:   50.5s\n",
      "[Parallel(n_jobs=-1)]: Done 3830 out of 3830 | elapsed:  1.0min finished\n"
     ]
    },
    {
     "name": "stdout",
     "output_type": "stream",
     "text": [
      "Stock 2 extending...\n"
     ]
    },
    {
     "name": "stderr",
     "output_type": "stream",
     "text": [
      "[Parallel(n_jobs=-1)]: Using backend LokyBackend with 16 concurrent workers.\n",
      "[Parallel(n_jobs=-1)]: Done  18 tasks      | elapsed:    0.4s\n",
      "[Parallel(n_jobs=-1)]: Done 304 tasks      | elapsed:    4.6s\n",
      "[Parallel(n_jobs=-1)]: Done 804 tasks      | elapsed:   11.8s\n",
      "[Parallel(n_jobs=-1)]: Done 1504 tasks      | elapsed:   21.9s\n",
      "[Parallel(n_jobs=-1)]: Done 2404 tasks      | elapsed:   35.5s\n",
      "[Parallel(n_jobs=-1)]: Done 3504 tasks      | elapsed:   51.7s\n",
      "[Parallel(n_jobs=-1)]: Done 3799 out of 3830 | elapsed:   56.0s remaining:    0.4s\n",
      "[Parallel(n_jobs=-1)]: Done 3830 out of 3830 | elapsed:   56.4s finished\n"
     ]
    },
    {
     "name": "stdout",
     "output_type": "stream",
     "text": [
      "Stock 3 extending...\n"
     ]
    },
    {
     "name": "stderr",
     "output_type": "stream",
     "text": [
      "[Parallel(n_jobs=-1)]: Using backend LokyBackend with 16 concurrent workers.\n",
      "[Parallel(n_jobs=-1)]: Done  18 tasks      | elapsed:    0.3s\n",
      "[Parallel(n_jobs=-1)]: Done 304 tasks      | elapsed:    4.5s\n",
      "[Parallel(n_jobs=-1)]: Done 804 tasks      | elapsed:   11.8s\n",
      "[Parallel(n_jobs=-1)]: Done 1504 tasks      | elapsed:   22.2s\n",
      "[Parallel(n_jobs=-1)]: Done 2404 tasks      | elapsed:   35.6s\n",
      "[Parallel(n_jobs=-1)]: Done 3504 tasks      | elapsed:   51.9s\n",
      "[Parallel(n_jobs=-1)]: Done 3799 out of 3830 | elapsed:   56.1s remaining:    0.4s\n",
      "[Parallel(n_jobs=-1)]: Done 3830 out of 3830 | elapsed:   56.6s finished\n"
     ]
    },
    {
     "name": "stdout",
     "output_type": "stream",
     "text": [
      "Stock 4 extending...\n"
     ]
    },
    {
     "name": "stderr",
     "output_type": "stream",
     "text": [
      "[Parallel(n_jobs=-1)]: Using backend LokyBackend with 16 concurrent workers.\n",
      "[Parallel(n_jobs=-1)]: Done  18 tasks      | elapsed:    0.4s\n",
      "[Parallel(n_jobs=-1)]: Done 304 tasks      | elapsed:    4.5s\n",
      "[Parallel(n_jobs=-1)]: Done 804 tasks      | elapsed:   11.6s\n",
      "[Parallel(n_jobs=-1)]: Done 1504 tasks      | elapsed:   21.8s\n",
      "[Parallel(n_jobs=-1)]: Done 2404 tasks      | elapsed:   35.3s\n",
      "[Parallel(n_jobs=-1)]: Done 3504 tasks      | elapsed:   51.3s\n",
      "[Parallel(n_jobs=-1)]: Done 3830 out of 3830 | elapsed:   56.1s finished\n"
     ]
    },
    {
     "name": "stdout",
     "output_type": "stream",
     "text": [
      "Stock 5 extending...\n"
     ]
    },
    {
     "name": "stderr",
     "output_type": "stream",
     "text": [
      "[Parallel(n_jobs=-1)]: Using backend LokyBackend with 16 concurrent workers.\n",
      "[Parallel(n_jobs=-1)]: Done  18 tasks      | elapsed:    0.4s\n",
      "[Parallel(n_jobs=-1)]: Done 168 tasks      | elapsed:    2.8s\n",
      "[Parallel(n_jobs=-1)]: Done 418 tasks      | elapsed:    6.6s\n",
      "[Parallel(n_jobs=-1)]: Done 768 tasks      | elapsed:   12.1s\n",
      "[Parallel(n_jobs=-1)]: Done 1218 tasks      | elapsed:   19.2s\n",
      "[Parallel(n_jobs=-1)]: Done 1768 tasks      | elapsed:   27.9s\n",
      "[Parallel(n_jobs=-1)]: Done 2418 tasks      | elapsed:   38.4s\n",
      "[Parallel(n_jobs=-1)]: Done 3168 tasks      | elapsed:   50.5s\n",
      "[Parallel(n_jobs=-1)]: Done 3830 out of 3830 | elapsed:  1.0min finished\n"
     ]
    },
    {
     "name": "stdout",
     "output_type": "stream",
     "text": [
      "Stock 6 extending...\n"
     ]
    },
    {
     "name": "stderr",
     "output_type": "stream",
     "text": [
      "[Parallel(n_jobs=-1)]: Using backend LokyBackend with 16 concurrent workers.\n",
      "[Parallel(n_jobs=-1)]: Done  18 tasks      | elapsed:    0.3s\n",
      "[Parallel(n_jobs=-1)]: Done 304 tasks      | elapsed:    4.5s\n",
      "[Parallel(n_jobs=-1)]: Done 804 tasks      | elapsed:   12.1s\n",
      "[Parallel(n_jobs=-1)]: Done 1504 tasks      | elapsed:   22.3s\n",
      "[Parallel(n_jobs=-1)]: Done 2404 tasks      | elapsed:   35.7s\n",
      "[Parallel(n_jobs=-1)]: Done 3504 tasks      | elapsed:   51.8s\n",
      "[Parallel(n_jobs=-1)]: Done 3799 out of 3830 | elapsed:   56.1s remaining:    0.4s\n",
      "[Parallel(n_jobs=-1)]: Done 3830 out of 3830 | elapsed:   56.6s finished\n"
     ]
    },
    {
     "name": "stdout",
     "output_type": "stream",
     "text": [
      "Stock 7 extending...\n"
     ]
    },
    {
     "name": "stderr",
     "output_type": "stream",
     "text": [
      "[Parallel(n_jobs=-1)]: Using backend LokyBackend with 16 concurrent workers.\n",
      "[Parallel(n_jobs=-1)]: Done  18 tasks      | elapsed:    0.3s\n",
      "[Parallel(n_jobs=-1)]: Done 304 tasks      | elapsed:    4.6s\n",
      "[Parallel(n_jobs=-1)]: Done 804 tasks      | elapsed:   11.9s\n",
      "[Parallel(n_jobs=-1)]: Done 1504 tasks      | elapsed:   22.3s\n",
      "[Parallel(n_jobs=-1)]: Done 2404 tasks      | elapsed:   35.9s\n",
      "[Parallel(n_jobs=-1)]: Done 3504 tasks      | elapsed:   52.1s\n",
      "[Parallel(n_jobs=-1)]: Done 3830 out of 3830 | elapsed:   56.9s finished\n"
     ]
    },
    {
     "name": "stdout",
     "output_type": "stream",
     "text": [
      "Stock 8 extending...\n"
     ]
    },
    {
     "name": "stderr",
     "output_type": "stream",
     "text": [
      "[Parallel(n_jobs=-1)]: Using backend LokyBackend with 16 concurrent workers.\n",
      "[Parallel(n_jobs=-1)]: Done  18 tasks      | elapsed:    0.4s\n",
      "[Parallel(n_jobs=-1)]: Done 304 tasks      | elapsed:    4.5s\n",
      "[Parallel(n_jobs=-1)]: Done 804 tasks      | elapsed:   11.6s\n",
      "[Parallel(n_jobs=-1)]: Done 1504 tasks      | elapsed:   21.8s\n",
      "[Parallel(n_jobs=-1)]: Done 2404 tasks      | elapsed:   35.2s\n",
      "[Parallel(n_jobs=-1)]: Done 3504 tasks      | elapsed:   51.2s\n",
      "[Parallel(n_jobs=-1)]: Done 3830 out of 3830 | elapsed:   55.9s finished\n"
     ]
    },
    {
     "name": "stdout",
     "output_type": "stream",
     "text": [
      "Stock 9 extending...\n"
     ]
    },
    {
     "name": "stderr",
     "output_type": "stream",
     "text": [
      "[Parallel(n_jobs=-1)]: Using backend LokyBackend with 16 concurrent workers.\n",
      "[Parallel(n_jobs=-1)]: Done  18 tasks      | elapsed:    0.4s\n",
      "[Parallel(n_jobs=-1)]: Done 168 tasks      | elapsed:    2.8s\n",
      "[Parallel(n_jobs=-1)]: Done 418 tasks      | elapsed:    6.6s\n",
      "[Parallel(n_jobs=-1)]: Done 768 tasks      | elapsed:   12.1s\n",
      "[Parallel(n_jobs=-1)]: Done 1218 tasks      | elapsed:   19.3s\n",
      "[Parallel(n_jobs=-1)]: Done 1768 tasks      | elapsed:   27.9s\n",
      "[Parallel(n_jobs=-1)]: Done 2418 tasks      | elapsed:   38.5s\n",
      "[Parallel(n_jobs=-1)]: Done 3168 tasks      | elapsed:   50.6s\n",
      "[Parallel(n_jobs=-1)]: Done 3830 out of 3830 | elapsed:  1.0min finished\n"
     ]
    },
    {
     "name": "stdout",
     "output_type": "stream",
     "text": [
      "Stock 10 extending...\n"
     ]
    },
    {
     "name": "stderr",
     "output_type": "stream",
     "text": [
      "[Parallel(n_jobs=-1)]: Using backend LokyBackend with 16 concurrent workers.\n",
      "[Parallel(n_jobs=-1)]: Done  18 tasks      | elapsed:    0.3s\n",
      "[Parallel(n_jobs=-1)]: Done 304 tasks      | elapsed:    4.4s\n",
      "[Parallel(n_jobs=-1)]: Done 804 tasks      | elapsed:   11.8s\n",
      "[Parallel(n_jobs=-1)]: Done 1504 tasks      | elapsed:   22.1s\n",
      "[Parallel(n_jobs=-1)]: Done 2404 tasks      | elapsed:   35.4s\n",
      "[Parallel(n_jobs=-1)]: Done 3504 tasks      | elapsed:   51.6s\n",
      "[Parallel(n_jobs=-1)]: Done 3830 out of 3830 | elapsed:   56.2s finished\n"
     ]
    },
    {
     "name": "stdout",
     "output_type": "stream",
     "text": [
      "Stock 11 extending...\n"
     ]
    },
    {
     "name": "stderr",
     "output_type": "stream",
     "text": [
      "[Parallel(n_jobs=-1)]: Using backend LokyBackend with 16 concurrent workers.\n",
      "[Parallel(n_jobs=-1)]: Done  18 tasks      | elapsed:    0.4s\n",
      "[Parallel(n_jobs=-1)]: Done 168 tasks      | elapsed:    2.8s\n",
      "[Parallel(n_jobs=-1)]: Done 418 tasks      | elapsed:    6.5s\n",
      "[Parallel(n_jobs=-1)]: Done 768 tasks      | elapsed:   12.1s\n",
      "[Parallel(n_jobs=-1)]: Done 1218 tasks      | elapsed:   19.2s\n",
      "[Parallel(n_jobs=-1)]: Done 1768 tasks      | elapsed:   28.0s\n",
      "[Parallel(n_jobs=-1)]: Done 2418 tasks      | elapsed:   38.5s\n",
      "[Parallel(n_jobs=-1)]: Done 3168 tasks      | elapsed:   50.6s\n",
      "[Parallel(n_jobs=-1)]: Done 3830 out of 3830 | elapsed:  1.0min finished\n"
     ]
    },
    {
     "name": "stdout",
     "output_type": "stream",
     "text": [
      "Stock 13 extending...\n"
     ]
    },
    {
     "name": "stderr",
     "output_type": "stream",
     "text": [
      "[Parallel(n_jobs=-1)]: Using backend LokyBackend with 16 concurrent workers.\n",
      "[Parallel(n_jobs=-1)]: Done  18 tasks      | elapsed:    0.3s\n",
      "[Parallel(n_jobs=-1)]: Done 304 tasks      | elapsed:    4.6s\n",
      "[Parallel(n_jobs=-1)]: Done 804 tasks      | elapsed:   11.9s\n",
      "[Parallel(n_jobs=-1)]: Done 1504 tasks      | elapsed:   22.2s\n",
      "[Parallel(n_jobs=-1)]: Done 2404 tasks      | elapsed:   35.8s\n",
      "[Parallel(n_jobs=-1)]: Done 3504 tasks      | elapsed:   51.9s\n",
      "[Parallel(n_jobs=-1)]: Done 3798 out of 3829 | elapsed:   56.1s remaining:    0.4s\n",
      "[Parallel(n_jobs=-1)]: Done 3829 out of 3829 | elapsed:   56.5s finished\n"
     ]
    },
    {
     "name": "stdout",
     "output_type": "stream",
     "text": [
      "Stock 14 extending...\n"
     ]
    },
    {
     "name": "stderr",
     "output_type": "stream",
     "text": [
      "[Parallel(n_jobs=-1)]: Using backend LokyBackend with 16 concurrent workers.\n",
      "[Parallel(n_jobs=-1)]: Done  18 tasks      | elapsed:    0.4s\n",
      "[Parallel(n_jobs=-1)]: Done 168 tasks      | elapsed:    2.7s\n",
      "[Parallel(n_jobs=-1)]: Done 418 tasks      | elapsed:    6.5s\n",
      "[Parallel(n_jobs=-1)]: Done 768 tasks      | elapsed:   12.0s\n",
      "[Parallel(n_jobs=-1)]: Done 1218 tasks      | elapsed:   19.2s\n",
      "[Parallel(n_jobs=-1)]: Done 1768 tasks      | elapsed:   27.7s\n",
      "[Parallel(n_jobs=-1)]: Done 2418 tasks      | elapsed:   38.2s\n",
      "[Parallel(n_jobs=-1)]: Done 3168 tasks      | elapsed:   50.2s\n",
      "[Parallel(n_jobs=-1)]: Done 3830 out of 3830 | elapsed:  1.0min finished\n"
     ]
    },
    {
     "name": "stdout",
     "output_type": "stream",
     "text": [
      "Stock 15 extending...\n"
     ]
    },
    {
     "name": "stderr",
     "output_type": "stream",
     "text": [
      "[Parallel(n_jobs=-1)]: Using backend LokyBackend with 16 concurrent workers.\n",
      "[Parallel(n_jobs=-1)]: Done  18 tasks      | elapsed:    0.4s\n",
      "[Parallel(n_jobs=-1)]: Done 168 tasks      | elapsed:    2.6s\n",
      "[Parallel(n_jobs=-1)]: Done 418 tasks      | elapsed:    6.4s\n",
      "[Parallel(n_jobs=-1)]: Done 768 tasks      | elapsed:   12.0s\n",
      "[Parallel(n_jobs=-1)]: Done 1218 tasks      | elapsed:   19.2s\n",
      "[Parallel(n_jobs=-1)]: Done 1768 tasks      | elapsed:   27.9s\n",
      "[Parallel(n_jobs=-1)]: Done 2418 tasks      | elapsed:   38.5s\n",
      "[Parallel(n_jobs=-1)]: Done 3168 tasks      | elapsed:   50.6s\n",
      "[Parallel(n_jobs=-1)]: Done 3830 out of 3830 | elapsed:  1.0min finished\n"
     ]
    },
    {
     "name": "stdout",
     "output_type": "stream",
     "text": [
      "Stock 16 extending...\n"
     ]
    },
    {
     "name": "stderr",
     "output_type": "stream",
     "text": [
      "[Parallel(n_jobs=-1)]: Using backend LokyBackend with 16 concurrent workers.\n",
      "[Parallel(n_jobs=-1)]: Done  18 tasks      | elapsed:    0.3s\n",
      "[Parallel(n_jobs=-1)]: Done 304 tasks      | elapsed:    4.6s\n",
      "[Parallel(n_jobs=-1)]: Done 804 tasks      | elapsed:   12.0s\n",
      "[Parallel(n_jobs=-1)]: Done 1504 tasks      | elapsed:   22.6s\n",
      "[Parallel(n_jobs=-1)]: Done 2404 tasks      | elapsed:   36.0s\n",
      "[Parallel(n_jobs=-1)]: Done 3504 tasks      | elapsed:   52.2s\n",
      "[Parallel(n_jobs=-1)]: Done 3799 out of 3830 | elapsed:   56.5s remaining:    0.4s\n",
      "[Parallel(n_jobs=-1)]: Done 3830 out of 3830 | elapsed:   56.9s finished\n"
     ]
    },
    {
     "name": "stdout",
     "output_type": "stream",
     "text": [
      "Stock 17 extending...\n"
     ]
    },
    {
     "name": "stderr",
     "output_type": "stream",
     "text": [
      "[Parallel(n_jobs=-1)]: Using backend LokyBackend with 16 concurrent workers.\n",
      "[Parallel(n_jobs=-1)]: Done  18 tasks      | elapsed:    0.4s\n",
      "[Parallel(n_jobs=-1)]: Done 168 tasks      | elapsed:    2.7s\n",
      "[Parallel(n_jobs=-1)]: Done 418 tasks      | elapsed:    6.6s\n",
      "[Parallel(n_jobs=-1)]: Done 768 tasks      | elapsed:   12.6s\n",
      "[Parallel(n_jobs=-1)]: Done 1218 tasks      | elapsed:   20.0s\n",
      "[Parallel(n_jobs=-1)]: Done 1768 tasks      | elapsed:   28.8s\n",
      "[Parallel(n_jobs=-1)]: Done 2418 tasks      | elapsed:   39.4s\n",
      "[Parallel(n_jobs=-1)]: Done 3168 tasks      | elapsed:   51.4s\n",
      "[Parallel(n_jobs=-1)]: Done 3830 out of 3830 | elapsed:  1.0min finished\n"
     ]
    },
    {
     "name": "stdout",
     "output_type": "stream",
     "text": [
      "Stock 18 extending...\n"
     ]
    },
    {
     "name": "stderr",
     "output_type": "stream",
     "text": [
      "[Parallel(n_jobs=-1)]: Using backend LokyBackend with 16 concurrent workers.\n",
      "[Parallel(n_jobs=-1)]: Done  18 tasks      | elapsed:    0.4s\n",
      "[Parallel(n_jobs=-1)]: Done 168 tasks      | elapsed:    2.7s\n",
      "[Parallel(n_jobs=-1)]: Done 418 tasks      | elapsed:    6.5s\n",
      "[Parallel(n_jobs=-1)]: Done 768 tasks      | elapsed:   12.0s\n",
      "[Parallel(n_jobs=-1)]: Done 1218 tasks      | elapsed:   19.3s\n",
      "[Parallel(n_jobs=-1)]: Done 1768 tasks      | elapsed:   28.0s\n",
      "[Parallel(n_jobs=-1)]: Done 2418 tasks      | elapsed:   38.4s\n",
      "[Parallel(n_jobs=-1)]: Done 3168 tasks      | elapsed:   50.5s\n",
      "[Parallel(n_jobs=-1)]: Done 3830 out of 3830 | elapsed:  1.0min finished\n"
     ]
    },
    {
     "name": "stdout",
     "output_type": "stream",
     "text": [
      "Stock 19 extending...\n"
     ]
    },
    {
     "name": "stderr",
     "output_type": "stream",
     "text": [
      "[Parallel(n_jobs=-1)]: Using backend LokyBackend with 16 concurrent workers.\n",
      "[Parallel(n_jobs=-1)]: Done  18 tasks      | elapsed:    0.4s\n",
      "[Parallel(n_jobs=-1)]: Done 168 tasks      | elapsed:    2.7s\n",
      "[Parallel(n_jobs=-1)]: Done 418 tasks      | elapsed:    6.5s\n",
      "[Parallel(n_jobs=-1)]: Done 768 tasks      | elapsed:   12.0s\n",
      "[Parallel(n_jobs=-1)]: Done 1218 tasks      | elapsed:   19.3s\n",
      "[Parallel(n_jobs=-1)]: Done 1768 tasks      | elapsed:   27.9s\n",
      "[Parallel(n_jobs=-1)]: Done 2418 tasks      | elapsed:   38.4s\n",
      "[Parallel(n_jobs=-1)]: Done 3168 tasks      | elapsed:   50.5s\n",
      "[Parallel(n_jobs=-1)]: Done 3830 out of 3830 | elapsed:  1.0min finished\n"
     ]
    },
    {
     "name": "stdout",
     "output_type": "stream",
     "text": [
      "Stock 20 extending...\n"
     ]
    },
    {
     "name": "stderr",
     "output_type": "stream",
     "text": [
      "[Parallel(n_jobs=-1)]: Using backend LokyBackend with 16 concurrent workers.\n",
      "[Parallel(n_jobs=-1)]: Done  18 tasks      | elapsed:    0.4s\n",
      "[Parallel(n_jobs=-1)]: Done 168 tasks      | elapsed:    2.7s\n",
      "[Parallel(n_jobs=-1)]: Done 418 tasks      | elapsed:    6.5s\n",
      "[Parallel(n_jobs=-1)]: Done 768 tasks      | elapsed:   12.0s\n",
      "[Parallel(n_jobs=-1)]: Done 1218 tasks      | elapsed:   19.4s\n",
      "[Parallel(n_jobs=-1)]: Done 1768 tasks      | elapsed:   28.3s\n",
      "[Parallel(n_jobs=-1)]: Done 2418 tasks      | elapsed:   39.0s\n",
      "[Parallel(n_jobs=-1)]: Done 3168 tasks      | elapsed:   51.1s\n",
      "[Parallel(n_jobs=-1)]: Done 3830 out of 3830 | elapsed:  1.0min finished\n"
     ]
    },
    {
     "name": "stdout",
     "output_type": "stream",
     "text": [
      "Stock 21 extending...\n"
     ]
    },
    {
     "name": "stderr",
     "output_type": "stream",
     "text": [
      "[Parallel(n_jobs=-1)]: Using backend LokyBackend with 16 concurrent workers.\n",
      "[Parallel(n_jobs=-1)]: Done  18 tasks      | elapsed:    0.4s\n",
      "[Parallel(n_jobs=-1)]: Done 168 tasks      | elapsed:    2.8s\n",
      "[Parallel(n_jobs=-1)]: Done 418 tasks      | elapsed:    6.6s\n",
      "[Parallel(n_jobs=-1)]: Done 768 tasks      | elapsed:   12.3s\n",
      "[Parallel(n_jobs=-1)]: Done 1218 tasks      | elapsed:   19.6s\n",
      "[Parallel(n_jobs=-1)]: Done 1768 tasks      | elapsed:   28.4s\n",
      "[Parallel(n_jobs=-1)]: Done 2418 tasks      | elapsed:   39.2s\n",
      "[Parallel(n_jobs=-1)]: Done 3168 tasks      | elapsed:   51.3s\n",
      "[Parallel(n_jobs=-1)]: Done 3830 out of 3830 | elapsed:  1.0min finished\n"
     ]
    },
    {
     "name": "stdout",
     "output_type": "stream",
     "text": [
      "Stock 22 extending...\n"
     ]
    },
    {
     "name": "stderr",
     "output_type": "stream",
     "text": [
      "[Parallel(n_jobs=-1)]: Using backend LokyBackend with 16 concurrent workers.\n",
      "[Parallel(n_jobs=-1)]: Done  18 tasks      | elapsed:    0.4s\n",
      "[Parallel(n_jobs=-1)]: Done 304 tasks      | elapsed:    4.6s\n",
      "[Parallel(n_jobs=-1)]: Done 804 tasks      | elapsed:   11.9s\n",
      "[Parallel(n_jobs=-1)]: Done 1504 tasks      | elapsed:   22.3s\n",
      "[Parallel(n_jobs=-1)]: Done 2404 tasks      | elapsed:   35.9s\n",
      "[Parallel(n_jobs=-1)]: Done 3504 tasks      | elapsed:   52.0s\n",
      "[Parallel(n_jobs=-1)]: Done 3830 out of 3830 | elapsed:   56.9s finished\n"
     ]
    },
    {
     "name": "stdout",
     "output_type": "stream",
     "text": [
      "Stock 23 extending...\n"
     ]
    },
    {
     "name": "stderr",
     "output_type": "stream",
     "text": [
      "[Parallel(n_jobs=-1)]: Using backend LokyBackend with 16 concurrent workers.\n",
      "[Parallel(n_jobs=-1)]: Done  18 tasks      | elapsed:    0.4s\n",
      "[Parallel(n_jobs=-1)]: Done 168 tasks      | elapsed:    2.8s\n",
      "[Parallel(n_jobs=-1)]: Done 418 tasks      | elapsed:    6.6s\n",
      "[Parallel(n_jobs=-1)]: Done 768 tasks      | elapsed:   12.2s\n",
      "[Parallel(n_jobs=-1)]: Done 1218 tasks      | elapsed:   19.5s\n",
      "[Parallel(n_jobs=-1)]: Done 1768 tasks      | elapsed:   28.2s\n",
      "[Parallel(n_jobs=-1)]: Done 2418 tasks      | elapsed:   38.9s\n",
      "[Parallel(n_jobs=-1)]: Done 3168 tasks      | elapsed:   51.2s\n",
      "[Parallel(n_jobs=-1)]: Done 3830 out of 3830 | elapsed:  1.0min finished\n"
     ]
    },
    {
     "name": "stdout",
     "output_type": "stream",
     "text": [
      "Stock 26 extending...\n"
     ]
    },
    {
     "name": "stderr",
     "output_type": "stream",
     "text": [
      "[Parallel(n_jobs=-1)]: Using backend LokyBackend with 16 concurrent workers.\n",
      "[Parallel(n_jobs=-1)]: Done  18 tasks      | elapsed:    0.4s\n",
      "[Parallel(n_jobs=-1)]: Done 304 tasks      | elapsed:    4.5s\n",
      "[Parallel(n_jobs=-1)]: Done 804 tasks      | elapsed:   11.9s\n",
      "[Parallel(n_jobs=-1)]: Done 1504 tasks      | elapsed:   22.2s\n",
      "[Parallel(n_jobs=-1)]: Done 2404 tasks      | elapsed:   35.5s\n",
      "[Parallel(n_jobs=-1)]: Done 3504 tasks      | elapsed:   52.0s\n",
      "[Parallel(n_jobs=-1)]: Done 3830 out of 3830 | elapsed:   56.7s finished\n"
     ]
    },
    {
     "name": "stdout",
     "output_type": "stream",
     "text": [
      "Stock 27 extending...\n"
     ]
    },
    {
     "name": "stderr",
     "output_type": "stream",
     "text": [
      "[Parallel(n_jobs=-1)]: Using backend LokyBackend with 16 concurrent workers.\n",
      "[Parallel(n_jobs=-1)]: Done  18 tasks      | elapsed:    0.4s\n",
      "[Parallel(n_jobs=-1)]: Done 168 tasks      | elapsed:    2.8s\n",
      "[Parallel(n_jobs=-1)]: Done 418 tasks      | elapsed:    6.6s\n",
      "[Parallel(n_jobs=-1)]: Done 768 tasks      | elapsed:   12.2s\n",
      "[Parallel(n_jobs=-1)]: Done 1218 tasks      | elapsed:   19.7s\n",
      "[Parallel(n_jobs=-1)]: Done 1768 tasks      | elapsed:   28.6s\n",
      "[Parallel(n_jobs=-1)]: Done 2418 tasks      | elapsed:   39.4s\n",
      "[Parallel(n_jobs=-1)]: Done 3168 tasks      | elapsed:   51.7s\n",
      "[Parallel(n_jobs=-1)]: Done 3830 out of 3830 | elapsed:  1.0min finished\n"
     ]
    },
    {
     "name": "stdout",
     "output_type": "stream",
     "text": [
      "Stock 28 extending...\n"
     ]
    },
    {
     "name": "stderr",
     "output_type": "stream",
     "text": [
      "[Parallel(n_jobs=-1)]: Using backend LokyBackend with 16 concurrent workers.\n",
      "[Parallel(n_jobs=-1)]: Done  18 tasks      | elapsed:    0.3s\n",
      "[Parallel(n_jobs=-1)]: Done 168 tasks      | elapsed:    2.7s\n",
      "[Parallel(n_jobs=-1)]: Done 418 tasks      | elapsed:    6.6s\n",
      "[Parallel(n_jobs=-1)]: Done 768 tasks      | elapsed:   12.2s\n",
      "[Parallel(n_jobs=-1)]: Done 1218 tasks      | elapsed:   19.5s\n",
      "[Parallel(n_jobs=-1)]: Done 1768 tasks      | elapsed:   28.4s\n",
      "[Parallel(n_jobs=-1)]: Done 2418 tasks      | elapsed:   39.3s\n",
      "[Parallel(n_jobs=-1)]: Done 3168 tasks      | elapsed:   51.5s\n",
      "[Parallel(n_jobs=-1)]: Done 3830 out of 3830 | elapsed:  1.0min finished\n"
     ]
    },
    {
     "name": "stdout",
     "output_type": "stream",
     "text": [
      "Stock 29 extending...\n"
     ]
    },
    {
     "name": "stderr",
     "output_type": "stream",
     "text": [
      "[Parallel(n_jobs=-1)]: Using backend LokyBackend with 16 concurrent workers.\n",
      "[Parallel(n_jobs=-1)]: Done  18 tasks      | elapsed:    0.4s\n",
      "[Parallel(n_jobs=-1)]: Done 168 tasks      | elapsed:    2.8s\n",
      "[Parallel(n_jobs=-1)]: Done 418 tasks      | elapsed:    6.6s\n",
      "[Parallel(n_jobs=-1)]: Done 768 tasks      | elapsed:   12.3s\n",
      "[Parallel(n_jobs=-1)]: Done 1218 tasks      | elapsed:   19.6s\n",
      "[Parallel(n_jobs=-1)]: Done 1768 tasks      | elapsed:   28.3s\n",
      "[Parallel(n_jobs=-1)]: Done 2418 tasks      | elapsed:   39.2s\n",
      "[Parallel(n_jobs=-1)]: Done 3168 tasks      | elapsed:   51.4s\n",
      "[Parallel(n_jobs=-1)]: Done 3830 out of 3830 | elapsed:  1.0min finished\n"
     ]
    },
    {
     "name": "stdout",
     "output_type": "stream",
     "text": [
      "Stock 30 extending...\n"
     ]
    },
    {
     "name": "stderr",
     "output_type": "stream",
     "text": [
      "[Parallel(n_jobs=-1)]: Using backend LokyBackend with 16 concurrent workers.\n",
      "[Parallel(n_jobs=-1)]: Done  18 tasks      | elapsed:    0.4s\n",
      "[Parallel(n_jobs=-1)]: Done 168 tasks      | elapsed:    2.8s\n",
      "[Parallel(n_jobs=-1)]: Done 418 tasks      | elapsed:    6.6s\n",
      "[Parallel(n_jobs=-1)]: Done 768 tasks      | elapsed:   12.3s\n",
      "[Parallel(n_jobs=-1)]: Done 1218 tasks      | elapsed:   19.6s\n",
      "[Parallel(n_jobs=-1)]: Done 1768 tasks      | elapsed:   28.5s\n",
      "[Parallel(n_jobs=-1)]: Done 2418 tasks      | elapsed:   39.4s\n",
      "[Parallel(n_jobs=-1)]: Done 3168 tasks      | elapsed:   52.1s\n",
      "[Parallel(n_jobs=-1)]: Done 3830 out of 3830 | elapsed:  1.1min finished\n"
     ]
    },
    {
     "name": "stdout",
     "output_type": "stream",
     "text": [
      "Stock 31 extending...\n"
     ]
    },
    {
     "name": "stderr",
     "output_type": "stream",
     "text": [
      "[Parallel(n_jobs=-1)]: Using backend LokyBackend with 16 concurrent workers.\n",
      "[Parallel(n_jobs=-1)]: Done  18 tasks      | elapsed:    0.4s\n",
      "[Parallel(n_jobs=-1)]: Done 304 tasks      | elapsed:    4.6s\n",
      "[Parallel(n_jobs=-1)]: Done 804 tasks      | elapsed:   11.9s\n",
      "[Parallel(n_jobs=-1)]: Done 1504 tasks      | elapsed:   22.2s\n",
      "[Parallel(n_jobs=-1)]: Done 2404 tasks      | elapsed:   35.9s\n",
      "[Parallel(n_jobs=-1)]: Done 3504 tasks      | elapsed:   52.3s\n",
      "[Parallel(n_jobs=-1)]: Done 3799 out of 3830 | elapsed:   56.7s remaining:    0.4s\n",
      "[Parallel(n_jobs=-1)]: Done 3830 out of 3830 | elapsed:   57.1s finished\n"
     ]
    },
    {
     "name": "stdout",
     "output_type": "stream",
     "text": [
      "Stock 32 extending...\n"
     ]
    },
    {
     "name": "stderr",
     "output_type": "stream",
     "text": [
      "[Parallel(n_jobs=-1)]: Using backend LokyBackend with 16 concurrent workers.\n",
      "[Parallel(n_jobs=-1)]: Done  18 tasks      | elapsed:    0.4s\n",
      "[Parallel(n_jobs=-1)]: Done 168 tasks      | elapsed:    2.8s\n",
      "[Parallel(n_jobs=-1)]: Done 418 tasks      | elapsed:    6.7s\n",
      "[Parallel(n_jobs=-1)]: Done 768 tasks      | elapsed:   12.3s\n",
      "[Parallel(n_jobs=-1)]: Done 1218 tasks      | elapsed:   19.6s\n",
      "[Parallel(n_jobs=-1)]: Done 1768 tasks      | elapsed:   28.3s\n",
      "[Parallel(n_jobs=-1)]: Done 2418 tasks      | elapsed:   39.1s\n",
      "[Parallel(n_jobs=-1)]: Done 3168 tasks      | elapsed:   51.5s\n",
      "[Parallel(n_jobs=-1)]: Done 3830 out of 3830 | elapsed:  1.0min finished\n"
     ]
    },
    {
     "name": "stdout",
     "output_type": "stream",
     "text": [
      "Stock 33 extending...\n"
     ]
    },
    {
     "name": "stderr",
     "output_type": "stream",
     "text": [
      "[Parallel(n_jobs=-1)]: Using backend LokyBackend with 16 concurrent workers.\n",
      "[Parallel(n_jobs=-1)]: Done  18 tasks      | elapsed:    0.3s\n",
      "[Parallel(n_jobs=-1)]: Done 168 tasks      | elapsed:    2.7s\n",
      "[Parallel(n_jobs=-1)]: Done 418 tasks      | elapsed:    6.5s\n",
      "[Parallel(n_jobs=-1)]: Done 768 tasks      | elapsed:   12.2s\n",
      "[Parallel(n_jobs=-1)]: Done 1218 tasks      | elapsed:   19.5s\n",
      "[Parallel(n_jobs=-1)]: Done 1768 tasks      | elapsed:   28.4s\n",
      "[Parallel(n_jobs=-1)]: Done 2418 tasks      | elapsed:   39.2s\n",
      "[Parallel(n_jobs=-1)]: Done 3168 tasks      | elapsed:   51.6s\n",
      "[Parallel(n_jobs=-1)]: Done 3830 out of 3830 | elapsed:  1.0min finished\n"
     ]
    },
    {
     "name": "stdout",
     "output_type": "stream",
     "text": [
      "Stock 34 extending...\n"
     ]
    },
    {
     "name": "stderr",
     "output_type": "stream",
     "text": [
      "[Parallel(n_jobs=-1)]: Using backend LokyBackend with 16 concurrent workers.\n",
      "[Parallel(n_jobs=-1)]: Done  18 tasks      | elapsed:    0.4s\n",
      "[Parallel(n_jobs=-1)]: Done 168 tasks      | elapsed:    2.8s\n",
      "[Parallel(n_jobs=-1)]: Done 418 tasks      | elapsed:    6.7s\n",
      "[Parallel(n_jobs=-1)]: Done 768 tasks      | elapsed:   12.3s\n",
      "[Parallel(n_jobs=-1)]: Done 1218 tasks      | elapsed:   19.6s\n",
      "[Parallel(n_jobs=-1)]: Done 1768 tasks      | elapsed:   28.5s\n",
      "[Parallel(n_jobs=-1)]: Done 2418 tasks      | elapsed:   39.2s\n",
      "[Parallel(n_jobs=-1)]: Done 3168 tasks      | elapsed:   51.5s\n",
      "[Parallel(n_jobs=-1)]: Done 3830 out of 3830 | elapsed:  1.0min finished\n"
     ]
    },
    {
     "name": "stdout",
     "output_type": "stream",
     "text": [
      "Stock 35 extending...\n"
     ]
    },
    {
     "name": "stderr",
     "output_type": "stream",
     "text": [
      "[Parallel(n_jobs=-1)]: Using backend LokyBackend with 16 concurrent workers.\n",
      "[Parallel(n_jobs=-1)]: Done  18 tasks      | elapsed:    0.6s\n",
      "[Parallel(n_jobs=-1)]: Done 168 tasks      | elapsed:    3.0s\n",
      "[Parallel(n_jobs=-1)]: Done 418 tasks      | elapsed:    6.8s\n",
      "[Parallel(n_jobs=-1)]: Done 768 tasks      | elapsed:   12.5s\n",
      "[Parallel(n_jobs=-1)]: Done 1218 tasks      | elapsed:   19.9s\n",
      "[Parallel(n_jobs=-1)]: Done 1768 tasks      | elapsed:   28.9s\n",
      "[Parallel(n_jobs=-1)]: Done 2418 tasks      | elapsed:   39.7s\n",
      "[Parallel(n_jobs=-1)]: Done 3168 tasks      | elapsed:   52.0s\n",
      "[Parallel(n_jobs=-1)]: Done 3830 out of 3830 | elapsed:  1.0min finished\n"
     ]
    },
    {
     "name": "stdout",
     "output_type": "stream",
     "text": [
      "Stock 36 extending...\n"
     ]
    },
    {
     "name": "stderr",
     "output_type": "stream",
     "text": [
      "[Parallel(n_jobs=-1)]: Using backend LokyBackend with 16 concurrent workers.\n",
      "[Parallel(n_jobs=-1)]: Done  18 tasks      | elapsed:    0.5s\n",
      "[Parallel(n_jobs=-1)]: Done 168 tasks      | elapsed:    2.8s\n",
      "[Parallel(n_jobs=-1)]: Done 418 tasks      | elapsed:    6.7s\n",
      "[Parallel(n_jobs=-1)]: Done 768 tasks      | elapsed:   12.3s\n",
      "[Parallel(n_jobs=-1)]: Done 1218 tasks      | elapsed:   19.6s\n",
      "[Parallel(n_jobs=-1)]: Done 1768 tasks      | elapsed:   28.5s\n",
      "[Parallel(n_jobs=-1)]: Done 2418 tasks      | elapsed:   39.4s\n",
      "[Parallel(n_jobs=-1)]: Done 3168 tasks      | elapsed:   51.6s\n",
      "[Parallel(n_jobs=-1)]: Done 3830 out of 3830 | elapsed:  1.0min finished\n"
     ]
    },
    {
     "name": "stdout",
     "output_type": "stream",
     "text": [
      "Stock 37 extending...\n"
     ]
    },
    {
     "name": "stderr",
     "output_type": "stream",
     "text": [
      "[Parallel(n_jobs=-1)]: Using backend LokyBackend with 16 concurrent workers.\n",
      "[Parallel(n_jobs=-1)]: Done  18 tasks      | elapsed:    0.4s\n",
      "[Parallel(n_jobs=-1)]: Done 168 tasks      | elapsed:    2.7s\n",
      "[Parallel(n_jobs=-1)]: Done 418 tasks      | elapsed:    6.6s\n",
      "[Parallel(n_jobs=-1)]: Done 768 tasks      | elapsed:   12.3s\n",
      "[Parallel(n_jobs=-1)]: Done 1218 tasks      | elapsed:   19.7s\n",
      "[Parallel(n_jobs=-1)]: Done 1768 tasks      | elapsed:   28.4s\n",
      "[Parallel(n_jobs=-1)]: Done 2418 tasks      | elapsed:   39.2s\n",
      "[Parallel(n_jobs=-1)]: Done 3168 tasks      | elapsed:   51.6s\n",
      "[Parallel(n_jobs=-1)]: Done 3830 out of 3830 | elapsed:  1.0min finished\n"
     ]
    },
    {
     "name": "stdout",
     "output_type": "stream",
     "text": [
      "Stock 38 extending...\n"
     ]
    },
    {
     "name": "stderr",
     "output_type": "stream",
     "text": [
      "[Parallel(n_jobs=-1)]: Using backend LokyBackend with 16 concurrent workers.\n",
      "[Parallel(n_jobs=-1)]: Done  18 tasks      | elapsed:    0.7s\n",
      "[Parallel(n_jobs=-1)]: Done 168 tasks      | elapsed:    3.1s\n",
      "[Parallel(n_jobs=-1)]: Done 418 tasks      | elapsed:    6.9s\n",
      "[Parallel(n_jobs=-1)]: Done 768 tasks      | elapsed:   12.6s\n",
      "[Parallel(n_jobs=-1)]: Done 1218 tasks      | elapsed:   19.9s\n",
      "[Parallel(n_jobs=-1)]: Done 1768 tasks      | elapsed:   28.7s\n",
      "[Parallel(n_jobs=-1)]: Done 2418 tasks      | elapsed:   39.5s\n",
      "[Parallel(n_jobs=-1)]: Done 3168 tasks      | elapsed:   52.3s\n",
      "[Parallel(n_jobs=-1)]: Done 3815 out of 3815 | elapsed:  1.1min finished\n"
     ]
    },
    {
     "name": "stdout",
     "output_type": "stream",
     "text": [
      "Stock 39 extending...\n"
     ]
    },
    {
     "name": "stderr",
     "output_type": "stream",
     "text": [
      "[Parallel(n_jobs=-1)]: Using backend LokyBackend with 16 concurrent workers.\n",
      "[Parallel(n_jobs=-1)]: Done  18 tasks      | elapsed:    0.8s\n",
      "[Parallel(n_jobs=-1)]: Done 168 tasks      | elapsed:    3.1s\n",
      "[Parallel(n_jobs=-1)]: Done 418 tasks      | elapsed:    6.9s\n",
      "[Parallel(n_jobs=-1)]: Done 768 tasks      | elapsed:   12.6s\n",
      "[Parallel(n_jobs=-1)]: Done 1218 tasks      | elapsed:   19.9s\n",
      "[Parallel(n_jobs=-1)]: Done 1768 tasks      | elapsed:   28.7s\n",
      "[Parallel(n_jobs=-1)]: Done 2418 tasks      | elapsed:   39.4s\n",
      "[Parallel(n_jobs=-1)]: Done 3168 tasks      | elapsed:   51.7s\n",
      "[Parallel(n_jobs=-1)]: Done 3830 out of 3830 | elapsed:  1.0min finished\n"
     ]
    },
    {
     "name": "stdout",
     "output_type": "stream",
     "text": [
      "Stock 40 extending...\n"
     ]
    },
    {
     "name": "stderr",
     "output_type": "stream",
     "text": [
      "[Parallel(n_jobs=-1)]: Using backend LokyBackend with 16 concurrent workers.\n",
      "[Parallel(n_jobs=-1)]: Done  18 tasks      | elapsed:    0.8s\n",
      "[Parallel(n_jobs=-1)]: Done 168 tasks      | elapsed:    3.1s\n",
      "[Parallel(n_jobs=-1)]: Done 418 tasks      | elapsed:    7.0s\n",
      "[Parallel(n_jobs=-1)]: Done 768 tasks      | elapsed:   12.6s\n",
      "[Parallel(n_jobs=-1)]: Done 1218 tasks      | elapsed:   19.9s\n",
      "[Parallel(n_jobs=-1)]: Done 1768 tasks      | elapsed:   28.8s\n",
      "[Parallel(n_jobs=-1)]: Done 2418 tasks      | elapsed:   39.6s\n",
      "[Parallel(n_jobs=-1)]: Done 3168 tasks      | elapsed:   52.0s\n",
      "[Parallel(n_jobs=-1)]: Done 3830 out of 3830 | elapsed:  1.0min finished\n"
     ]
    },
    {
     "name": "stdout",
     "output_type": "stream",
     "text": [
      "Stock 41 extending...\n"
     ]
    },
    {
     "name": "stderr",
     "output_type": "stream",
     "text": [
      "[Parallel(n_jobs=-1)]: Using backend LokyBackend with 16 concurrent workers.\n",
      "[Parallel(n_jobs=-1)]: Done  18 tasks      | elapsed:    0.6s\n",
      "[Parallel(n_jobs=-1)]: Done 168 tasks      | elapsed:    2.9s\n",
      "[Parallel(n_jobs=-1)]: Done 418 tasks      | elapsed:    6.7s\n",
      "[Parallel(n_jobs=-1)]: Done 768 tasks      | elapsed:   12.5s\n",
      "[Parallel(n_jobs=-1)]: Done 1218 tasks      | elapsed:   19.9s\n",
      "[Parallel(n_jobs=-1)]: Done 1768 tasks      | elapsed:   28.7s\n",
      "[Parallel(n_jobs=-1)]: Done 2418 tasks      | elapsed:   39.5s\n",
      "[Parallel(n_jobs=-1)]: Done 3168 tasks      | elapsed:   51.8s\n",
      "[Parallel(n_jobs=-1)]: Done 3830 out of 3830 | elapsed:  1.0min finished\n"
     ]
    },
    {
     "name": "stdout",
     "output_type": "stream",
     "text": [
      "Stock 42 extending...\n"
     ]
    },
    {
     "name": "stderr",
     "output_type": "stream",
     "text": [
      "[Parallel(n_jobs=-1)]: Using backend LokyBackend with 16 concurrent workers.\n",
      "[Parallel(n_jobs=-1)]: Done  18 tasks      | elapsed:    0.7s\n",
      "[Parallel(n_jobs=-1)]: Done 168 tasks      | elapsed:    3.1s\n",
      "[Parallel(n_jobs=-1)]: Done 418 tasks      | elapsed:    6.9s\n",
      "[Parallel(n_jobs=-1)]: Done 768 tasks      | elapsed:   12.6s\n",
      "[Parallel(n_jobs=-1)]: Done 1218 tasks      | elapsed:   20.0s\n",
      "[Parallel(n_jobs=-1)]: Done 1768 tasks      | elapsed:   28.8s\n",
      "[Parallel(n_jobs=-1)]: Done 2418 tasks      | elapsed:   39.7s\n",
      "[Parallel(n_jobs=-1)]: Done 3168 tasks      | elapsed:   52.1s\n",
      "[Parallel(n_jobs=-1)]: Done 3830 out of 3830 | elapsed:  1.0min finished\n"
     ]
    },
    {
     "name": "stdout",
     "output_type": "stream",
     "text": [
      "Stock 43 extending...\n"
     ]
    },
    {
     "name": "stderr",
     "output_type": "stream",
     "text": [
      "[Parallel(n_jobs=-1)]: Using backend LokyBackend with 16 concurrent workers.\n",
      "[Parallel(n_jobs=-1)]: Done  18 tasks      | elapsed:    0.8s\n",
      "[Parallel(n_jobs=-1)]: Done 168 tasks      | elapsed:    3.2s\n",
      "[Parallel(n_jobs=-1)]: Done 418 tasks      | elapsed:    7.0s\n",
      "[Parallel(n_jobs=-1)]: Done 768 tasks      | elapsed:   12.7s\n",
      "[Parallel(n_jobs=-1)]: Done 1218 tasks      | elapsed:   20.0s\n",
      "[Parallel(n_jobs=-1)]: Done 1768 tasks      | elapsed:   28.9s\n",
      "[Parallel(n_jobs=-1)]: Done 2418 tasks      | elapsed:   39.7s\n",
      "[Parallel(n_jobs=-1)]: Done 3168 tasks      | elapsed:   51.9s\n",
      "[Parallel(n_jobs=-1)]: Done 3830 out of 3830 | elapsed:  1.0min finished\n"
     ]
    },
    {
     "name": "stdout",
     "output_type": "stream",
     "text": [
      "Stock 44 extending...\n"
     ]
    },
    {
     "name": "stderr",
     "output_type": "stream",
     "text": [
      "[Parallel(n_jobs=-1)]: Using backend LokyBackend with 16 concurrent workers.\n",
      "[Parallel(n_jobs=-1)]: Done  18 tasks      | elapsed:    1.1s\n",
      "[Parallel(n_jobs=-1)]: Done 168 tasks      | elapsed:    3.4s\n",
      "[Parallel(n_jobs=-1)]: Done 418 tasks      | elapsed:    7.3s\n",
      "[Parallel(n_jobs=-1)]: Done 768 tasks      | elapsed:   13.0s\n",
      "[Parallel(n_jobs=-1)]: Done 1218 tasks      | elapsed:   20.4s\n",
      "[Parallel(n_jobs=-1)]: Done 1768 tasks      | elapsed:   29.3s\n",
      "[Parallel(n_jobs=-1)]: Done 2418 tasks      | elapsed:   40.1s\n",
      "[Parallel(n_jobs=-1)]: Done 3168 tasks      | elapsed:   52.5s\n",
      "[Parallel(n_jobs=-1)]: Done 3830 out of 3830 | elapsed:  1.1min finished\n"
     ]
    },
    {
     "name": "stdout",
     "output_type": "stream",
     "text": [
      "Stock 46 extending...\n"
     ]
    },
    {
     "name": "stderr",
     "output_type": "stream",
     "text": [
      "[Parallel(n_jobs=-1)]: Using backend LokyBackend with 16 concurrent workers.\n",
      "[Parallel(n_jobs=-1)]: Done  18 tasks      | elapsed:    0.7s\n",
      "[Parallel(n_jobs=-1)]: Done 168 tasks      | elapsed:    3.0s\n",
      "[Parallel(n_jobs=-1)]: Done 418 tasks      | elapsed:    6.9s\n",
      "[Parallel(n_jobs=-1)]: Done 768 tasks      | elapsed:   12.5s\n",
      "[Parallel(n_jobs=-1)]: Done 1218 tasks      | elapsed:   19.9s\n",
      "[Parallel(n_jobs=-1)]: Done 1768 tasks      | elapsed:   28.8s\n",
      "[Parallel(n_jobs=-1)]: Done 2418 tasks      | elapsed:   39.6s\n",
      "[Parallel(n_jobs=-1)]: Done 3168 tasks      | elapsed:   51.8s\n",
      "[Parallel(n_jobs=-1)]: Done 3830 out of 3830 | elapsed:  1.0min finished\n"
     ]
    },
    {
     "name": "stdout",
     "output_type": "stream",
     "text": [
      "Stock 47 extending...\n"
     ]
    },
    {
     "name": "stderr",
     "output_type": "stream",
     "text": [
      "[Parallel(n_jobs=-1)]: Using backend LokyBackend with 16 concurrent workers.\n",
      "[Parallel(n_jobs=-1)]: Done  18 tasks      | elapsed:    0.8s\n",
      "[Parallel(n_jobs=-1)]: Done 168 tasks      | elapsed:    3.1s\n",
      "[Parallel(n_jobs=-1)]: Done 418 tasks      | elapsed:    6.9s\n",
      "[Parallel(n_jobs=-1)]: Done 768 tasks      | elapsed:   12.6s\n",
      "[Parallel(n_jobs=-1)]: Done 1218 tasks      | elapsed:   19.9s\n",
      "[Parallel(n_jobs=-1)]: Done 1768 tasks      | elapsed:   28.8s\n",
      "[Parallel(n_jobs=-1)]: Done 2418 tasks      | elapsed:   39.6s\n",
      "[Parallel(n_jobs=-1)]: Done 3168 tasks      | elapsed:   52.0s\n",
      "[Parallel(n_jobs=-1)]: Done 3830 out of 3830 | elapsed:  1.1min finished\n"
     ]
    },
    {
     "name": "stdout",
     "output_type": "stream",
     "text": [
      "Stock 48 extending...\n"
     ]
    },
    {
     "name": "stderr",
     "output_type": "stream",
     "text": [
      "[Parallel(n_jobs=-1)]: Using backend LokyBackend with 16 concurrent workers.\n",
      "[Parallel(n_jobs=-1)]: Done  18 tasks      | elapsed:    0.8s\n",
      "[Parallel(n_jobs=-1)]: Done 168 tasks      | elapsed:    3.2s\n",
      "[Parallel(n_jobs=-1)]: Done 418 tasks      | elapsed:    7.0s\n",
      "[Parallel(n_jobs=-1)]: Done 768 tasks      | elapsed:   12.6s\n",
      "[Parallel(n_jobs=-1)]: Done 1218 tasks      | elapsed:   20.0s\n",
      "[Parallel(n_jobs=-1)]: Done 1768 tasks      | elapsed:   28.9s\n",
      "[Parallel(n_jobs=-1)]: Done 2418 tasks      | elapsed:   39.7s\n",
      "[Parallel(n_jobs=-1)]: Done 3168 tasks      | elapsed:   52.1s\n",
      "[Parallel(n_jobs=-1)]: Done 3830 out of 3830 | elapsed:  1.1min finished\n"
     ]
    },
    {
     "name": "stdout",
     "output_type": "stream",
     "text": [
      "Stock 50 extending...\n"
     ]
    },
    {
     "name": "stderr",
     "output_type": "stream",
     "text": [
      "[Parallel(n_jobs=-1)]: Using backend LokyBackend with 16 concurrent workers.\n",
      "[Parallel(n_jobs=-1)]: Done  18 tasks      | elapsed:    0.8s\n",
      "[Parallel(n_jobs=-1)]: Done 168 tasks      | elapsed:    3.1s\n",
      "[Parallel(n_jobs=-1)]: Done 418 tasks      | elapsed:    6.9s\n",
      "[Parallel(n_jobs=-1)]: Done 768 tasks      | elapsed:   12.5s\n",
      "[Parallel(n_jobs=-1)]: Done 1218 tasks      | elapsed:   19.8s\n",
      "[Parallel(n_jobs=-1)]: Done 1768 tasks      | elapsed:   28.7s\n",
      "[Parallel(n_jobs=-1)]: Done 2418 tasks      | elapsed:   39.5s\n",
      "[Parallel(n_jobs=-1)]: Done 3168 tasks      | elapsed:   51.8s\n",
      "[Parallel(n_jobs=-1)]: Done 3830 out of 3830 | elapsed:  1.0min finished\n"
     ]
    },
    {
     "name": "stdout",
     "output_type": "stream",
     "text": [
      "Stock 51 extending...\n"
     ]
    },
    {
     "name": "stderr",
     "output_type": "stream",
     "text": [
      "[Parallel(n_jobs=-1)]: Using backend LokyBackend with 16 concurrent workers.\n",
      "[Parallel(n_jobs=-1)]: Done  18 tasks      | elapsed:    0.7s\n",
      "[Parallel(n_jobs=-1)]: Done 168 tasks      | elapsed:    3.0s\n",
      "[Parallel(n_jobs=-1)]: Done 418 tasks      | elapsed:    6.9s\n",
      "[Parallel(n_jobs=-1)]: Done 768 tasks      | elapsed:   12.6s\n",
      "[Parallel(n_jobs=-1)]: Done 1218 tasks      | elapsed:   19.9s\n",
      "[Parallel(n_jobs=-1)]: Done 1768 tasks      | elapsed:   28.7s\n",
      "[Parallel(n_jobs=-1)]: Done 2418 tasks      | elapsed:   39.5s\n",
      "[Parallel(n_jobs=-1)]: Done 3168 tasks      | elapsed:   51.9s\n",
      "[Parallel(n_jobs=-1)]: Done 3830 out of 3830 | elapsed:  1.0min finished\n"
     ]
    },
    {
     "name": "stdout",
     "output_type": "stream",
     "text": [
      "Stock 52 extending...\n"
     ]
    },
    {
     "name": "stderr",
     "output_type": "stream",
     "text": [
      "[Parallel(n_jobs=-1)]: Using backend LokyBackend with 16 concurrent workers.\n",
      "[Parallel(n_jobs=-1)]: Done  18 tasks      | elapsed:    0.8s\n",
      "[Parallel(n_jobs=-1)]: Done 168 tasks      | elapsed:    3.1s\n",
      "[Parallel(n_jobs=-1)]: Done 418 tasks      | elapsed:    6.9s\n",
      "[Parallel(n_jobs=-1)]: Done 768 tasks      | elapsed:   12.5s\n",
      "[Parallel(n_jobs=-1)]: Done 1218 tasks      | elapsed:   19.8s\n",
      "[Parallel(n_jobs=-1)]: Done 1768 tasks      | elapsed:   28.6s\n",
      "[Parallel(n_jobs=-1)]: Done 2418 tasks      | elapsed:   39.5s\n",
      "[Parallel(n_jobs=-1)]: Done 3168 tasks      | elapsed:   51.7s\n",
      "[Parallel(n_jobs=-1)]: Done 3830 out of 3830 | elapsed:  1.0min finished\n"
     ]
    },
    {
     "name": "stdout",
     "output_type": "stream",
     "text": [
      "Stock 53 extending...\n"
     ]
    },
    {
     "name": "stderr",
     "output_type": "stream",
     "text": [
      "[Parallel(n_jobs=-1)]: Using backend LokyBackend with 16 concurrent workers.\n",
      "[Parallel(n_jobs=-1)]: Done  18 tasks      | elapsed:    1.2s\n",
      "[Parallel(n_jobs=-1)]: Done 168 tasks      | elapsed:    3.5s\n",
      "[Parallel(n_jobs=-1)]: Done 418 tasks      | elapsed:    7.3s\n",
      "[Parallel(n_jobs=-1)]: Done 768 tasks      | elapsed:   13.0s\n",
      "[Parallel(n_jobs=-1)]: Done 1218 tasks      | elapsed:   20.3s\n",
      "[Parallel(n_jobs=-1)]: Done 1768 tasks      | elapsed:   29.2s\n",
      "[Parallel(n_jobs=-1)]: Done 2418 tasks      | elapsed:   40.0s\n",
      "[Parallel(n_jobs=-1)]: Done 3168 tasks      | elapsed:   52.2s\n",
      "[Parallel(n_jobs=-1)]: Done 3830 out of 3830 | elapsed:  1.1min finished\n"
     ]
    },
    {
     "name": "stdout",
     "output_type": "stream",
     "text": [
      "Stock 55 extending...\n"
     ]
    },
    {
     "name": "stderr",
     "output_type": "stream",
     "text": [
      "[Parallel(n_jobs=-1)]: Using backend LokyBackend with 16 concurrent workers.\n",
      "[Parallel(n_jobs=-1)]: Done  18 tasks      | elapsed:    0.7s\n",
      "[Parallel(n_jobs=-1)]: Done 168 tasks      | elapsed:    3.0s\n",
      "[Parallel(n_jobs=-1)]: Done 418 tasks      | elapsed:    6.9s\n",
      "[Parallel(n_jobs=-1)]: Done 768 tasks      | elapsed:   12.4s\n",
      "[Parallel(n_jobs=-1)]: Done 1218 tasks      | elapsed:   19.7s\n",
      "[Parallel(n_jobs=-1)]: Done 1768 tasks      | elapsed:   28.6s\n",
      "[Parallel(n_jobs=-1)]: Done 2418 tasks      | elapsed:   39.4s\n",
      "[Parallel(n_jobs=-1)]: Done 3168 tasks      | elapsed:   51.9s\n",
      "[Parallel(n_jobs=-1)]: Done 3830 out of 3830 | elapsed:  1.0min finished\n"
     ]
    },
    {
     "name": "stdout",
     "output_type": "stream",
     "text": [
      "Stock 56 extending...\n"
     ]
    },
    {
     "name": "stderr",
     "output_type": "stream",
     "text": [
      "[Parallel(n_jobs=-1)]: Using backend LokyBackend with 16 concurrent workers.\n",
      "[Parallel(n_jobs=-1)]: Done  18 tasks      | elapsed:    0.6s\n",
      "[Parallel(n_jobs=-1)]: Done 168 tasks      | elapsed:    2.9s\n",
      "[Parallel(n_jobs=-1)]: Done 418 tasks      | elapsed:    6.8s\n",
      "[Parallel(n_jobs=-1)]: Done 768 tasks      | elapsed:   12.4s\n",
      "[Parallel(n_jobs=-1)]: Done 1218 tasks      | elapsed:   19.8s\n",
      "[Parallel(n_jobs=-1)]: Done 1768 tasks      | elapsed:   28.6s\n",
      "[Parallel(n_jobs=-1)]: Done 2418 tasks      | elapsed:   39.3s\n",
      "[Parallel(n_jobs=-1)]: Done 3168 tasks      | elapsed:   51.6s\n",
      "[Parallel(n_jobs=-1)]: Done 3830 out of 3830 | elapsed:  1.0min finished\n"
     ]
    },
    {
     "name": "stdout",
     "output_type": "stream",
     "text": [
      "Stock 58 extending...\n"
     ]
    },
    {
     "name": "stderr",
     "output_type": "stream",
     "text": [
      "[Parallel(n_jobs=-1)]: Using backend LokyBackend with 16 concurrent workers.\n",
      "[Parallel(n_jobs=-1)]: Done  18 tasks      | elapsed:    0.7s\n",
      "[Parallel(n_jobs=-1)]: Done 168 tasks      | elapsed:    3.1s\n",
      "[Parallel(n_jobs=-1)]: Done 418 tasks      | elapsed:    6.9s\n",
      "[Parallel(n_jobs=-1)]: Done 768 tasks      | elapsed:   12.5s\n",
      "[Parallel(n_jobs=-1)]: Done 1218 tasks      | elapsed:   19.8s\n",
      "[Parallel(n_jobs=-1)]: Done 1768 tasks      | elapsed:   28.5s\n",
      "[Parallel(n_jobs=-1)]: Done 2418 tasks      | elapsed:   39.4s\n",
      "[Parallel(n_jobs=-1)]: Done 3168 tasks      | elapsed:   51.6s\n",
      "[Parallel(n_jobs=-1)]: Done 3830 out of 3830 | elapsed:  1.0min finished\n"
     ]
    },
    {
     "name": "stdout",
     "output_type": "stream",
     "text": [
      "Stock 59 extending...\n"
     ]
    },
    {
     "name": "stderr",
     "output_type": "stream",
     "text": [
      "[Parallel(n_jobs=-1)]: Using backend LokyBackend with 16 concurrent workers.\n",
      "[Parallel(n_jobs=-1)]: Done  18 tasks      | elapsed:    1.1s\n",
      "[Parallel(n_jobs=-1)]: Done 168 tasks      | elapsed:    3.4s\n",
      "[Parallel(n_jobs=-1)]: Done 418 tasks      | elapsed:    7.3s\n",
      "[Parallel(n_jobs=-1)]: Done 768 tasks      | elapsed:   12.9s\n",
      "[Parallel(n_jobs=-1)]: Done 1218 tasks      | elapsed:   20.3s\n",
      "[Parallel(n_jobs=-1)]: Done 1768 tasks      | elapsed:   29.0s\n",
      "[Parallel(n_jobs=-1)]: Done 2418 tasks      | elapsed:   39.7s\n",
      "[Parallel(n_jobs=-1)]: Done 3168 tasks      | elapsed:   52.0s\n",
      "[Parallel(n_jobs=-1)]: Done 3830 out of 3830 | elapsed:  1.0min finished\n"
     ]
    },
    {
     "name": "stdout",
     "output_type": "stream",
     "text": [
      "Stock 60 extending...\n"
     ]
    },
    {
     "name": "stderr",
     "output_type": "stream",
     "text": [
      "[Parallel(n_jobs=-1)]: Using backend LokyBackend with 16 concurrent workers.\n",
      "[Parallel(n_jobs=-1)]: Done  18 tasks      | elapsed:    0.5s\n",
      "[Parallel(n_jobs=-1)]: Done 168 tasks      | elapsed:    2.8s\n",
      "[Parallel(n_jobs=-1)]: Done 418 tasks      | elapsed:    6.7s\n",
      "[Parallel(n_jobs=-1)]: Done 768 tasks      | elapsed:   12.3s\n",
      "[Parallel(n_jobs=-1)]: Done 1218 tasks      | elapsed:   19.6s\n",
      "[Parallel(n_jobs=-1)]: Done 1768 tasks      | elapsed:   28.5s\n",
      "[Parallel(n_jobs=-1)]: Done 2418 tasks      | elapsed:   39.2s\n",
      "[Parallel(n_jobs=-1)]: Done 3168 tasks      | elapsed:   51.4s\n",
      "[Parallel(n_jobs=-1)]: Done 3830 out of 3830 | elapsed:  1.0min finished\n"
     ]
    },
    {
     "name": "stdout",
     "output_type": "stream",
     "text": [
      "Stock 61 extending...\n"
     ]
    },
    {
     "name": "stderr",
     "output_type": "stream",
     "text": [
      "[Parallel(n_jobs=-1)]: Using backend LokyBackend with 16 concurrent workers.\n",
      "[Parallel(n_jobs=-1)]: Done  18 tasks      | elapsed:    0.6s\n",
      "[Parallel(n_jobs=-1)]: Done 168 tasks      | elapsed:    3.0s\n",
      "[Parallel(n_jobs=-1)]: Done 418 tasks      | elapsed:    6.8s\n",
      "[Parallel(n_jobs=-1)]: Done 768 tasks      | elapsed:   12.4s\n",
      "[Parallel(n_jobs=-1)]: Done 1218 tasks      | elapsed:   19.6s\n",
      "[Parallel(n_jobs=-1)]: Done 1768 tasks      | elapsed:   28.4s\n",
      "[Parallel(n_jobs=-1)]: Done 2418 tasks      | elapsed:   39.2s\n",
      "[Parallel(n_jobs=-1)]: Done 3168 tasks      | elapsed:   51.5s\n",
      "[Parallel(n_jobs=-1)]: Done 3830 out of 3830 | elapsed:  1.0min finished\n"
     ]
    },
    {
     "name": "stdout",
     "output_type": "stream",
     "text": [
      "Stock 62 extending...\n"
     ]
    },
    {
     "name": "stderr",
     "output_type": "stream",
     "text": [
      "[Parallel(n_jobs=-1)]: Using backend LokyBackend with 16 concurrent workers.\n",
      "[Parallel(n_jobs=-1)]: Done  18 tasks      | elapsed:    0.6s\n",
      "[Parallel(n_jobs=-1)]: Done 168 tasks      | elapsed:    3.0s\n",
      "[Parallel(n_jobs=-1)]: Done 418 tasks      | elapsed:    6.8s\n",
      "[Parallel(n_jobs=-1)]: Done 768 tasks      | elapsed:   12.4s\n",
      "[Parallel(n_jobs=-1)]: Done 1218 tasks      | elapsed:   19.8s\n",
      "[Parallel(n_jobs=-1)]: Done 1768 tasks      | elapsed:   28.7s\n",
      "[Parallel(n_jobs=-1)]: Done 2418 tasks      | elapsed:   39.4s\n",
      "[Parallel(n_jobs=-1)]: Done 3168 tasks      | elapsed:   51.8s\n",
      "[Parallel(n_jobs=-1)]: Done 3830 out of 3830 | elapsed:  1.0min finished\n"
     ]
    },
    {
     "name": "stdout",
     "output_type": "stream",
     "text": [
      "Stock 63 extending...\n"
     ]
    },
    {
     "name": "stderr",
     "output_type": "stream",
     "text": [
      "[Parallel(n_jobs=-1)]: Using backend LokyBackend with 16 concurrent workers.\n",
      "[Parallel(n_jobs=-1)]: Done  18 tasks      | elapsed:    0.7s\n",
      "[Parallel(n_jobs=-1)]: Done 168 tasks      | elapsed:    3.2s\n",
      "[Parallel(n_jobs=-1)]: Done 418 tasks      | elapsed:    7.1s\n",
      "[Parallel(n_jobs=-1)]: Done 768 tasks      | elapsed:   12.7s\n",
      "[Parallel(n_jobs=-1)]: Done 1218 tasks      | elapsed:   20.1s\n",
      "[Parallel(n_jobs=-1)]: Done 1768 tasks      | elapsed:   28.9s\n",
      "[Parallel(n_jobs=-1)]: Done 2418 tasks      | elapsed:   39.8s\n",
      "[Parallel(n_jobs=-1)]: Done 3168 tasks      | elapsed:   51.9s\n",
      "[Parallel(n_jobs=-1)]: Done 3830 out of 3830 | elapsed:  1.0min finished\n"
     ]
    },
    {
     "name": "stdout",
     "output_type": "stream",
     "text": [
      "Stock 64 extending...\n"
     ]
    },
    {
     "name": "stderr",
     "output_type": "stream",
     "text": [
      "[Parallel(n_jobs=-1)]: Using backend LokyBackend with 16 concurrent workers.\n",
      "[Parallel(n_jobs=-1)]: Done  18 tasks      | elapsed:    0.8s\n",
      "[Parallel(n_jobs=-1)]: Done 168 tasks      | elapsed:    3.1s\n",
      "[Parallel(n_jobs=-1)]: Done 418 tasks      | elapsed:    7.0s\n",
      "[Parallel(n_jobs=-1)]: Done 768 tasks      | elapsed:   12.6s\n",
      "[Parallel(n_jobs=-1)]: Done 1218 tasks      | elapsed:   19.9s\n",
      "[Parallel(n_jobs=-1)]: Done 1768 tasks      | elapsed:   28.6s\n",
      "[Parallel(n_jobs=-1)]: Done 2418 tasks      | elapsed:   39.5s\n",
      "[Parallel(n_jobs=-1)]: Done 3168 tasks      | elapsed:   51.7s\n",
      "[Parallel(n_jobs=-1)]: Done 3830 out of 3830 | elapsed:  1.0min finished\n"
     ]
    },
    {
     "name": "stdout",
     "output_type": "stream",
     "text": [
      "Stock 66 extending...\n"
     ]
    },
    {
     "name": "stderr",
     "output_type": "stream",
     "text": [
      "[Parallel(n_jobs=-1)]: Using backend LokyBackend with 16 concurrent workers.\n",
      "[Parallel(n_jobs=-1)]: Done  18 tasks      | elapsed:    0.6s\n",
      "[Parallel(n_jobs=-1)]: Done 168 tasks      | elapsed:    2.9s\n",
      "[Parallel(n_jobs=-1)]: Done 418 tasks      | elapsed:    6.8s\n",
      "[Parallel(n_jobs=-1)]: Done 768 tasks      | elapsed:   12.4s\n",
      "[Parallel(n_jobs=-1)]: Done 1218 tasks      | elapsed:   19.7s\n",
      "[Parallel(n_jobs=-1)]: Done 1768 tasks      | elapsed:   28.6s\n",
      "[Parallel(n_jobs=-1)]: Done 2418 tasks      | elapsed:   39.4s\n",
      "[Parallel(n_jobs=-1)]: Done 3168 tasks      | elapsed:   51.7s\n",
      "[Parallel(n_jobs=-1)]: Done 3830 out of 3830 | elapsed:  1.0min finished\n"
     ]
    },
    {
     "name": "stdout",
     "output_type": "stream",
     "text": [
      "Stock 67 extending...\n"
     ]
    },
    {
     "name": "stderr",
     "output_type": "stream",
     "text": [
      "[Parallel(n_jobs=-1)]: Using backend LokyBackend with 16 concurrent workers.\n",
      "[Parallel(n_jobs=-1)]: Done  18 tasks      | elapsed:    0.6s\n",
      "[Parallel(n_jobs=-1)]: Done 168 tasks      | elapsed:    2.9s\n",
      "[Parallel(n_jobs=-1)]: Done 418 tasks      | elapsed:    6.7s\n",
      "[Parallel(n_jobs=-1)]: Done 768 tasks      | elapsed:   12.3s\n",
      "[Parallel(n_jobs=-1)]: Done 1218 tasks      | elapsed:   19.6s\n",
      "[Parallel(n_jobs=-1)]: Done 1768 tasks      | elapsed:   28.3s\n",
      "[Parallel(n_jobs=-1)]: Done 2418 tasks      | elapsed:   39.1s\n",
      "[Parallel(n_jobs=-1)]: Done 3168 tasks      | elapsed:   51.4s\n",
      "[Parallel(n_jobs=-1)]: Done 3830 out of 3830 | elapsed:  1.0min finished\n"
     ]
    },
    {
     "name": "stdout",
     "output_type": "stream",
     "text": [
      "Stock 68 extending...\n"
     ]
    },
    {
     "name": "stderr",
     "output_type": "stream",
     "text": [
      "[Parallel(n_jobs=-1)]: Using backend LokyBackend with 16 concurrent workers.\n",
      "[Parallel(n_jobs=-1)]: Done  18 tasks      | elapsed:    0.5s\n",
      "[Parallel(n_jobs=-1)]: Done 168 tasks      | elapsed:    2.8s\n",
      "[Parallel(n_jobs=-1)]: Done 418 tasks      | elapsed:    6.7s\n",
      "[Parallel(n_jobs=-1)]: Done 768 tasks      | elapsed:   12.4s\n",
      "[Parallel(n_jobs=-1)]: Done 1218 tasks      | elapsed:   19.7s\n",
      "[Parallel(n_jobs=-1)]: Done 1768 tasks      | elapsed:   28.5s\n",
      "[Parallel(n_jobs=-1)]: Done 2418 tasks      | elapsed:   39.3s\n",
      "[Parallel(n_jobs=-1)]: Done 3168 tasks      | elapsed:   51.7s\n",
      "[Parallel(n_jobs=-1)]: Done 3830 out of 3830 | elapsed:  1.0min finished\n"
     ]
    },
    {
     "name": "stdout",
     "output_type": "stream",
     "text": [
      "Stock 69 extending...\n"
     ]
    },
    {
     "name": "stderr",
     "output_type": "stream",
     "text": [
      "[Parallel(n_jobs=-1)]: Using backend LokyBackend with 16 concurrent workers.\n",
      "[Parallel(n_jobs=-1)]: Done  18 tasks      | elapsed:    0.6s\n",
      "[Parallel(n_jobs=-1)]: Done 168 tasks      | elapsed:    3.0s\n",
      "[Parallel(n_jobs=-1)]: Done 418 tasks      | elapsed:    6.9s\n",
      "[Parallel(n_jobs=-1)]: Done 768 tasks      | elapsed:   12.4s\n",
      "[Parallel(n_jobs=-1)]: Done 1218 tasks      | elapsed:   19.7s\n",
      "[Parallel(n_jobs=-1)]: Done 1768 tasks      | elapsed:   28.4s\n",
      "[Parallel(n_jobs=-1)]: Done 2418 tasks      | elapsed:   39.1s\n",
      "[Parallel(n_jobs=-1)]: Done 3168 tasks      | elapsed:   51.3s\n",
      "[Parallel(n_jobs=-1)]: Done 3830 out of 3830 | elapsed:  1.0min finished\n"
     ]
    },
    {
     "name": "stdout",
     "output_type": "stream",
     "text": [
      "Stock 70 extending...\n"
     ]
    },
    {
     "name": "stderr",
     "output_type": "stream",
     "text": [
      "[Parallel(n_jobs=-1)]: Using backend LokyBackend with 16 concurrent workers.\n",
      "[Parallel(n_jobs=-1)]: Done  18 tasks      | elapsed:    0.6s\n",
      "[Parallel(n_jobs=-1)]: Done 168 tasks      | elapsed:    2.8s\n",
      "[Parallel(n_jobs=-1)]: Done 418 tasks      | elapsed:    6.7s\n",
      "[Parallel(n_jobs=-1)]: Done 768 tasks      | elapsed:   12.3s\n",
      "[Parallel(n_jobs=-1)]: Done 1218 tasks      | elapsed:   19.6s\n",
      "[Parallel(n_jobs=-1)]: Done 1768 tasks      | elapsed:   28.4s\n",
      "[Parallel(n_jobs=-1)]: Done 2418 tasks      | elapsed:   39.2s\n",
      "[Parallel(n_jobs=-1)]: Done 3168 tasks      | elapsed:   51.3s\n",
      "[Parallel(n_jobs=-1)]: Done 3830 out of 3830 | elapsed:  1.0min finished\n"
     ]
    },
    {
     "name": "stdout",
     "output_type": "stream",
     "text": [
      "Stock 72 extending...\n"
     ]
    },
    {
     "name": "stderr",
     "output_type": "stream",
     "text": [
      "[Parallel(n_jobs=-1)]: Using backend LokyBackend with 16 concurrent workers.\n",
      "[Parallel(n_jobs=-1)]: Done  18 tasks      | elapsed:    0.5s\n",
      "[Parallel(n_jobs=-1)]: Done 168 tasks      | elapsed:    2.8s\n",
      "[Parallel(n_jobs=-1)]: Done 418 tasks      | elapsed:    6.7s\n",
      "[Parallel(n_jobs=-1)]: Done 768 tasks      | elapsed:   12.4s\n",
      "[Parallel(n_jobs=-1)]: Done 1218 tasks      | elapsed:   19.7s\n",
      "[Parallel(n_jobs=-1)]: Done 1768 tasks      | elapsed:   28.5s\n",
      "[Parallel(n_jobs=-1)]: Done 2418 tasks      | elapsed:   39.2s\n",
      "[Parallel(n_jobs=-1)]: Done 3168 tasks      | elapsed:   51.6s\n",
      "[Parallel(n_jobs=-1)]: Done 3830 out of 3830 | elapsed:  1.0min finished\n"
     ]
    },
    {
     "name": "stdout",
     "output_type": "stream",
     "text": [
      "Stock 73 extending...\n"
     ]
    },
    {
     "name": "stderr",
     "output_type": "stream",
     "text": [
      "[Parallel(n_jobs=-1)]: Using backend LokyBackend with 16 concurrent workers.\n",
      "[Parallel(n_jobs=-1)]: Done  18 tasks      | elapsed:    0.7s\n",
      "[Parallel(n_jobs=-1)]: Done 168 tasks      | elapsed:    3.0s\n",
      "[Parallel(n_jobs=-1)]: Done 418 tasks      | elapsed:    6.9s\n",
      "[Parallel(n_jobs=-1)]: Done 768 tasks      | elapsed:   12.6s\n",
      "[Parallel(n_jobs=-1)]: Done 1218 tasks      | elapsed:   19.9s\n",
      "[Parallel(n_jobs=-1)]: Done 1768 tasks      | elapsed:   28.9s\n",
      "[Parallel(n_jobs=-1)]: Done 2418 tasks      | elapsed:   39.5s\n",
      "[Parallel(n_jobs=-1)]: Done 3168 tasks      | elapsed:   51.6s\n",
      "[Parallel(n_jobs=-1)]: Done 3830 out of 3830 | elapsed:  1.0min finished\n"
     ]
    },
    {
     "name": "stdout",
     "output_type": "stream",
     "text": [
      "Stock 74 extending...\n"
     ]
    },
    {
     "name": "stderr",
     "output_type": "stream",
     "text": [
      "[Parallel(n_jobs=-1)]: Using backend LokyBackend with 16 concurrent workers.\n",
      "[Parallel(n_jobs=-1)]: Done  18 tasks      | elapsed:    2.3s\n",
      "[Parallel(n_jobs=-1)]: Done 168 tasks      | elapsed:    4.5s\n",
      "[Parallel(n_jobs=-1)]: Done 418 tasks      | elapsed:    8.4s\n",
      "[Parallel(n_jobs=-1)]: Done 768 tasks      | elapsed:   13.9s\n",
      "[Parallel(n_jobs=-1)]: Done 1218 tasks      | elapsed:   21.1s\n",
      "[Parallel(n_jobs=-1)]: Done 1768 tasks      | elapsed:   29.8s\n",
      "[Parallel(n_jobs=-1)]: Done 2418 tasks      | elapsed:   40.4s\n",
      "[Parallel(n_jobs=-1)]: Done 3168 tasks      | elapsed:   52.5s\n",
      "[Parallel(n_jobs=-1)]: Done 3830 out of 3830 | elapsed:  1.1min finished\n"
     ]
    },
    {
     "name": "stdout",
     "output_type": "stream",
     "text": [
      "Stock 75 extending...\n"
     ]
    },
    {
     "name": "stderr",
     "output_type": "stream",
     "text": [
      "[Parallel(n_jobs=-1)]: Using backend LokyBackend with 16 concurrent workers.\n",
      "[Parallel(n_jobs=-1)]: Done  18 tasks      | elapsed:    0.7s\n",
      "[Parallel(n_jobs=-1)]: Done 168 tasks      | elapsed:    2.9s\n",
      "[Parallel(n_jobs=-1)]: Done 418 tasks      | elapsed:    6.9s\n",
      "[Parallel(n_jobs=-1)]: Done 768 tasks      | elapsed:   12.4s\n",
      "[Parallel(n_jobs=-1)]: Done 1218 tasks      | elapsed:   19.7s\n",
      "[Parallel(n_jobs=-1)]: Done 1768 tasks      | elapsed:   28.3s\n",
      "[Parallel(n_jobs=-1)]: Done 2418 tasks      | elapsed:   39.0s\n",
      "[Parallel(n_jobs=-1)]: Done 3168 tasks      | elapsed:   51.1s\n",
      "[Parallel(n_jobs=-1)]: Done 3829 out of 3829 | elapsed:  1.0min finished\n"
     ]
    },
    {
     "name": "stdout",
     "output_type": "stream",
     "text": [
      "Stock 76 extending...\n"
     ]
    },
    {
     "name": "stderr",
     "output_type": "stream",
     "text": [
      "[Parallel(n_jobs=-1)]: Using backend LokyBackend with 16 concurrent workers.\n",
      "[Parallel(n_jobs=-1)]: Done  18 tasks      | elapsed:    1.2s\n",
      "[Parallel(n_jobs=-1)]: Done 168 tasks      | elapsed:    3.5s\n",
      "[Parallel(n_jobs=-1)]: Done 418 tasks      | elapsed:    7.2s\n",
      "[Parallel(n_jobs=-1)]: Done 768 tasks      | elapsed:   12.7s\n",
      "[Parallel(n_jobs=-1)]: Done 1218 tasks      | elapsed:   19.9s\n",
      "[Parallel(n_jobs=-1)]: Done 1768 tasks      | elapsed:   28.7s\n",
      "[Parallel(n_jobs=-1)]: Done 2418 tasks      | elapsed:   39.2s\n",
      "[Parallel(n_jobs=-1)]: Done 3168 tasks      | elapsed:   51.0s\n",
      "[Parallel(n_jobs=-1)]: Done 3830 out of 3830 | elapsed:  1.0min finished\n"
     ]
    },
    {
     "name": "stdout",
     "output_type": "stream",
     "text": [
      "Stock 77 extending...\n"
     ]
    },
    {
     "name": "stderr",
     "output_type": "stream",
     "text": [
      "[Parallel(n_jobs=-1)]: Using backend LokyBackend with 16 concurrent workers.\n",
      "[Parallel(n_jobs=-1)]: Done  18 tasks      | elapsed:    0.9s\n",
      "[Parallel(n_jobs=-1)]: Done 168 tasks      | elapsed:    3.3s\n",
      "[Parallel(n_jobs=-1)]: Done 418 tasks      | elapsed:    7.1s\n",
      "[Parallel(n_jobs=-1)]: Done 768 tasks      | elapsed:   12.6s\n",
      "[Parallel(n_jobs=-1)]: Done 1218 tasks      | elapsed:   19.8s\n",
      "[Parallel(n_jobs=-1)]: Done 1768 tasks      | elapsed:   28.5s\n",
      "[Parallel(n_jobs=-1)]: Done 2418 tasks      | elapsed:   39.0s\n",
      "[Parallel(n_jobs=-1)]: Done 3168 tasks      | elapsed:   51.1s\n",
      "[Parallel(n_jobs=-1)]: Done 3830 out of 3830 | elapsed:  1.0min finished\n"
     ]
    },
    {
     "name": "stdout",
     "output_type": "stream",
     "text": [
      "Stock 78 extending...\n"
     ]
    },
    {
     "name": "stderr",
     "output_type": "stream",
     "text": [
      "[Parallel(n_jobs=-1)]: Using backend LokyBackend with 16 concurrent workers.\n",
      "[Parallel(n_jobs=-1)]: Done  18 tasks      | elapsed:    0.8s\n",
      "[Parallel(n_jobs=-1)]: Done 168 tasks      | elapsed:    3.1s\n",
      "[Parallel(n_jobs=-1)]: Done 418 tasks      | elapsed:    6.9s\n",
      "[Parallel(n_jobs=-1)]: Done 768 tasks      | elapsed:   12.4s\n",
      "[Parallel(n_jobs=-1)]: Done 1218 tasks      | elapsed:   19.6s\n",
      "[Parallel(n_jobs=-1)]: Done 1768 tasks      | elapsed:   28.4s\n",
      "[Parallel(n_jobs=-1)]: Done 2418 tasks      | elapsed:   38.9s\n",
      "[Parallel(n_jobs=-1)]: Done 3168 tasks      | elapsed:   50.9s\n",
      "[Parallel(n_jobs=-1)]: Done 3830 out of 3830 | elapsed:  1.0min finished\n"
     ]
    },
    {
     "name": "stdout",
     "output_type": "stream",
     "text": [
      "Stock 80 extending...\n"
     ]
    },
    {
     "name": "stderr",
     "output_type": "stream",
     "text": [
      "[Parallel(n_jobs=-1)]: Using backend LokyBackend with 16 concurrent workers.\n",
      "[Parallel(n_jobs=-1)]: Done  18 tasks      | elapsed:    0.6s\n",
      "[Parallel(n_jobs=-1)]: Done 168 tasks      | elapsed:    2.8s\n",
      "[Parallel(n_jobs=-1)]: Done 418 tasks      | elapsed:    6.6s\n",
      "[Parallel(n_jobs=-1)]: Done 768 tasks      | elapsed:   12.2s\n",
      "[Parallel(n_jobs=-1)]: Done 1218 tasks      | elapsed:   19.3s\n",
      "[Parallel(n_jobs=-1)]: Done 1768 tasks      | elapsed:   28.0s\n",
      "[Parallel(n_jobs=-1)]: Done 2418 tasks      | elapsed:   38.5s\n",
      "[Parallel(n_jobs=-1)]: Done 3168 tasks      | elapsed:   50.5s\n",
      "[Parallel(n_jobs=-1)]: Done 3820 out of 3820 | elapsed:  1.0min finished\n"
     ]
    },
    {
     "name": "stdout",
     "output_type": "stream",
     "text": [
      "Stock 81 extending...\n"
     ]
    },
    {
     "name": "stderr",
     "output_type": "stream",
     "text": [
      "[Parallel(n_jobs=-1)]: Using backend LokyBackend with 16 concurrent workers.\n",
      "[Parallel(n_jobs=-1)]: Done  18 tasks      | elapsed:    1.0s\n",
      "[Parallel(n_jobs=-1)]: Done 168 tasks      | elapsed:    3.3s\n",
      "[Parallel(n_jobs=-1)]: Done 418 tasks      | elapsed:    7.1s\n",
      "[Parallel(n_jobs=-1)]: Done 768 tasks      | elapsed:   12.6s\n",
      "[Parallel(n_jobs=-1)]: Done 1218 tasks      | elapsed:   19.8s\n",
      "[Parallel(n_jobs=-1)]: Done 1768 tasks      | elapsed:   28.3s\n",
      "[Parallel(n_jobs=-1)]: Done 2418 tasks      | elapsed:   38.9s\n",
      "[Parallel(n_jobs=-1)]: Done 3168 tasks      | elapsed:   51.0s\n",
      "[Parallel(n_jobs=-1)]: Done 3830 out of 3830 | elapsed:  1.0min finished\n"
     ]
    },
    {
     "name": "stdout",
     "output_type": "stream",
     "text": [
      "Stock 82 extending...\n"
     ]
    },
    {
     "name": "stderr",
     "output_type": "stream",
     "text": [
      "[Parallel(n_jobs=-1)]: Using backend LokyBackend with 16 concurrent workers.\n",
      "[Parallel(n_jobs=-1)]: Done  18 tasks      | elapsed:    0.7s\n",
      "[Parallel(n_jobs=-1)]: Done 168 tasks      | elapsed:    3.0s\n",
      "[Parallel(n_jobs=-1)]: Done 418 tasks      | elapsed:    6.9s\n",
      "[Parallel(n_jobs=-1)]: Done 768 tasks      | elapsed:   12.4s\n",
      "[Parallel(n_jobs=-1)]: Done 1218 tasks      | elapsed:   19.5s\n",
      "[Parallel(n_jobs=-1)]: Done 1768 tasks      | elapsed:   28.0s\n",
      "[Parallel(n_jobs=-1)]: Done 2418 tasks      | elapsed:   38.6s\n",
      "[Parallel(n_jobs=-1)]: Done 3168 tasks      | elapsed:   50.9s\n",
      "[Parallel(n_jobs=-1)]: Done 3830 out of 3830 | elapsed:  1.0min finished\n"
     ]
    },
    {
     "name": "stdout",
     "output_type": "stream",
     "text": [
      "Stock 83 extending...\n"
     ]
    },
    {
     "name": "stderr",
     "output_type": "stream",
     "text": [
      "[Parallel(n_jobs=-1)]: Using backend LokyBackend with 16 concurrent workers.\n",
      "[Parallel(n_jobs=-1)]: Done  18 tasks      | elapsed:    1.1s\n",
      "[Parallel(n_jobs=-1)]: Done 168 tasks      | elapsed:    3.4s\n",
      "[Parallel(n_jobs=-1)]: Done 418 tasks      | elapsed:    7.2s\n",
      "[Parallel(n_jobs=-1)]: Done 768 tasks      | elapsed:   12.7s\n",
      "[Parallel(n_jobs=-1)]: Done 1218 tasks      | elapsed:   19.9s\n",
      "[Parallel(n_jobs=-1)]: Done 1768 tasks      | elapsed:   28.6s\n",
      "[Parallel(n_jobs=-1)]: Done 2418 tasks      | elapsed:   39.0s\n",
      "[Parallel(n_jobs=-1)]: Done 3168 tasks      | elapsed:   51.1s\n",
      "[Parallel(n_jobs=-1)]: Done 3830 out of 3830 | elapsed:  1.0min finished\n"
     ]
    },
    {
     "name": "stdout",
     "output_type": "stream",
     "text": [
      "Stock 84 extending...\n"
     ]
    },
    {
     "name": "stderr",
     "output_type": "stream",
     "text": [
      "[Parallel(n_jobs=-1)]: Using backend LokyBackend with 16 concurrent workers.\n",
      "[Parallel(n_jobs=-1)]: Done  18 tasks      | elapsed:    0.7s\n",
      "[Parallel(n_jobs=-1)]: Done 168 tasks      | elapsed:    2.9s\n",
      "[Parallel(n_jobs=-1)]: Done 418 tasks      | elapsed:    6.7s\n",
      "[Parallel(n_jobs=-1)]: Done 768 tasks      | elapsed:   12.3s\n",
      "[Parallel(n_jobs=-1)]: Done 1218 tasks      | elapsed:   19.5s\n",
      "[Parallel(n_jobs=-1)]: Done 1768 tasks      | elapsed:   28.3s\n",
      "[Parallel(n_jobs=-1)]: Done 2418 tasks      | elapsed:   38.8s\n",
      "[Parallel(n_jobs=-1)]: Done 3168 tasks      | elapsed:   50.8s\n",
      "[Parallel(n_jobs=-1)]: Done 3830 out of 3830 | elapsed:  1.0min finished\n"
     ]
    },
    {
     "name": "stdout",
     "output_type": "stream",
     "text": [
      "Stock 85 extending...\n"
     ]
    },
    {
     "name": "stderr",
     "output_type": "stream",
     "text": [
      "[Parallel(n_jobs=-1)]: Using backend LokyBackend with 16 concurrent workers.\n",
      "[Parallel(n_jobs=-1)]: Done  18 tasks      | elapsed:    0.7s\n",
      "[Parallel(n_jobs=-1)]: Done 168 tasks      | elapsed:    3.0s\n",
      "[Parallel(n_jobs=-1)]: Done 418 tasks      | elapsed:    6.7s\n",
      "[Parallel(n_jobs=-1)]: Done 768 tasks      | elapsed:   12.3s\n",
      "[Parallel(n_jobs=-1)]: Done 1218 tasks      | elapsed:   19.6s\n",
      "[Parallel(n_jobs=-1)]: Done 1768 tasks      | elapsed:   28.3s\n",
      "[Parallel(n_jobs=-1)]: Done 2418 tasks      | elapsed:   38.8s\n",
      "[Parallel(n_jobs=-1)]: Done 3168 tasks      | elapsed:   50.9s\n",
      "[Parallel(n_jobs=-1)]: Done 3830 out of 3830 | elapsed:  1.0min finished\n"
     ]
    },
    {
     "name": "stdout",
     "output_type": "stream",
     "text": [
      "Stock 86 extending...\n"
     ]
    },
    {
     "name": "stderr",
     "output_type": "stream",
     "text": [
      "[Parallel(n_jobs=-1)]: Using backend LokyBackend with 16 concurrent workers.\n",
      "[Parallel(n_jobs=-1)]: Done  18 tasks      | elapsed:    0.7s\n",
      "[Parallel(n_jobs=-1)]: Done 168 tasks      | elapsed:    3.0s\n",
      "[Parallel(n_jobs=-1)]: Done 418 tasks      | elapsed:    6.8s\n",
      "[Parallel(n_jobs=-1)]: Done 768 tasks      | elapsed:   12.3s\n",
      "[Parallel(n_jobs=-1)]: Done 1218 tasks      | elapsed:   19.5s\n",
      "[Parallel(n_jobs=-1)]: Done 1768 tasks      | elapsed:   28.1s\n",
      "[Parallel(n_jobs=-1)]: Done 2418 tasks      | elapsed:   38.7s\n",
      "[Parallel(n_jobs=-1)]: Done 3168 tasks      | elapsed:   50.8s\n",
      "[Parallel(n_jobs=-1)]: Done 3830 out of 3830 | elapsed:  1.0min finished\n"
     ]
    },
    {
     "name": "stdout",
     "output_type": "stream",
     "text": [
      "Stock 87 extending...\n"
     ]
    },
    {
     "name": "stderr",
     "output_type": "stream",
     "text": [
      "[Parallel(n_jobs=-1)]: Using backend LokyBackend with 16 concurrent workers.\n",
      "[Parallel(n_jobs=-1)]: Done  18 tasks      | elapsed:    0.8s\n",
      "[Parallel(n_jobs=-1)]: Done 168 tasks      | elapsed:    3.1s\n",
      "[Parallel(n_jobs=-1)]: Done 418 tasks      | elapsed:    6.9s\n",
      "[Parallel(n_jobs=-1)]: Done 768 tasks      | elapsed:   12.5s\n",
      "[Parallel(n_jobs=-1)]: Done 1218 tasks      | elapsed:   19.7s\n",
      "[Parallel(n_jobs=-1)]: Done 1768 tasks      | elapsed:   28.3s\n",
      "[Parallel(n_jobs=-1)]: Done 2418 tasks      | elapsed:   38.8s\n",
      "[Parallel(n_jobs=-1)]: Done 3168 tasks      | elapsed:   51.1s\n",
      "[Parallel(n_jobs=-1)]: Done 3830 out of 3830 | elapsed:  1.0min finished\n"
     ]
    },
    {
     "name": "stdout",
     "output_type": "stream",
     "text": [
      "Stock 88 extending...\n"
     ]
    },
    {
     "name": "stderr",
     "output_type": "stream",
     "text": [
      "[Parallel(n_jobs=-1)]: Using backend LokyBackend with 16 concurrent workers.\n",
      "[Parallel(n_jobs=-1)]: Done  18 tasks      | elapsed:    0.7s\n",
      "[Parallel(n_jobs=-1)]: Done 168 tasks      | elapsed:    3.0s\n",
      "[Parallel(n_jobs=-1)]: Done 418 tasks      | elapsed:    6.8s\n",
      "[Parallel(n_jobs=-1)]: Done 768 tasks      | elapsed:   12.3s\n",
      "[Parallel(n_jobs=-1)]: Done 1218 tasks      | elapsed:   19.5s\n",
      "[Parallel(n_jobs=-1)]: Done 1768 tasks      | elapsed:   28.2s\n",
      "[Parallel(n_jobs=-1)]: Done 2418 tasks      | elapsed:   38.7s\n",
      "[Parallel(n_jobs=-1)]: Done 3168 tasks      | elapsed:   50.8s\n",
      "[Parallel(n_jobs=-1)]: Done 3830 out of 3830 | elapsed:  1.0min finished\n"
     ]
    },
    {
     "name": "stdout",
     "output_type": "stream",
     "text": [
      "Stock 89 extending...\n"
     ]
    },
    {
     "name": "stderr",
     "output_type": "stream",
     "text": [
      "[Parallel(n_jobs=-1)]: Using backend LokyBackend with 16 concurrent workers.\n",
      "[Parallel(n_jobs=-1)]: Done  18 tasks      | elapsed:    0.7s\n",
      "[Parallel(n_jobs=-1)]: Done 168 tasks      | elapsed:    2.9s\n",
      "[Parallel(n_jobs=-1)]: Done 418 tasks      | elapsed:    6.7s\n",
      "[Parallel(n_jobs=-1)]: Done 768 tasks      | elapsed:   12.2s\n",
      "[Parallel(n_jobs=-1)]: Done 1218 tasks      | elapsed:   19.4s\n",
      "[Parallel(n_jobs=-1)]: Done 1768 tasks      | elapsed:   28.0s\n",
      "[Parallel(n_jobs=-1)]: Done 2418 tasks      | elapsed:   38.6s\n",
      "[Parallel(n_jobs=-1)]: Done 3168 tasks      | elapsed:   50.7s\n",
      "[Parallel(n_jobs=-1)]: Done 3830 out of 3830 | elapsed:  1.0min finished\n"
     ]
    },
    {
     "name": "stdout",
     "output_type": "stream",
     "text": [
      "Stock 90 extending...\n"
     ]
    },
    {
     "name": "stderr",
     "output_type": "stream",
     "text": [
      "[Parallel(n_jobs=-1)]: Using backend LokyBackend with 16 concurrent workers.\n",
      "[Parallel(n_jobs=-1)]: Done  18 tasks      | elapsed:    0.8s\n",
      "[Parallel(n_jobs=-1)]: Done 168 tasks      | elapsed:    3.1s\n",
      "[Parallel(n_jobs=-1)]: Done 418 tasks      | elapsed:    6.9s\n",
      "[Parallel(n_jobs=-1)]: Done 768 tasks      | elapsed:   12.4s\n",
      "[Parallel(n_jobs=-1)]: Done 1218 tasks      | elapsed:   19.7s\n",
      "[Parallel(n_jobs=-1)]: Done 1768 tasks      | elapsed:   28.4s\n",
      "[Parallel(n_jobs=-1)]: Done 2418 tasks      | elapsed:   38.9s\n",
      "[Parallel(n_jobs=-1)]: Done 3168 tasks      | elapsed:   50.9s\n",
      "[Parallel(n_jobs=-1)]: Done 3830 out of 3830 | elapsed:  1.0min finished\n"
     ]
    },
    {
     "name": "stdout",
     "output_type": "stream",
     "text": [
      "Stock 93 extending...\n"
     ]
    },
    {
     "name": "stderr",
     "output_type": "stream",
     "text": [
      "[Parallel(n_jobs=-1)]: Using backend LokyBackend with 16 concurrent workers.\n",
      "[Parallel(n_jobs=-1)]: Done  18 tasks      | elapsed:    0.7s\n",
      "[Parallel(n_jobs=-1)]: Done 168 tasks      | elapsed:    3.0s\n",
      "[Parallel(n_jobs=-1)]: Done 418 tasks      | elapsed:    6.8s\n",
      "[Parallel(n_jobs=-1)]: Done 768 tasks      | elapsed:   12.5s\n",
      "[Parallel(n_jobs=-1)]: Done 1218 tasks      | elapsed:   19.6s\n",
      "[Parallel(n_jobs=-1)]: Done 1768 tasks      | elapsed:   28.2s\n",
      "[Parallel(n_jobs=-1)]: Done 2418 tasks      | elapsed:   38.9s\n",
      "[Parallel(n_jobs=-1)]: Done 3168 tasks      | elapsed:   51.1s\n",
      "[Parallel(n_jobs=-1)]: Done 3830 out of 3830 | elapsed:  1.0min finished\n"
     ]
    },
    {
     "name": "stdout",
     "output_type": "stream",
     "text": [
      "Stock 94 extending...\n"
     ]
    },
    {
     "name": "stderr",
     "output_type": "stream",
     "text": [
      "[Parallel(n_jobs=-1)]: Using backend LokyBackend with 16 concurrent workers.\n",
      "[Parallel(n_jobs=-1)]: Done  18 tasks      | elapsed:    0.7s\n",
      "[Parallel(n_jobs=-1)]: Done 168 tasks      | elapsed:    3.0s\n",
      "[Parallel(n_jobs=-1)]: Done 418 tasks      | elapsed:    6.8s\n",
      "[Parallel(n_jobs=-1)]: Done 768 tasks      | elapsed:   12.4s\n",
      "[Parallel(n_jobs=-1)]: Done 1218 tasks      | elapsed:   19.8s\n",
      "[Parallel(n_jobs=-1)]: Done 1768 tasks      | elapsed:   28.3s\n",
      "[Parallel(n_jobs=-1)]: Done 2418 tasks      | elapsed:   38.9s\n",
      "[Parallel(n_jobs=-1)]: Done 3168 tasks      | elapsed:   51.1s\n",
      "[Parallel(n_jobs=-1)]: Done 3830 out of 3830 | elapsed:  1.0min finished\n"
     ]
    },
    {
     "name": "stdout",
     "output_type": "stream",
     "text": [
      "Stock 95 extending...\n"
     ]
    },
    {
     "name": "stderr",
     "output_type": "stream",
     "text": [
      "[Parallel(n_jobs=-1)]: Using backend LokyBackend with 16 concurrent workers.\n",
      "[Parallel(n_jobs=-1)]: Done  18 tasks      | elapsed:    0.8s\n",
      "[Parallel(n_jobs=-1)]: Done 168 tasks      | elapsed:    3.1s\n",
      "[Parallel(n_jobs=-1)]: Done 418 tasks      | elapsed:    6.9s\n",
      "[Parallel(n_jobs=-1)]: Done 768 tasks      | elapsed:   12.4s\n",
      "[Parallel(n_jobs=-1)]: Done 1218 tasks      | elapsed:   19.6s\n",
      "[Parallel(n_jobs=-1)]: Done 1768 tasks      | elapsed:   28.1s\n",
      "[Parallel(n_jobs=-1)]: Done 2418 tasks      | elapsed:   38.6s\n",
      "[Parallel(n_jobs=-1)]: Done 3168 tasks      | elapsed:   50.8s\n",
      "[Parallel(n_jobs=-1)]: Done 3830 out of 3830 | elapsed:  1.0min finished\n"
     ]
    },
    {
     "name": "stdout",
     "output_type": "stream",
     "text": [
      "Stock 96 extending...\n"
     ]
    },
    {
     "name": "stderr",
     "output_type": "stream",
     "text": [
      "[Parallel(n_jobs=-1)]: Using backend LokyBackend with 16 concurrent workers.\n",
      "[Parallel(n_jobs=-1)]: Done  18 tasks      | elapsed:    0.8s\n",
      "[Parallel(n_jobs=-1)]: Done 168 tasks      | elapsed:    3.1s\n",
      "[Parallel(n_jobs=-1)]: Done 418 tasks      | elapsed:    6.9s\n",
      "[Parallel(n_jobs=-1)]: Done 768 tasks      | elapsed:   12.5s\n",
      "[Parallel(n_jobs=-1)]: Done 1218 tasks      | elapsed:   19.7s\n",
      "[Parallel(n_jobs=-1)]: Done 1768 tasks      | elapsed:   28.3s\n",
      "[Parallel(n_jobs=-1)]: Done 2418 tasks      | elapsed:   38.9s\n",
      "[Parallel(n_jobs=-1)]: Done 3168 tasks      | elapsed:   51.0s\n",
      "[Parallel(n_jobs=-1)]: Done 3830 out of 3830 | elapsed:  1.0min finished\n"
     ]
    },
    {
     "name": "stdout",
     "output_type": "stream",
     "text": [
      "Stock 97 extending...\n"
     ]
    },
    {
     "name": "stderr",
     "output_type": "stream",
     "text": [
      "[Parallel(n_jobs=-1)]: Using backend LokyBackend with 16 concurrent workers.\n",
      "[Parallel(n_jobs=-1)]: Done  18 tasks      | elapsed:    0.8s\n",
      "[Parallel(n_jobs=-1)]: Done 168 tasks      | elapsed:    3.1s\n",
      "[Parallel(n_jobs=-1)]: Done 418 tasks      | elapsed:    6.9s\n",
      "[Parallel(n_jobs=-1)]: Done 768 tasks      | elapsed:   12.5s\n",
      "[Parallel(n_jobs=-1)]: Done 1218 tasks      | elapsed:   19.7s\n",
      "[Parallel(n_jobs=-1)]: Done 1768 tasks      | elapsed:   28.3s\n",
      "[Parallel(n_jobs=-1)]: Done 2418 tasks      | elapsed:   39.0s\n",
      "[Parallel(n_jobs=-1)]: Done 3168 tasks      | elapsed:   51.0s\n",
      "[Parallel(n_jobs=-1)]: Done 3830 out of 3830 | elapsed:  1.0min finished\n"
     ]
    },
    {
     "name": "stdout",
     "output_type": "stream",
     "text": [
      "Stock 98 extending...\n"
     ]
    },
    {
     "name": "stderr",
     "output_type": "stream",
     "text": [
      "[Parallel(n_jobs=-1)]: Using backend LokyBackend with 16 concurrent workers.\n",
      "[Parallel(n_jobs=-1)]: Done  18 tasks      | elapsed:    0.8s\n",
      "[Parallel(n_jobs=-1)]: Done 168 tasks      | elapsed:    3.1s\n",
      "[Parallel(n_jobs=-1)]: Done 418 tasks      | elapsed:    6.9s\n",
      "[Parallel(n_jobs=-1)]: Done 768 tasks      | elapsed:   12.5s\n",
      "[Parallel(n_jobs=-1)]: Done 1218 tasks      | elapsed:   19.7s\n",
      "[Parallel(n_jobs=-1)]: Done 1768 tasks      | elapsed:   28.4s\n",
      "[Parallel(n_jobs=-1)]: Done 2418 tasks      | elapsed:   39.0s\n",
      "[Parallel(n_jobs=-1)]: Done 3168 tasks      | elapsed:   51.1s\n",
      "[Parallel(n_jobs=-1)]: Done 3830 out of 3830 | elapsed:  1.0min finished\n"
     ]
    },
    {
     "name": "stdout",
     "output_type": "stream",
     "text": [
      "Stock 99 extending...\n"
     ]
    },
    {
     "name": "stderr",
     "output_type": "stream",
     "text": [
      "[Parallel(n_jobs=-1)]: Using backend LokyBackend with 16 concurrent workers.\n",
      "[Parallel(n_jobs=-1)]: Done  18 tasks      | elapsed:    0.8s\n",
      "[Parallel(n_jobs=-1)]: Done 168 tasks      | elapsed:    3.1s\n",
      "[Parallel(n_jobs=-1)]: Done 418 tasks      | elapsed:    6.9s\n",
      "[Parallel(n_jobs=-1)]: Done 768 tasks      | elapsed:   12.4s\n",
      "[Parallel(n_jobs=-1)]: Done 1218 tasks      | elapsed:   19.7s\n",
      "[Parallel(n_jobs=-1)]: Done 1768 tasks      | elapsed:   28.2s\n",
      "[Parallel(n_jobs=-1)]: Done 2418 tasks      | elapsed:   38.8s\n",
      "[Parallel(n_jobs=-1)]: Done 3168 tasks      | elapsed:   50.8s\n",
      "[Parallel(n_jobs=-1)]: Done 3830 out of 3830 | elapsed:  1.0min finished\n"
     ]
    },
    {
     "name": "stdout",
     "output_type": "stream",
     "text": [
      "Stock 100 extending...\n"
     ]
    },
    {
     "name": "stderr",
     "output_type": "stream",
     "text": [
      "[Parallel(n_jobs=-1)]: Using backend LokyBackend with 16 concurrent workers.\n",
      "[Parallel(n_jobs=-1)]: Done  18 tasks      | elapsed:    0.7s\n",
      "[Parallel(n_jobs=-1)]: Done 168 tasks      | elapsed:    3.1s\n",
      "[Parallel(n_jobs=-1)]: Done 418 tasks      | elapsed:    6.8s\n",
      "[Parallel(n_jobs=-1)]: Done 768 tasks      | elapsed:   12.4s\n",
      "[Parallel(n_jobs=-1)]: Done 1218 tasks      | elapsed:   19.6s\n",
      "[Parallel(n_jobs=-1)]: Done 1768 tasks      | elapsed:   28.3s\n",
      "[Parallel(n_jobs=-1)]: Done 2418 tasks      | elapsed:   38.8s\n",
      "[Parallel(n_jobs=-1)]: Done 3168 tasks      | elapsed:   50.9s\n",
      "[Parallel(n_jobs=-1)]: Done 3829 out of 3829 | elapsed:  1.0min finished\n"
     ]
    },
    {
     "name": "stdout",
     "output_type": "stream",
     "text": [
      "Stock 101 extending...\n"
     ]
    },
    {
     "name": "stderr",
     "output_type": "stream",
     "text": [
      "[Parallel(n_jobs=-1)]: Using backend LokyBackend with 16 concurrent workers.\n",
      "[Parallel(n_jobs=-1)]: Done  18 tasks      | elapsed:    0.7s\n",
      "[Parallel(n_jobs=-1)]: Done 168 tasks      | elapsed:    3.0s\n",
      "[Parallel(n_jobs=-1)]: Done 418 tasks      | elapsed:    6.8s\n",
      "[Parallel(n_jobs=-1)]: Done 768 tasks      | elapsed:   12.4s\n",
      "[Parallel(n_jobs=-1)]: Done 1218 tasks      | elapsed:   19.6s\n",
      "[Parallel(n_jobs=-1)]: Done 1768 tasks      | elapsed:   28.1s\n",
      "[Parallel(n_jobs=-1)]: Done 2418 tasks      | elapsed:   38.6s\n",
      "[Parallel(n_jobs=-1)]: Done 3168 tasks      | elapsed:   50.7s\n",
      "[Parallel(n_jobs=-1)]: Done 3830 out of 3830 | elapsed:  1.0min finished\n"
     ]
    },
    {
     "name": "stdout",
     "output_type": "stream",
     "text": [
      "Stock 102 extending...\n"
     ]
    },
    {
     "name": "stderr",
     "output_type": "stream",
     "text": [
      "[Parallel(n_jobs=-1)]: Using backend LokyBackend with 16 concurrent workers.\n",
      "[Parallel(n_jobs=-1)]: Done  18 tasks      | elapsed:    0.9s\n",
      "[Parallel(n_jobs=-1)]: Done 168 tasks      | elapsed:    3.2s\n",
      "[Parallel(n_jobs=-1)]: Done 418 tasks      | elapsed:    7.0s\n",
      "[Parallel(n_jobs=-1)]: Done 768 tasks      | elapsed:   12.5s\n",
      "[Parallel(n_jobs=-1)]: Done 1218 tasks      | elapsed:   19.7s\n",
      "[Parallel(n_jobs=-1)]: Done 1768 tasks      | elapsed:   28.3s\n",
      "[Parallel(n_jobs=-1)]: Done 2418 tasks      | elapsed:   38.9s\n",
      "[Parallel(n_jobs=-1)]: Done 3168 tasks      | elapsed:   51.0s\n",
      "[Parallel(n_jobs=-1)]: Done 3830 out of 3830 | elapsed:  1.0min finished\n"
     ]
    },
    {
     "name": "stdout",
     "output_type": "stream",
     "text": [
      "Stock 103 extending...\n"
     ]
    },
    {
     "name": "stderr",
     "output_type": "stream",
     "text": [
      "[Parallel(n_jobs=-1)]: Using backend LokyBackend with 16 concurrent workers.\n",
      "[Parallel(n_jobs=-1)]: Done  18 tasks      | elapsed:    0.7s\n",
      "[Parallel(n_jobs=-1)]: Done 168 tasks      | elapsed:    3.1s\n",
      "[Parallel(n_jobs=-1)]: Done 418 tasks      | elapsed:    7.0s\n",
      "[Parallel(n_jobs=-1)]: Done 768 tasks      | elapsed:   12.5s\n",
      "[Parallel(n_jobs=-1)]: Done 1218 tasks      | elapsed:   19.6s\n",
      "[Parallel(n_jobs=-1)]: Done 1768 tasks      | elapsed:   28.2s\n",
      "[Parallel(n_jobs=-1)]: Done 2418 tasks      | elapsed:   38.8s\n",
      "[Parallel(n_jobs=-1)]: Done 3168 tasks      | elapsed:   50.8s\n",
      "[Parallel(n_jobs=-1)]: Done 3830 out of 3830 | elapsed:  1.0min finished\n"
     ]
    },
    {
     "name": "stdout",
     "output_type": "stream",
     "text": [
      "Stock 104 extending...\n"
     ]
    },
    {
     "name": "stderr",
     "output_type": "stream",
     "text": [
      "[Parallel(n_jobs=-1)]: Using backend LokyBackend with 16 concurrent workers.\n",
      "[Parallel(n_jobs=-1)]: Done  18 tasks      | elapsed:    0.7s\n",
      "[Parallel(n_jobs=-1)]: Done 168 tasks      | elapsed:    3.0s\n",
      "[Parallel(n_jobs=-1)]: Done 418 tasks      | elapsed:    6.8s\n",
      "[Parallel(n_jobs=-1)]: Done 768 tasks      | elapsed:   12.3s\n",
      "[Parallel(n_jobs=-1)]: Done 1218 tasks      | elapsed:   20.2s\n",
      "[Parallel(n_jobs=-1)]: Done 1768 tasks      | elapsed:   28.9s\n",
      "[Parallel(n_jobs=-1)]: Done 2418 tasks      | elapsed:   39.5s\n",
      "[Parallel(n_jobs=-1)]: Done 3168 tasks      | elapsed:   51.6s\n",
      "[Parallel(n_jobs=-1)]: Done 3830 out of 3830 | elapsed:  1.0min finished\n"
     ]
    },
    {
     "name": "stdout",
     "output_type": "stream",
     "text": [
      "Stock 105 extending...\n"
     ]
    },
    {
     "name": "stderr",
     "output_type": "stream",
     "text": [
      "[Parallel(n_jobs=-1)]: Using backend LokyBackend with 16 concurrent workers.\n",
      "[Parallel(n_jobs=-1)]: Done  18 tasks      | elapsed:    0.8s\n",
      "[Parallel(n_jobs=-1)]: Done 168 tasks      | elapsed:    3.1s\n",
      "[Parallel(n_jobs=-1)]: Done 418 tasks      | elapsed:    6.9s\n",
      "[Parallel(n_jobs=-1)]: Done 768 tasks      | elapsed:   12.4s\n",
      "[Parallel(n_jobs=-1)]: Done 1218 tasks      | elapsed:   19.7s\n",
      "[Parallel(n_jobs=-1)]: Done 1768 tasks      | elapsed:   28.2s\n",
      "[Parallel(n_jobs=-1)]: Done 2418 tasks      | elapsed:   38.7s\n",
      "[Parallel(n_jobs=-1)]: Done 3168 tasks      | elapsed:   50.8s\n",
      "[Parallel(n_jobs=-1)]: Done 3830 out of 3830 | elapsed:  1.0min finished\n"
     ]
    },
    {
     "name": "stdout",
     "output_type": "stream",
     "text": [
      "Stock 107 extending...\n"
     ]
    },
    {
     "name": "stderr",
     "output_type": "stream",
     "text": [
      "[Parallel(n_jobs=-1)]: Using backend LokyBackend with 16 concurrent workers.\n",
      "[Parallel(n_jobs=-1)]: Done  18 tasks      | elapsed:    0.9s\n",
      "[Parallel(n_jobs=-1)]: Done 168 tasks      | elapsed:    3.2s\n",
      "[Parallel(n_jobs=-1)]: Done 418 tasks      | elapsed:    7.0s\n",
      "[Parallel(n_jobs=-1)]: Done 768 tasks      | elapsed:   12.5s\n",
      "[Parallel(n_jobs=-1)]: Done 1218 tasks      | elapsed:   19.8s\n",
      "[Parallel(n_jobs=-1)]: Done 1768 tasks      | elapsed:   28.3s\n",
      "[Parallel(n_jobs=-1)]: Done 2418 tasks      | elapsed:   38.8s\n",
      "[Parallel(n_jobs=-1)]: Done 3168 tasks      | elapsed:   50.9s\n",
      "[Parallel(n_jobs=-1)]: Done 3830 out of 3830 | elapsed:  1.0min finished\n"
     ]
    },
    {
     "name": "stdout",
     "output_type": "stream",
     "text": [
      "Stock 108 extending...\n"
     ]
    },
    {
     "name": "stderr",
     "output_type": "stream",
     "text": [
      "[Parallel(n_jobs=-1)]: Using backend LokyBackend with 16 concurrent workers.\n",
      "[Parallel(n_jobs=-1)]: Done  18 tasks      | elapsed:    0.9s\n",
      "[Parallel(n_jobs=-1)]: Done 168 tasks      | elapsed:    3.2s\n",
      "[Parallel(n_jobs=-1)]: Done 418 tasks      | elapsed:    7.0s\n",
      "[Parallel(n_jobs=-1)]: Done 768 tasks      | elapsed:   12.5s\n",
      "[Parallel(n_jobs=-1)]: Done 1218 tasks      | elapsed:   19.9s\n",
      "[Parallel(n_jobs=-1)]: Done 1768 tasks      | elapsed:   28.5s\n",
      "[Parallel(n_jobs=-1)]: Done 2418 tasks      | elapsed:   38.9s\n",
      "[Parallel(n_jobs=-1)]: Done 3168 tasks      | elapsed:   50.9s\n",
      "[Parallel(n_jobs=-1)]: Done 3830 out of 3830 | elapsed:  1.0min finished\n"
     ]
    },
    {
     "name": "stdout",
     "output_type": "stream",
     "text": [
      "Stock 109 extending...\n"
     ]
    },
    {
     "name": "stderr",
     "output_type": "stream",
     "text": [
      "[Parallel(n_jobs=-1)]: Using backend LokyBackend with 16 concurrent workers.\n",
      "[Parallel(n_jobs=-1)]: Done  18 tasks      | elapsed:    1.1s\n",
      "[Parallel(n_jobs=-1)]: Done 168 tasks      | elapsed:    3.4s\n",
      "[Parallel(n_jobs=-1)]: Done 418 tasks      | elapsed:    7.2s\n",
      "[Parallel(n_jobs=-1)]: Done 768 tasks      | elapsed:   12.7s\n",
      "[Parallel(n_jobs=-1)]: Done 1218 tasks      | elapsed:   19.9s\n",
      "[Parallel(n_jobs=-1)]: Done 1768 tasks      | elapsed:   28.5s\n",
      "[Parallel(n_jobs=-1)]: Done 2418 tasks      | elapsed:   39.0s\n",
      "[Parallel(n_jobs=-1)]: Done 3168 tasks      | elapsed:   51.2s\n",
      "[Parallel(n_jobs=-1)]: Done 3830 out of 3830 | elapsed:  1.0min finished\n"
     ]
    },
    {
     "name": "stdout",
     "output_type": "stream",
     "text": [
      "Stock 110 extending...\n"
     ]
    },
    {
     "name": "stderr",
     "output_type": "stream",
     "text": [
      "[Parallel(n_jobs=-1)]: Using backend LokyBackend with 16 concurrent workers.\n",
      "[Parallel(n_jobs=-1)]: Done  18 tasks      | elapsed:    0.9s\n",
      "[Parallel(n_jobs=-1)]: Done 168 tasks      | elapsed:    3.2s\n",
      "[Parallel(n_jobs=-1)]: Done 418 tasks      | elapsed:    7.0s\n",
      "[Parallel(n_jobs=-1)]: Done 768 tasks      | elapsed:   12.7s\n",
      "[Parallel(n_jobs=-1)]: Done 1218 tasks      | elapsed:   21.7s\n",
      "[Parallel(n_jobs=-1)]: Done 1768 tasks      | elapsed:   31.4s\n",
      "[Parallel(n_jobs=-1)]: Done 2418 tasks      | elapsed:   42.0s\n",
      "[Parallel(n_jobs=-1)]: Done 3168 tasks      | elapsed:   54.0s\n",
      "[Parallel(n_jobs=-1)]: Done 3830 out of 3830 | elapsed:  1.1min finished\n"
     ]
    },
    {
     "name": "stdout",
     "output_type": "stream",
     "text": [
      "Stock 111 extending...\n"
     ]
    },
    {
     "name": "stderr",
     "output_type": "stream",
     "text": [
      "[Parallel(n_jobs=-1)]: Using backend LokyBackend with 16 concurrent workers.\n",
      "[Parallel(n_jobs=-1)]: Done  18 tasks      | elapsed:    0.8s\n",
      "[Parallel(n_jobs=-1)]: Done 168 tasks      | elapsed:    3.0s\n",
      "[Parallel(n_jobs=-1)]: Done 418 tasks      | elapsed:    6.8s\n",
      "[Parallel(n_jobs=-1)]: Done 768 tasks      | elapsed:   12.4s\n",
      "[Parallel(n_jobs=-1)]: Done 1218 tasks      | elapsed:   19.6s\n",
      "[Parallel(n_jobs=-1)]: Done 1768 tasks      | elapsed:   28.1s\n",
      "[Parallel(n_jobs=-1)]: Done 2418 tasks      | elapsed:   38.7s\n",
      "[Parallel(n_jobs=-1)]: Done 3168 tasks      | elapsed:   50.7s\n",
      "[Parallel(n_jobs=-1)]: Done 3830 out of 3830 | elapsed:  1.0min finished\n"
     ]
    },
    {
     "name": "stdout",
     "output_type": "stream",
     "text": [
      "Stock 112 extending...\n"
     ]
    },
    {
     "name": "stderr",
     "output_type": "stream",
     "text": [
      "[Parallel(n_jobs=-1)]: Using backend LokyBackend with 16 concurrent workers.\n",
      "[Parallel(n_jobs=-1)]: Done  18 tasks      | elapsed:    1.0s\n",
      "[Parallel(n_jobs=-1)]: Done 168 tasks      | elapsed:    3.2s\n",
      "[Parallel(n_jobs=-1)]: Done 418 tasks      | elapsed:    7.1s\n",
      "[Parallel(n_jobs=-1)]: Done 768 tasks      | elapsed:   12.7s\n",
      "[Parallel(n_jobs=-1)]: Done 1218 tasks      | elapsed:   19.9s\n",
      "[Parallel(n_jobs=-1)]: Done 1768 tasks      | elapsed:   28.4s\n",
      "[Parallel(n_jobs=-1)]: Done 2418 tasks      | elapsed:   39.0s\n",
      "[Parallel(n_jobs=-1)]: Done 3168 tasks      | elapsed:   51.1s\n",
      "[Parallel(n_jobs=-1)]: Done 3830 out of 3830 | elapsed:  1.0min finished\n"
     ]
    },
    {
     "name": "stdout",
     "output_type": "stream",
     "text": [
      "Stock 113 extending...\n"
     ]
    },
    {
     "name": "stderr",
     "output_type": "stream",
     "text": [
      "[Parallel(n_jobs=-1)]: Using backend LokyBackend with 16 concurrent workers.\n",
      "[Parallel(n_jobs=-1)]: Done  18 tasks      | elapsed:    0.8s\n",
      "[Parallel(n_jobs=-1)]: Done 168 tasks      | elapsed:    3.0s\n",
      "[Parallel(n_jobs=-1)]: Done 418 tasks      | elapsed:    6.9s\n",
      "[Parallel(n_jobs=-1)]: Done 768 tasks      | elapsed:   12.5s\n",
      "[Parallel(n_jobs=-1)]: Done 1218 tasks      | elapsed:   19.9s\n",
      "[Parallel(n_jobs=-1)]: Done 1768 tasks      | elapsed:   29.0s\n",
      "[Parallel(n_jobs=-1)]: Done 2418 tasks      | elapsed:   39.5s\n",
      "[Parallel(n_jobs=-1)]: Done 3168 tasks      | elapsed:   51.6s\n",
      "[Parallel(n_jobs=-1)]: Done 3830 out of 3830 | elapsed:  1.0min finished\n"
     ]
    },
    {
     "name": "stdout",
     "output_type": "stream",
     "text": [
      "Stock 114 extending...\n"
     ]
    },
    {
     "name": "stderr",
     "output_type": "stream",
     "text": [
      "[Parallel(n_jobs=-1)]: Using backend LokyBackend with 16 concurrent workers.\n",
      "[Parallel(n_jobs=-1)]: Done  18 tasks      | elapsed:    1.0s\n",
      "[Parallel(n_jobs=-1)]: Done 168 tasks      | elapsed:    3.3s\n",
      "[Parallel(n_jobs=-1)]: Done 418 tasks      | elapsed:    7.1s\n",
      "[Parallel(n_jobs=-1)]: Done 768 tasks      | elapsed:   12.6s\n",
      "[Parallel(n_jobs=-1)]: Done 1218 tasks      | elapsed:   19.9s\n",
      "[Parallel(n_jobs=-1)]: Done 1768 tasks      | elapsed:   28.4s\n",
      "[Parallel(n_jobs=-1)]: Done 2418 tasks      | elapsed:   39.0s\n",
      "[Parallel(n_jobs=-1)]: Done 3168 tasks      | elapsed:   51.2s\n",
      "[Parallel(n_jobs=-1)]: Done 3830 out of 3830 | elapsed:  1.0min finished\n"
     ]
    },
    {
     "name": "stdout",
     "output_type": "stream",
     "text": [
      "Stock 115 extending...\n"
     ]
    },
    {
     "name": "stderr",
     "output_type": "stream",
     "text": [
      "[Parallel(n_jobs=-1)]: Using backend LokyBackend with 16 concurrent workers.\n",
      "[Parallel(n_jobs=-1)]: Done  18 tasks      | elapsed:    0.6s\n",
      "[Parallel(n_jobs=-1)]: Done 168 tasks      | elapsed:    2.9s\n",
      "[Parallel(n_jobs=-1)]: Done 418 tasks      | elapsed:    6.7s\n",
      "[Parallel(n_jobs=-1)]: Done 768 tasks      | elapsed:   12.2s\n",
      "[Parallel(n_jobs=-1)]: Done 1218 tasks      | elapsed:   19.5s\n",
      "[Parallel(n_jobs=-1)]: Done 1768 tasks      | elapsed:   28.2s\n",
      "[Parallel(n_jobs=-1)]: Done 2418 tasks      | elapsed:   38.8s\n",
      "[Parallel(n_jobs=-1)]: Done 3168 tasks      | elapsed:   50.9s\n",
      "[Parallel(n_jobs=-1)]: Done 3830 out of 3830 | elapsed:  1.0min finished\n"
     ]
    },
    {
     "name": "stdout",
     "output_type": "stream",
     "text": [
      "Stock 116 extending...\n"
     ]
    },
    {
     "name": "stderr",
     "output_type": "stream",
     "text": [
      "[Parallel(n_jobs=-1)]: Using backend LokyBackend with 16 concurrent workers.\n",
      "[Parallel(n_jobs=-1)]: Done  18 tasks      | elapsed:    0.7s\n",
      "[Parallel(n_jobs=-1)]: Done 168 tasks      | elapsed:    2.9s\n",
      "[Parallel(n_jobs=-1)]: Done 418 tasks      | elapsed:    6.7s\n",
      "[Parallel(n_jobs=-1)]: Done 768 tasks      | elapsed:   12.2s\n",
      "[Parallel(n_jobs=-1)]: Done 1218 tasks      | elapsed:   19.5s\n",
      "[Parallel(n_jobs=-1)]: Done 1768 tasks      | elapsed:   28.1s\n",
      "[Parallel(n_jobs=-1)]: Done 2418 tasks      | elapsed:   38.6s\n",
      "[Parallel(n_jobs=-1)]: Done 3168 tasks      | elapsed:   50.6s\n",
      "[Parallel(n_jobs=-1)]: Done 3830 out of 3830 | elapsed:  1.0min finished\n"
     ]
    },
    {
     "name": "stdout",
     "output_type": "stream",
     "text": [
      "Stock 118 extending...\n"
     ]
    },
    {
     "name": "stderr",
     "output_type": "stream",
     "text": [
      "[Parallel(n_jobs=-1)]: Using backend LokyBackend with 16 concurrent workers.\n",
      "[Parallel(n_jobs=-1)]: Done  18 tasks      | elapsed:    0.6s\n",
      "[Parallel(n_jobs=-1)]: Done 168 tasks      | elapsed:    2.9s\n",
      "[Parallel(n_jobs=-1)]: Done 418 tasks      | elapsed:    6.7s\n",
      "[Parallel(n_jobs=-1)]: Done 768 tasks      | elapsed:   12.3s\n",
      "[Parallel(n_jobs=-1)]: Done 1218 tasks      | elapsed:   19.5s\n",
      "[Parallel(n_jobs=-1)]: Done 1768 tasks      | elapsed:   28.0s\n",
      "[Parallel(n_jobs=-1)]: Done 2418 tasks      | elapsed:   38.5s\n",
      "[Parallel(n_jobs=-1)]: Done 3168 tasks      | elapsed:   50.5s\n",
      "[Parallel(n_jobs=-1)]: Done 3830 out of 3830 | elapsed:  1.0min finished\n"
     ]
    },
    {
     "name": "stdout",
     "output_type": "stream",
     "text": [
      "Stock 119 extending...\n"
     ]
    },
    {
     "name": "stderr",
     "output_type": "stream",
     "text": [
      "[Parallel(n_jobs=-1)]: Using backend LokyBackend with 16 concurrent workers.\n",
      "[Parallel(n_jobs=-1)]: Done  18 tasks      | elapsed:    0.8s\n",
      "[Parallel(n_jobs=-1)]: Done 168 tasks      | elapsed:    3.0s\n",
      "[Parallel(n_jobs=-1)]: Done 418 tasks      | elapsed:    6.8s\n",
      "[Parallel(n_jobs=-1)]: Done 768 tasks      | elapsed:   12.4s\n",
      "[Parallel(n_jobs=-1)]: Done 1218 tasks      | elapsed:   19.7s\n",
      "[Parallel(n_jobs=-1)]: Done 1768 tasks      | elapsed:   28.2s\n",
      "[Parallel(n_jobs=-1)]: Done 2418 tasks      | elapsed:   38.7s\n",
      "[Parallel(n_jobs=-1)]: Done 3168 tasks      | elapsed:   50.7s\n",
      "[Parallel(n_jobs=-1)]: Done 3830 out of 3830 | elapsed:  1.0min finished\n"
     ]
    },
    {
     "name": "stdout",
     "output_type": "stream",
     "text": [
      "Stock 120 extending...\n"
     ]
    },
    {
     "name": "stderr",
     "output_type": "stream",
     "text": [
      "[Parallel(n_jobs=-1)]: Using backend LokyBackend with 16 concurrent workers.\n",
      "[Parallel(n_jobs=-1)]: Done  18 tasks      | elapsed:    0.4s\n",
      "[Parallel(n_jobs=-1)]: Done 168 tasks      | elapsed:    2.7s\n",
      "[Parallel(n_jobs=-1)]: Done 418 tasks      | elapsed:    6.8s\n",
      "[Parallel(n_jobs=-1)]: Done 768 tasks      | elapsed:   12.6s\n",
      "[Parallel(n_jobs=-1)]: Done 1218 tasks      | elapsed:   20.1s\n",
      "[Parallel(n_jobs=-1)]: Done 1768 tasks      | elapsed:   28.9s\n",
      "[Parallel(n_jobs=-1)]: Done 2418 tasks      | elapsed:   39.4s\n",
      "[Parallel(n_jobs=-1)]: Done 3168 tasks      | elapsed:   51.5s\n",
      "[Parallel(n_jobs=-1)]: Done 3830 out of 3830 | elapsed:  1.0min finished\n"
     ]
    },
    {
     "name": "stdout",
     "output_type": "stream",
     "text": [
      "Stock 122 extending...\n"
     ]
    },
    {
     "name": "stderr",
     "output_type": "stream",
     "text": [
      "[Parallel(n_jobs=-1)]: Using backend LokyBackend with 16 concurrent workers.\n",
      "[Parallel(n_jobs=-1)]: Done  18 tasks      | elapsed:    0.4s\n",
      "[Parallel(n_jobs=-1)]: Done 304 tasks      | elapsed:    4.6s\n",
      "[Parallel(n_jobs=-1)]: Done 804 tasks      | elapsed:   11.6s\n",
      "[Parallel(n_jobs=-1)]: Done 1504 tasks      | elapsed:   21.7s\n",
      "[Parallel(n_jobs=-1)]: Done 2404 tasks      | elapsed:   35.1s\n",
      "[Parallel(n_jobs=-1)]: Done 3504 tasks      | elapsed:   51.0s\n",
      "[Parallel(n_jobs=-1)]: Done 3830 out of 3830 | elapsed:   55.6s finished\n"
     ]
    },
    {
     "name": "stdout",
     "output_type": "stream",
     "text": [
      "Stock 123 extending...\n"
     ]
    },
    {
     "name": "stderr",
     "output_type": "stream",
     "text": [
      "[Parallel(n_jobs=-1)]: Using backend LokyBackend with 16 concurrent workers.\n",
      "[Parallel(n_jobs=-1)]: Done  18 tasks      | elapsed:    0.3s\n",
      "[Parallel(n_jobs=-1)]: Done 168 tasks      | elapsed:    2.6s\n",
      "[Parallel(n_jobs=-1)]: Done 418 tasks      | elapsed:    6.4s\n",
      "[Parallel(n_jobs=-1)]: Done 768 tasks      | elapsed:   11.9s\n",
      "[Parallel(n_jobs=-1)]: Done 1218 tasks      | elapsed:   19.2s\n",
      "[Parallel(n_jobs=-1)]: Done 1768 tasks      | elapsed:   27.8s\n",
      "[Parallel(n_jobs=-1)]: Done 2418 tasks      | elapsed:   38.2s\n",
      "[Parallel(n_jobs=-1)]: Done 3168 tasks      | elapsed:   50.3s\n",
      "[Parallel(n_jobs=-1)]: Done 3830 out of 3830 | elapsed:  1.0min finished\n"
     ]
    },
    {
     "name": "stdout",
     "output_type": "stream",
     "text": [
      "Stock 124 extending...\n"
     ]
    },
    {
     "name": "stderr",
     "output_type": "stream",
     "text": [
      "[Parallel(n_jobs=-1)]: Using backend LokyBackend with 16 concurrent workers.\n",
      "[Parallel(n_jobs=-1)]: Done  18 tasks      | elapsed:    0.3s\n",
      "[Parallel(n_jobs=-1)]: Done 304 tasks      | elapsed:    4.4s\n",
      "[Parallel(n_jobs=-1)]: Done 804 tasks      | elapsed:   11.6s\n",
      "[Parallel(n_jobs=-1)]: Done 1504 tasks      | elapsed:   21.6s\n",
      "[Parallel(n_jobs=-1)]: Done 2404 tasks      | elapsed:   34.7s\n",
      "[Parallel(n_jobs=-1)]: Done 3504 tasks      | elapsed:   50.6s\n",
      "[Parallel(n_jobs=-1)]: Done 3799 out of 3830 | elapsed:   54.8s remaining:    0.3s\n",
      "[Parallel(n_jobs=-1)]: Done 3830 out of 3830 | elapsed:   55.2s finished\n"
     ]
    },
    {
     "name": "stdout",
     "output_type": "stream",
     "text": [
      "Stock 125 extending...\n"
     ]
    },
    {
     "name": "stderr",
     "output_type": "stream",
     "text": [
      "[Parallel(n_jobs=-1)]: Using backend LokyBackend with 16 concurrent workers.\n",
      "[Parallel(n_jobs=-1)]: Done  18 tasks      | elapsed:    0.3s\n",
      "[Parallel(n_jobs=-1)]: Done 168 tasks      | elapsed:    2.6s\n",
      "[Parallel(n_jobs=-1)]: Done 418 tasks      | elapsed:    6.4s\n",
      "[Parallel(n_jobs=-1)]: Done 768 tasks      | elapsed:   11.9s\n",
      "[Parallel(n_jobs=-1)]: Done 1218 tasks      | elapsed:   19.0s\n",
      "[Parallel(n_jobs=-1)]: Done 1768 tasks      | elapsed:   27.7s\n",
      "[Parallel(n_jobs=-1)]: Done 2418 tasks      | elapsed:   38.2s\n",
      "[Parallel(n_jobs=-1)]: Done 3168 tasks      | elapsed:   50.2s\n",
      "[Parallel(n_jobs=-1)]: Done 3830 out of 3830 | elapsed:  1.0min finished\n"
     ]
    },
    {
     "name": "stdout",
     "output_type": "stream",
     "text": [
      "Stock 126 extending...\n"
     ]
    },
    {
     "name": "stderr",
     "output_type": "stream",
     "text": [
      "[Parallel(n_jobs=-1)]: Using backend LokyBackend with 16 concurrent workers.\n",
      "[Parallel(n_jobs=-1)]: Done  18 tasks      | elapsed:    0.3s\n",
      "[Parallel(n_jobs=-1)]: Done 304 tasks      | elapsed:    4.4s\n",
      "[Parallel(n_jobs=-1)]: Done 804 tasks      | elapsed:   11.6s\n",
      "[Parallel(n_jobs=-1)]: Done 1504 tasks      | elapsed:   21.7s\n",
      "[Parallel(n_jobs=-1)]: Done 2404 tasks      | elapsed:   35.1s\n",
      "[Parallel(n_jobs=-1)]: Done 3504 tasks      | elapsed:   51.0s\n",
      "[Parallel(n_jobs=-1)]: Done 3830 out of 3830 | elapsed:   55.7s finished\n"
     ]
    }
   ],
   "source": [
    "for stock_id in df.stock_id.unique()[:]:\n",
    "    print(f\"Stock {stock_id} extending...\")\n",
    "    # default will extend stocks by max possible chain length\n",
    "    extended_df = extend_times(df[df['stock_id']==stock_id], end=2)\n",
    "    extended_df.to_feather(f\"extend_three/stock_{stock_id}.fth\")   "
   ]
  },
  {
   "cell_type": "markdown",
   "metadata": {},
   "source": [
    "#### Extend to Max Chain Length"
   ]
  },
  {
   "cell_type": "code",
   "execution_count": null,
   "metadata": {},
   "outputs": [],
   "source": [
    "for stock_id in df.stock_id.unique()[6:]:\n",
    "    print(f\"Stock {stock_id} extending...\")\n",
    "    # default will extend stocks by max possible chain length\n",
    "    extended_df = extend_times(df[df['stock_id']==stock_id])\n",
    "    extended_df.to_feather(f\"extend_all/stock_{stock_id}.fth\")   # feather is even faster than hd5, can also use parquet"
   ]
  },
  {
   "cell_type": "code",
   "execution_count": null,
   "metadata": {},
   "outputs": [],
   "source": []
  }
 ],
 "metadata": {
  "kernelspec": {
   "display_name": "Python 3 (ipykernel)",
   "language": "python",
   "name": "python3"
  },
  "language_info": {
   "codemirror_mode": {
    "name": "ipython",
    "version": 3
   },
   "file_extension": ".py",
   "mimetype": "text/x-python",
   "name": "python",
   "nbconvert_exporter": "python",
   "pygments_lexer": "ipython3",
   "version": "3.9.7"
  }
 },
 "nbformat": 4,
 "nbformat_minor": 2
}
