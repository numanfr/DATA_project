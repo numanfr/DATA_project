{
 "cells": [
  {
   "cell_type": "code",
   "execution_count": 1,
   "id": "c376d5da",
   "metadata": {},
   "outputs": [],
   "source": [
    "import pandas as pd\n",
    "import glob \n",
    "import os\n",
    "import numpy as np"
   ]
  },
  {
   "cell_type": "code",
   "execution_count": 2,
   "id": "35e581ef",
   "metadata": {},
   "outputs": [
    {
     "data": {
      "text/plain": [
       "3830"
      ]
     },
     "execution_count": 2,
     "metadata": {},
     "output_type": "execute_result"
    }
   ],
   "source": [
    "files = glob.glob(os.path.join(\"./individual_book_train\", \"*.csv\"))\n",
    "time_ids = pd.read_csv(files[0]).time_id.unique()\n",
    "len(time_ids)"
   ]
  },
  {
   "cell_type": "code",
   "execution_count": 3,
   "id": "8a221c58",
   "metadata": {},
   "outputs": [
    {
     "data": {
      "text/html": [
       "<div>\n",
       "<style scoped>\n",
       "    .dataframe tbody tr th:only-of-type {\n",
       "        vertical-align: middle;\n",
       "    }\n",
       "\n",
       "    .dataframe tbody tr th {\n",
       "        vertical-align: top;\n",
       "    }\n",
       "\n",
       "    .dataframe thead th {\n",
       "        text-align: right;\n",
       "    }\n",
       "</style>\n",
       "<table border=\"1\" class=\"dataframe\">\n",
       "  <thead>\n",
       "    <tr style=\"text-align: right;\">\n",
       "      <th></th>\n",
       "      <th>stock_id</th>\n",
       "      <th>beta</th>\n",
       "      <th>dom</th>\n",
       "      <th>spread</th>\n",
       "      <th>time_id</th>\n",
       "    </tr>\n",
       "  </thead>\n",
       "  <tbody>\n",
       "    <tr>\n",
       "      <th>0</th>\n",
       "      <td>0</td>\n",
       "      <td>1.208072</td>\n",
       "      <td>313.922175</td>\n",
       "      <td>0.000865</td>\n",
       "      <td>5</td>\n",
       "    </tr>\n",
       "    <tr>\n",
       "      <th>1</th>\n",
       "      <td>0</td>\n",
       "      <td>1.980593</td>\n",
       "      <td>418.455686</td>\n",
       "      <td>0.000639</td>\n",
       "      <td>27524</td>\n",
       "    </tr>\n",
       "    <tr>\n",
       "      <th>2</th>\n",
       "      <td>0</td>\n",
       "      <td>2.820983</td>\n",
       "      <td>414.033477</td>\n",
       "      <td>0.000979</td>\n",
       "      <td>6854</td>\n",
       "    </tr>\n",
       "    <tr>\n",
       "      <th>3</th>\n",
       "      <td>0</td>\n",
       "      <td>-1.598820</td>\n",
       "      <td>274.656278</td>\n",
       "      <td>0.000601</td>\n",
       "      <td>32739</td>\n",
       "    </tr>\n",
       "    <tr>\n",
       "      <th>4</th>\n",
       "      <td>0</td>\n",
       "      <td>1.686366</td>\n",
       "      <td>302.788762</td>\n",
       "      <td>0.003428</td>\n",
       "      <td>27711</td>\n",
       "    </tr>\n",
       "    <tr>\n",
       "      <th>...</th>\n",
       "      <td>...</td>\n",
       "      <td>...</td>\n",
       "      <td>...</td>\n",
       "      <td>...</td>\n",
       "      <td>...</td>\n",
       "    </tr>\n",
       "    <tr>\n",
       "      <th>300267</th>\n",
       "      <td>126</td>\n",
       "      <td>1.677681</td>\n",
       "      <td>490.730845</td>\n",
       "      <td>0.004321</td>\n",
       "      <td>11043</td>\n",
       "    </tr>\n",
       "    <tr>\n",
       "      <th>300268</th>\n",
       "      <td>126</td>\n",
       "      <td>-0.026515</td>\n",
       "      <td>330.468724</td>\n",
       "      <td>0.000797</td>\n",
       "      <td>2992</td>\n",
       "    </tr>\n",
       "    <tr>\n",
       "      <th>300269</th>\n",
       "      <td>126</td>\n",
       "      <td>1.235503</td>\n",
       "      <td>287.817862</td>\n",
       "      <td>0.000950</td>\n",
       "      <td>8773</td>\n",
       "    </tr>\n",
       "    <tr>\n",
       "      <th>300270</th>\n",
       "      <td>126</td>\n",
       "      <td>3.390689</td>\n",
       "      <td>520.415484</td>\n",
       "      <td>0.000895</td>\n",
       "      <td>16978</td>\n",
       "    </tr>\n",
       "    <tr>\n",
       "      <th>300271</th>\n",
       "      <td>126</td>\n",
       "      <td>-3.273342</td>\n",
       "      <td>337.609549</td>\n",
       "      <td>0.000662</td>\n",
       "      <td>17169</td>\n",
       "    </tr>\n",
       "  </tbody>\n",
       "</table>\n",
       "<p>300272 rows × 5 columns</p>\n",
       "</div>"
      ],
      "text/plain": [
       "        stock_id      beta         dom    spread  time_id\n",
       "0              0  1.208072  313.922175  0.000865        5\n",
       "1              0  1.980593  418.455686  0.000639    27524\n",
       "2              0  2.820983  414.033477  0.000979     6854\n",
       "3              0 -1.598820  274.656278  0.000601    32739\n",
       "4              0  1.686366  302.788762  0.003428    27711\n",
       "...          ...       ...         ...       ...      ...\n",
       "300267       126  1.677681  490.730845  0.004321    11043\n",
       "300268       126 -0.026515  330.468724  0.000797     2992\n",
       "300269       126  1.235503  287.817862  0.000950     8773\n",
       "300270       126  3.390689  520.415484  0.000895    16978\n",
       "300271       126 -3.273342  337.609549  0.000662    17169\n",
       "\n",
       "[300272 rows x 5 columns]"
      ]
     },
     "execution_count": 3,
     "metadata": {},
     "output_type": "execute_result"
    }
   ],
   "source": [
    "stocks = pd.read_csv(\"all_times.csv\")\n",
    "stocks"
   ]
  },
  {
   "cell_type": "code",
   "execution_count": 4,
   "id": "22096446",
   "metadata": {},
   "outputs": [
    {
     "data": {
      "text/plain": [
       "2681"
      ]
     },
     "execution_count": 4,
     "metadata": {},
     "output_type": "execute_result"
    }
   ],
   "source": [
    "len(stocks.time_id.unique())"
   ]
  },
  {
   "cell_type": "code",
   "execution_count": 5,
   "id": "e8d877d0",
   "metadata": {},
   "outputs": [
    {
     "data": {
      "text/plain": [
       "0.7"
      ]
     },
     "execution_count": 5,
     "metadata": {},
     "output_type": "execute_result"
    }
   ],
   "source": [
    "len(stocks.time_id.unique()) / len(time_ids)"
   ]
  },
  {
   "cell_type": "code",
   "execution_count": 6,
   "id": "d63bf5aa",
   "metadata": {},
   "outputs": [
    {
     "data": {
      "text/plain": [
       "1149"
      ]
     },
     "execution_count": 6,
     "metadata": {},
     "output_type": "execute_result"
    }
   ],
   "source": [
    " len(time_ids) - len(stocks.time_id.unique())"
   ]
  },
  {
   "cell_type": "code",
   "execution_count": 7,
   "id": "c7e11c91",
   "metadata": {},
   "outputs": [
    {
     "data": {
      "text/plain": [
       "array([[<AxesSubplot:title={'center':'mean_beta'}>,\n",
       "        <AxesSubplot:title={'center':'mad_beta'}>],\n",
       "       [<AxesSubplot:title={'center':'mean_dom'}>,\n",
       "        <AxesSubplot:title={'center':'mad_dom'}>],\n",
       "       [<AxesSubplot:title={'center':'mean_spread'}>,\n",
       "        <AxesSubplot:title={'center':'mad_spread'}>]], dtype=object)"
      ]
     },
     "execution_count": 7,
     "metadata": {},
     "output_type": "execute_result"
    },
    {
     "data": {
      "image/png": "[encoded data removed]",
      "text/plain": [
       "<Figure size 1296x720 with 6 Axes>"
      ]
     },
     "metadata": {
      "needs_background": "light"
     },
     "output_type": "display_data"
    }
   ],
   "source": [
    "# storing averaged beta, dom & spread in dataframe for each\n",
    "stock_final = pd.DataFrame({\n",
    "    'stock_id': stocks['stock_id'].unique(),\n",
    "    'mean_beta': stocks.groupby(['stock_id'])['beta'].mean(),\n",
    "    #'sd_beta': stocks.groupby(['stock_id'])['beta'].std(),\n",
    "    #'var_beta': stocks.groupby(['stock_id'])['beta'].var(),\n",
    "    'mad_beta': stocks.groupby(['stock_id'])['beta'].mad(),\n",
    "\n",
    "    'mean_dom': stocks.groupby(['stock_id'])['dom'].mean(),\n",
    "    #'sd_dom': stocks.groupby(['stock_id'])['dom'].std(),\n",
    "    #'var_dom': stocks.groupby(['stock_id'])['dom'].var(),\n",
    "    'mad_dom': stocks.groupby(['stock_id'])['dom'].mad(),\n",
    "\n",
    "    'mean_spread': stocks.groupby(['stock_id'])['spread'].mean(),\n",
    "    #'sd_spread': stocks.groupby(['stock_id'])['spread'].std(),\n",
    "    #'var_spread': stocks.groupby(['stock_id'])['spread'].var(),\n",
    "    'mad_spread': stocks.groupby(['stock_id'])['spread'].mad()\n",
    "})\n",
    "\n",
    "s = stock_final.reset_index(drop=True)\n",
    "s.iloc[:,1:].hist(figsize = (18,10))"
   ]
  },
  {
   "cell_type": "code",
   "execution_count": 8,
   "id": "8e1fcf0e",
   "metadata": {},
   "outputs": [],
   "source": [
    "#s[s['stock_id'] == 31]\n",
    "\n",
    "#s = s.drop(index=28)"
   ]
  },
  {
   "cell_type": "code",
   "execution_count": 9,
   "id": "9b5ad040",
   "metadata": {},
   "outputs": [
    {
     "data": {
      "text/plain": [
       "array([[<AxesSubplot:title={'center':'mean_beta'}>,\n",
       "        <AxesSubplot:title={'center':'mad_beta'}>,\n",
       "        <AxesSubplot:title={'center':'mean_dom'}>],\n",
       "       [<AxesSubplot:title={'center':'mad_dom'}>,\n",
       "        <AxesSubplot:title={'center':'mean_spread'}>,\n",
       "        <AxesSubplot:title={'center':'mad_spread'}>],\n",
       "       [<AxesSubplot:title={'center':'mean_ldom'}>,\n",
       "        <AxesSubplot:title={'center':'mad_ldom'}>, <AxesSubplot:>]],\n",
       "      dtype=object)"
      ]
     },
     "execution_count": 9,
     "metadata": {},
     "output_type": "execute_result"
    },
    {
     "data": {
      "image/png": "[encoded data removed]",
      "text/plain": [
       "<Figure size 1296x720 with 9 Axes>"
      ]
     },
     "metadata": {
      "needs_background": "light"
     },
     "output_type": "display_data"
    }
   ],
   "source": [
    "import numpy as np\n",
    "\n",
    "s['mean_ldom'] = np.log(s['mean_dom'])\n",
    "#s['sd_ldom'] = np.log(s['sd_dom'])\n",
    "#s['var_ldom'] = np.log(s['var_dom'])\n",
    "s['mad_ldom'] = np.log(s['mad_dom'])\n",
    "\n",
    "s.iloc[:,1:].hist(figsize = (18,10))"
   ]
  },
  {
   "cell_type": "code",
   "execution_count": 10,
   "id": "74d0341d",
   "metadata": {},
   "outputs": [
    {
     "data": {
      "text/html": [
       "<div>\n",
       "<style scoped>\n",
       "    .dataframe tbody tr th:only-of-type {\n",
       "        vertical-align: middle;\n",
       "    }\n",
       "\n",
       "    .dataframe tbody tr th {\n",
       "        vertical-align: top;\n",
       "    }\n",
       "\n",
       "    .dataframe thead th {\n",
       "        text-align: right;\n",
       "    }\n",
       "</style>\n",
       "<table border=\"1\" class=\"dataframe\">\n",
       "  <thead>\n",
       "    <tr style=\"text-align: right;\">\n",
       "      <th></th>\n",
       "      <th>mean_beta</th>\n",
       "      <th>mean_spread</th>\n",
       "      <th>mad_ldom</th>\n",
       "    </tr>\n",
       "  </thead>\n",
       "  <tbody>\n",
       "    <tr>\n",
       "      <th>0</th>\n",
       "      <td>0.909075</td>\n",
       "      <td>0.001023</td>\n",
       "      <td>4.357395</td>\n",
       "    </tr>\n",
       "    <tr>\n",
       "      <th>1</th>\n",
       "      <td>1.485633</td>\n",
       "      <td>0.000713</td>\n",
       "      <td>4.842432</td>\n",
       "    </tr>\n",
       "    <tr>\n",
       "      <th>2</th>\n",
       "      <td>0.361341</td>\n",
       "      <td>0.000256</td>\n",
       "      <td>5.459968</td>\n",
       "    </tr>\n",
       "    <tr>\n",
       "      <th>3</th>\n",
       "      <td>1.862673</td>\n",
       "      <td>0.001076</td>\n",
       "      <td>4.914483</td>\n",
       "    </tr>\n",
       "    <tr>\n",
       "      <th>4</th>\n",
       "      <td>0.740167</td>\n",
       "      <td>0.000912</td>\n",
       "      <td>4.269147</td>\n",
       "    </tr>\n",
       "    <tr>\n",
       "      <th>...</th>\n",
       "      <td>...</td>\n",
       "      <td>...</td>\n",
       "      <td>...</td>\n",
       "    </tr>\n",
       "    <tr>\n",
       "      <th>107</th>\n",
       "      <td>1.317554</td>\n",
       "      <td>0.000629</td>\n",
       "      <td>4.649761</td>\n",
       "    </tr>\n",
       "    <tr>\n",
       "      <th>108</th>\n",
       "      <td>0.836198</td>\n",
       "      <td>0.000231</td>\n",
       "      <td>6.430569</td>\n",
       "    </tr>\n",
       "    <tr>\n",
       "      <th>109</th>\n",
       "      <td>1.670008</td>\n",
       "      <td>0.000204</td>\n",
       "      <td>7.607556</td>\n",
       "    </tr>\n",
       "    <tr>\n",
       "      <th>110</th>\n",
       "      <td>0.484945</td>\n",
       "      <td>0.000228</td>\n",
       "      <td>7.102247</td>\n",
       "    </tr>\n",
       "    <tr>\n",
       "      <th>111</th>\n",
       "      <td>1.509851</td>\n",
       "      <td>0.001114</td>\n",
       "      <td>4.276237</td>\n",
       "    </tr>\n",
       "  </tbody>\n",
       "</table>\n",
       "<p>112 rows × 3 columns</p>\n",
       "</div>"
      ],
      "text/plain": [
       "     mean_beta  mean_spread  mad_ldom\n",
       "0     0.909075     0.001023  4.357395\n",
       "1     1.485633     0.000713  4.842432\n",
       "2     0.361341     0.000256  5.459968\n",
       "3     1.862673     0.001076  4.914483\n",
       "4     0.740167     0.000912  4.269147\n",
       "..         ...          ...       ...\n",
       "107   1.317554     0.000629  4.649761\n",
       "108   0.836198     0.000231  6.430569\n",
       "109   1.670008     0.000204  7.607556\n",
       "110   0.484945     0.000228  7.102247\n",
       "111   1.509851     0.001114  4.276237\n",
       "\n",
       "[112 rows x 3 columns]"
      ]
     },
     "execution_count": 10,
     "metadata": {},
     "output_type": "execute_result"
    }
   ],
   "source": [
    "df = pd.concat([s.iloc[:,1:2], s.iloc[:,5:6], s.iloc[:,8:9]], axis=1)\n",
    "df"
   ]
  },
  {
   "cell_type": "code",
   "execution_count": 11,
   "id": "a8764a86",
   "metadata": {},
   "outputs": [
    {
     "data": {
      "text/html": [
       "<div>\n",
       "<style scoped>\n",
       "    .dataframe tbody tr th:only-of-type {\n",
       "        vertical-align: middle;\n",
       "    }\n",
       "\n",
       "    .dataframe tbody tr th {\n",
       "        vertical-align: top;\n",
       "    }\n",
       "\n",
       "    .dataframe thead th {\n",
       "        text-align: right;\n",
       "    }\n",
       "</style>\n",
       "<table border=\"1\" class=\"dataframe\">\n",
       "  <thead>\n",
       "    <tr style=\"text-align: right;\">\n",
       "      <th></th>\n",
       "      <th>count</th>\n",
       "      <th>mean</th>\n",
       "      <th>std</th>\n",
       "      <th>min</th>\n",
       "      <th>25%</th>\n",
       "      <th>50%</th>\n",
       "      <th>75%</th>\n",
       "      <th>max</th>\n",
       "    </tr>\n",
       "  </thead>\n",
       "  <tbody>\n",
       "    <tr>\n",
       "      <th>mean_beta</th>\n",
       "      <td>112.0</td>\n",
       "      <td>1.000000</td>\n",
       "      <td>0.359032</td>\n",
       "      <td>0.361341</td>\n",
       "      <td>0.751656</td>\n",
       "      <td>0.946323</td>\n",
       "      <td>1.225323</td>\n",
       "      <td>1.862673</td>\n",
       "    </tr>\n",
       "    <tr>\n",
       "      <th>mean_spread</th>\n",
       "      <td>112.0</td>\n",
       "      <td>0.000657</td>\n",
       "      <td>0.000397</td>\n",
       "      <td>0.000046</td>\n",
       "      <td>0.000353</td>\n",
       "      <td>0.000581</td>\n",
       "      <td>0.000921</td>\n",
       "      <td>0.002167</td>\n",
       "    </tr>\n",
       "    <tr>\n",
       "      <th>mad_ldom</th>\n",
       "      <td>112.0</td>\n",
       "      <td>5.497453</td>\n",
       "      <td>1.433913</td>\n",
       "      <td>3.668302</td>\n",
       "      <td>4.436289</td>\n",
       "      <td>5.017196</td>\n",
       "      <td>6.286489</td>\n",
       "      <td>11.450786</td>\n",
       "    </tr>\n",
       "  </tbody>\n",
       "</table>\n",
       "</div>"
      ],
      "text/plain": [
       "             count      mean       std       min       25%       50%  \\\n",
       "mean_beta    112.0  1.000000  0.359032  0.361341  0.751656  0.946323   \n",
       "mean_spread  112.0  0.000657  0.000397  0.000046  0.000353  0.000581   \n",
       "mad_ldom     112.0  5.497453  1.433913  3.668302  4.436289  5.017196   \n",
       "\n",
       "                  75%        max  \n",
       "mean_beta    1.225323   1.862673  \n",
       "mean_spread  0.000921   0.002167  \n",
       "mad_ldom     6.286489  11.450786  "
      ]
     },
     "execution_count": 11,
     "metadata": {},
     "output_type": "execute_result"
    }
   ],
   "source": [
    "df.describe().transpose()"
   ]
  },
  {
   "cell_type": "code",
   "execution_count": null,
   "id": "d2ebd265",
   "metadata": {},
   "outputs": [],
   "source": [
    "from sklearn.preprocessing import StandardScaler\n",
    "from sklearn.decomposition import PCA\n",
    "import matplotlib.pyplot as plt\n",
    "\n",
    "scaler = StandardScaler()\n",
    "X_norm = scaler.fit_transform(df)\n",
    "\n",
    "\n",
    "# PCA with 2 components for graphing\n",
    "pca = PCA(n_components=2)\n",
    "\n",
    "X_pca = pca.fit_transform(X_norm)\n",
    "\n",
    "# Plot the transformed data\n",
    "plt.scatter(X_pca[:, 0], X_pca[:, 1])\n",
    "plt.xlabel('PC1')\n",
    "plt.ylabel('PC2')\n",
    "plt.show()"
   ]
  },
  {
   "cell_type": "code",
   "execution_count": null,
   "id": "e64cef6f",
   "metadata": {},
   "outputs": [],
   "source": [
    "from sklearn.cluster import KMeans\n",
    "\n",
    "# K-means clustering with unknown number of clusters\n",
    "wcss = []\n",
    "for i in range(2, 11):\n",
    "    kmeans = KMeans(n_clusters=i, init='k-means++', random_state=0)\n",
    "    kmeans.fit(X_norm)\n",
    "    wcss.append(kmeans.inertia_)\n",
    "\n",
    "# Plot elbow method\n",
    "plt.plot(range(2, 11), wcss)\n",
    "plt.title('Elbow Method')\n",
    "plt.xlabel('Number of Clusters')\n",
    "plt.ylabel('WCSS')\n",
    "plt.show()"
   ]
  },
  {
   "cell_type": "code",
   "execution_count": null,
   "id": "3ef27085",
   "metadata": {},
   "outputs": [],
   "source": [
    "kmeans = KMeans(n_clusters=4, init='k-means++', random_state=0)\n",
    "kmeans.fit(X_norm)\n",
    "kmeans.labels_\n",
    "\n",
    "num_clusters = len(set(kmeans.labels_))\n",
    "\n",
    "# Print number of clusters\n",
    "print(f\"Estimated number of clusters: {num_clusters}\")\n",
    "\n",
    "# Plot clusters\n",
    "plt.scatter(X_pca[:, 0], X_pca[:, 1], c=kmeans.labels_, cmap='viridis')\n",
    "plt.title(f'KMeans Clustering (K={num_clusters})')\n",
    "plt.xlabel('PC1')\n",
    "plt.ylabel('PC2')\n",
    "plt.show()"
   ]
  },
  {
   "cell_type": "code",
   "execution_count": null,
   "id": "1cdabd66",
   "metadata": {},
   "outputs": [],
   "source": [
    "from scipy.cluster.hierarchy import dendrogram, linkage, fcluster\n",
    "\n",
    "# Hierarchical clustering\n",
    "Z = linkage(X_norm, method='ward')\n",
    "fig = plt.figure(figsize=(10, 5))\n",
    "dn = dendrogram(Z)\n",
    "plt.title('Dendrogram')\n",
    "plt.xlabel('Samples')\n",
    "plt.ylabel('Distance')\n",
    "plt.show()"
   ]
  },
  {
   "cell_type": "code",
   "execution_count": null,
   "id": "553f4044",
   "metadata": {},
   "outputs": [],
   "source": [
    "# Estimate number of clusters\n",
    "max_d = 6 # Maximum distance threshold\n",
    "clusters = fcluster(Z, max_d, criterion='distance')\n",
    "num_clusters = len(set(clusters))\n",
    "\n",
    "# Print number of clusters\n",
    "print(f\"Estimated number of clusters: {num_clusters}\")\n",
    "\n",
    "# Plot clusters\n",
    "plt.scatter(X_pca[:, 0], X_pca[:, 1], c=clusters, cmap='viridis')\n",
    "plt.title('Hierarchical Clustering with Max Distance Threshold')\n",
    "plt.xlabel('PC1')\n",
    "plt.ylabel('PC2')\n",
    "plt.show()"
   ]
  },
  {
   "cell_type": "code",
   "execution_count": null,
   "id": "e1e77e50",
   "metadata": {},
   "outputs": [],
   "source": [
    "from sklearn.cluster import DBSCAN\n",
    "\n",
    "# Density-based clustering with DBSCAN\n",
    "dbscan = DBSCAN(eps=0.5, min_samples=5)\n",
    "labels = dbscan.fit_predict(X_norm)\n",
    "plt.scatter(X_pca[:, 0], X_pca[:, 1], c=labels)\n",
    "plt.title('DBSCAN Clustering')\n",
    "plt.xlabel('PC1')\n",
    "plt.ylabel('PC2')\n",
    "plt.show()"
   ]
  },
  {
   "cell_type": "code",
   "execution_count": null,
   "id": "2b8a9497",
   "metadata": {},
   "outputs": [],
   "source": [
    "from sklearn.mixture import GaussianMixture\n",
    "\n",
    "# GMM clustering with AIC and BIC\n",
    "n_components = np.arange(2, 10)\n",
    "models = [GaussianMixture(n, covariance_type='full', random_state=0).fit(X_norm) for n in n_components]\n",
    "plt.plot(n_components, [m.aic(X_norm) for m in models], label='AIC')\n",
    "plt.plot(n_components, [m.bic(X_norm) for m in models], label='BIC')\n",
    "\n",
    "plt.title('AIC & BIC for GMM Clustering')\n",
    "plt.xlabel('Number of Components')\n",
    "plt.ylabel('Score')\n",
    "plt.legend(loc = 'best')\n",
    "\n",
    "plt.show()"
   ]
  },
  {
   "cell_type": "code",
   "execution_count": null,
   "id": "c6ee6d16",
   "metadata": {},
   "outputs": [],
   "source": [
    "# GMM clustering with optimal number of clusters\n",
    "gmm = GaussianMixture(n_components=5, covariance_type='full', random_state=0)\n",
    "labels = gmm.fit_predict(X_norm)\n",
    "plt.scatter(X_pca[:, 0], X_pca[:, 1], c=labels)\n",
    "plt.title('GMM Clustering')\n",
    "plt.xlabel('PC1')\n",
    "plt.ylabel('PC2')\n",
    "plt.show()"
   ]
  },
  {
   "cell_type": "code",
   "execution_count": null,
   "id": "9c0eeb55",
   "metadata": {},
   "outputs": [],
   "source": [
    "d = pd.read_csv(\"time/time_5.csv\").drop(\"time_id\",axis=1).iloc[:,2:]\n",
    "d['ldom'] = np.log(d['dom'])\n",
    "d.hist(figsize=(15, 10))"
   ]
  },
  {
   "cell_type": "code",
   "execution_count": null,
   "id": "3f14689c",
   "metadata": {},
   "outputs": [],
   "source": [
    "d = pd.read_csv(\"time/time_31034.csv\").drop(\"time_id\",axis=1).iloc[:,2:]\n",
    "d['ldom'] = np.log(d['dom'])\n",
    "d.hist(figsize=(15, 10))"
   ]
  },
  {
   "cell_type": "code",
   "execution_count": null,
   "id": "d966e734",
   "metadata": {},
   "outputs": [],
   "source": [
    "d = pd.read_csv(\"time/time_31071.csv\").drop(\"time_id\",axis=1).iloc[:,2:]\n",
    "d['ldom'] = np.log(d['dom'])\n",
    "d.hist(figsize=(15, 10))"
   ]
  }
 ],
 "metadata": {
  "kernelspec": {
   "display_name": "Python 3 (ipykernel)",
   "language": "python",
   "name": "python3"
  },
  "language_info": {
   "codemirror_mode": {
    "name": "ipython",
    "version": 3
   },
   "file_extension": ".py",
   "mimetype": "text/x-python",
   "name": "python",
   "nbconvert_exporter": "python",
   "pygments_lexer": "ipython3",
   "version": "3.9.7"
  }
 },
 "nbformat": 4,
 "nbformat_minor": 5
}
